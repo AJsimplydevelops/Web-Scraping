{
 "cells": [
  {
   "cell_type": "code",
   "execution_count": 2,
   "metadata": {},
   "outputs": [],
   "source": [
    "import pandas as pd\n",
    "import plotly.express as px\n",
    "import plotly.graph_objects as go\n",
    "pd.set_option('display.max_columns', None)\n",
    "\n",
    "data = pd.read_excel('nba_player_data.xlsx')"
   ]
  },
  {
   "cell_type": "code",
   "execution_count": 3,
   "metadata": {},
   "outputs": [
    {
     "data": {
      "text/html": [
       "<div>\n",
       "<style scoped>\n",
       "    .dataframe tbody tr th:only-of-type {\n",
       "        vertical-align: middle;\n",
       "    }\n",
       "\n",
       "    .dataframe tbody tr th {\n",
       "        vertical-align: top;\n",
       "    }\n",
       "\n",
       "    .dataframe thead th {\n",
       "        text-align: right;\n",
       "    }\n",
       "</style>\n",
       "<table border=\"1\" class=\"dataframe\">\n",
       "  <thead>\n",
       "    <tr style=\"text-align: right;\">\n",
       "      <th></th>\n",
       "      <th>Year</th>\n",
       "      <th>Season_type</th>\n",
       "      <th>PLAYER_ID</th>\n",
       "      <th>RANK</th>\n",
       "      <th>PLAYER</th>\n",
       "      <th>TEAM_ID</th>\n",
       "      <th>TEAM</th>\n",
       "      <th>GP</th>\n",
       "      <th>MIN</th>\n",
       "      <th>FGM</th>\n",
       "      <th>FGA</th>\n",
       "      <th>FG_PCT</th>\n",
       "      <th>FG3M</th>\n",
       "      <th>FG3A</th>\n",
       "      <th>FG3_PCT</th>\n",
       "      <th>FTM</th>\n",
       "      <th>FTA</th>\n",
       "      <th>FT_PCT</th>\n",
       "      <th>OREB</th>\n",
       "      <th>DREB</th>\n",
       "      <th>REB</th>\n",
       "      <th>AST</th>\n",
       "      <th>STL</th>\n",
       "      <th>BLK</th>\n",
       "      <th>TOV</th>\n",
       "      <th>PTS</th>\n",
       "      <th>EFF</th>\n",
       "    </tr>\n",
       "  </thead>\n",
       "  <tbody>\n",
       "    <tr>\n",
       "      <th>749</th>\n",
       "      <td>2015-16</td>\n",
       "      <td>Playoffs</td>\n",
       "      <td>2738</td>\n",
       "      <td>69</td>\n",
       "      <td>Andre Iguodala</td>\n",
       "      <td>1610612744</td>\n",
       "      <td>GSW</td>\n",
       "      <td>24</td>\n",
       "      <td>32.0</td>\n",
       "      <td>3.3</td>\n",
       "      <td>6.8</td>\n",
       "      <td>0.476</td>\n",
       "      <td>1.0</td>\n",
       "      <td>2.7</td>\n",
       "      <td>0.385</td>\n",
       "      <td>1.3</td>\n",
       "      <td>2.4</td>\n",
       "      <td>0.561</td>\n",
       "      <td>1.5</td>\n",
       "      <td>2.9</td>\n",
       "      <td>4.4</td>\n",
       "      <td>3.8</td>\n",
       "      <td>1.2</td>\n",
       "      <td>0.4</td>\n",
       "      <td>1.0</td>\n",
       "      <td>8.9</td>\n",
       "      <td>13.0</td>\n",
       "    </tr>\n",
       "    <tr>\n",
       "      <th>3442</th>\n",
       "      <td>2022-23</td>\n",
       "      <td>Playoffs</td>\n",
       "      <td>1629057</td>\n",
       "      <td>103</td>\n",
       "      <td>Robert Williams III</td>\n",
       "      <td>1610612738</td>\n",
       "      <td>BOS</td>\n",
       "      <td>11</td>\n",
       "      <td>20.6</td>\n",
       "      <td>2.8</td>\n",
       "      <td>3.2</td>\n",
       "      <td>0.886</td>\n",
       "      <td>0.0</td>\n",
       "      <td>0.0</td>\n",
       "      <td>0.000</td>\n",
       "      <td>0.8</td>\n",
       "      <td>1.2</td>\n",
       "      <td>0.692</td>\n",
       "      <td>1.5</td>\n",
       "      <td>4.7</td>\n",
       "      <td>6.3</td>\n",
       "      <td>1.3</td>\n",
       "      <td>0.6</td>\n",
       "      <td>1.4</td>\n",
       "      <td>0.8</td>\n",
       "      <td>6.5</td>\n",
       "      <td>14.5</td>\n",
       "    </tr>\n",
       "    <tr>\n",
       "      <th>3158</th>\n",
       "      <td>2022-23</td>\n",
       "      <td>Regular%20Season</td>\n",
       "      <td>1631093</td>\n",
       "      <td>65</td>\n",
       "      <td>Jaden Ivey</td>\n",
       "      <td>1610612765</td>\n",
       "      <td>DET</td>\n",
       "      <td>74</td>\n",
       "      <td>31.1</td>\n",
       "      <td>5.5</td>\n",
       "      <td>13.3</td>\n",
       "      <td>0.416</td>\n",
       "      <td>1.6</td>\n",
       "      <td>4.7</td>\n",
       "      <td>0.343</td>\n",
       "      <td>3.6</td>\n",
       "      <td>4.8</td>\n",
       "      <td>0.747</td>\n",
       "      <td>1.0</td>\n",
       "      <td>2.9</td>\n",
       "      <td>3.9</td>\n",
       "      <td>5.2</td>\n",
       "      <td>0.8</td>\n",
       "      <td>0.2</td>\n",
       "      <td>3.2</td>\n",
       "      <td>16.3</td>\n",
       "      <td>14.3</td>\n",
       "    </tr>\n",
       "    <tr>\n",
       "      <th>938</th>\n",
       "      <td>2016-17</td>\n",
       "      <td>Regular%20Season</td>\n",
       "      <td>203145</td>\n",
       "      <td>104</td>\n",
       "      <td>Kent Bazemore</td>\n",
       "      <td>1610612737</td>\n",
       "      <td>ATL</td>\n",
       "      <td>73</td>\n",
       "      <td>26.9</td>\n",
       "      <td>4.0</td>\n",
       "      <td>9.9</td>\n",
       "      <td>0.409</td>\n",
       "      <td>1.3</td>\n",
       "      <td>3.6</td>\n",
       "      <td>0.346</td>\n",
       "      <td>1.6</td>\n",
       "      <td>2.3</td>\n",
       "      <td>0.708</td>\n",
       "      <td>0.6</td>\n",
       "      <td>2.5</td>\n",
       "      <td>3.2</td>\n",
       "      <td>2.4</td>\n",
       "      <td>1.2</td>\n",
       "      <td>0.7</td>\n",
       "      <td>1.7</td>\n",
       "      <td>11.0</td>\n",
       "      <td>10.3</td>\n",
       "    </tr>\n",
       "    <tr>\n",
       "      <th>622</th>\n",
       "      <td>2015-16</td>\n",
       "      <td>Regular%20Season</td>\n",
       "      <td>203118</td>\n",
       "      <td>213</td>\n",
       "      <td>Mike Scott</td>\n",
       "      <td>1610612737</td>\n",
       "      <td>ATL</td>\n",
       "      <td>75</td>\n",
       "      <td>15.3</td>\n",
       "      <td>2.3</td>\n",
       "      <td>5.0</td>\n",
       "      <td>0.468</td>\n",
       "      <td>0.8</td>\n",
       "      <td>2.1</td>\n",
       "      <td>0.392</td>\n",
       "      <td>0.7</td>\n",
       "      <td>0.8</td>\n",
       "      <td>0.794</td>\n",
       "      <td>0.7</td>\n",
       "      <td>2.0</td>\n",
       "      <td>2.7</td>\n",
       "      <td>1.0</td>\n",
       "      <td>0.3</td>\n",
       "      <td>0.2</td>\n",
       "      <td>0.6</td>\n",
       "      <td>6.2</td>\n",
       "      <td>7.1</td>\n",
       "    </tr>\n",
       "    <tr>\n",
       "      <th>1163</th>\n",
       "      <td>2016-17</td>\n",
       "      <td>Playoffs</td>\n",
       "      <td>2772</td>\n",
       "      <td>58</td>\n",
       "      <td>Trevor Ariza</td>\n",
       "      <td>1610612745</td>\n",
       "      <td>HOU</td>\n",
       "      <td>11</td>\n",
       "      <td>37.5</td>\n",
       "      <td>3.7</td>\n",
       "      <td>8.8</td>\n",
       "      <td>0.423</td>\n",
       "      <td>2.1</td>\n",
       "      <td>5.5</td>\n",
       "      <td>0.377</td>\n",
       "      <td>1.2</td>\n",
       "      <td>1.3</td>\n",
       "      <td>0.929</td>\n",
       "      <td>0.7</td>\n",
       "      <td>4.4</td>\n",
       "      <td>5.1</td>\n",
       "      <td>2.1</td>\n",
       "      <td>1.3</td>\n",
       "      <td>0.2</td>\n",
       "      <td>0.8</td>\n",
       "      <td>10.7</td>\n",
       "      <td>13.4</td>\n",
       "    </tr>\n",
       "    <tr>\n",
       "      <th>3242</th>\n",
       "      <td>2022-23</td>\n",
       "      <td>Regular%20Season</td>\n",
       "      <td>1628978</td>\n",
       "      <td>149</td>\n",
       "      <td>Donte DiVincenzo</td>\n",
       "      <td>1610612744</td>\n",
       "      <td>GSW</td>\n",
       "      <td>72</td>\n",
       "      <td>26.3</td>\n",
       "      <td>3.3</td>\n",
       "      <td>7.5</td>\n",
       "      <td>0.435</td>\n",
       "      <td>2.1</td>\n",
       "      <td>5.3</td>\n",
       "      <td>0.397</td>\n",
       "      <td>0.8</td>\n",
       "      <td>1.0</td>\n",
       "      <td>0.817</td>\n",
       "      <td>1.1</td>\n",
       "      <td>3.4</td>\n",
       "      <td>4.5</td>\n",
       "      <td>3.5</td>\n",
       "      <td>1.3</td>\n",
       "      <td>0.1</td>\n",
       "      <td>1.6</td>\n",
       "      <td>9.4</td>\n",
       "      <td>12.9</td>\n",
       "    </tr>\n",
       "    <tr>\n",
       "      <th>2824</th>\n",
       "      <td>2021-22</td>\n",
       "      <td>Regular%20Season</td>\n",
       "      <td>1629001</td>\n",
       "      <td>107</td>\n",
       "      <td>De'Anthony Melton</td>\n",
       "      <td>1610612763</td>\n",
       "      <td>MEM</td>\n",
       "      <td>73</td>\n",
       "      <td>22.7</td>\n",
       "      <td>3.8</td>\n",
       "      <td>9.5</td>\n",
       "      <td>0.404</td>\n",
       "      <td>1.9</td>\n",
       "      <td>5.1</td>\n",
       "      <td>0.374</td>\n",
       "      <td>1.2</td>\n",
       "      <td>1.6</td>\n",
       "      <td>0.750</td>\n",
       "      <td>0.9</td>\n",
       "      <td>3.6</td>\n",
       "      <td>4.5</td>\n",
       "      <td>2.7</td>\n",
       "      <td>1.4</td>\n",
       "      <td>0.5</td>\n",
       "      <td>1.5</td>\n",
       "      <td>10.8</td>\n",
       "      <td>12.3</td>\n",
       "    </tr>\n",
       "    <tr>\n",
       "      <th>2435</th>\n",
       "      <td>2020-21</td>\n",
       "      <td>Regular%20Season</td>\n",
       "      <td>1628977</td>\n",
       "      <td>102</td>\n",
       "      <td>Hamidou Diallo</td>\n",
       "      <td>1610612765</td>\n",
       "      <td>DET</td>\n",
       "      <td>52</td>\n",
       "      <td>23.6</td>\n",
       "      <td>4.3</td>\n",
       "      <td>9.0</td>\n",
       "      <td>0.477</td>\n",
       "      <td>0.5</td>\n",
       "      <td>1.6</td>\n",
       "      <td>0.341</td>\n",
       "      <td>2.5</td>\n",
       "      <td>3.8</td>\n",
       "      <td>0.640</td>\n",
       "      <td>1.1</td>\n",
       "      <td>4.1</td>\n",
       "      <td>5.2</td>\n",
       "      <td>1.9</td>\n",
       "      <td>0.8</td>\n",
       "      <td>0.5</td>\n",
       "      <td>1.5</td>\n",
       "      <td>11.6</td>\n",
       "      <td>12.5</td>\n",
       "    </tr>\n",
       "    <tr>\n",
       "      <th>3043</th>\n",
       "      <td>2021-22</td>\n",
       "      <td>Playoffs</td>\n",
       "      <td>201988</td>\n",
       "      <td>97</td>\n",
       "      <td>Patty Mills</td>\n",
       "      <td>1610612751</td>\n",
       "      <td>BKN</td>\n",
       "      <td>4</td>\n",
       "      <td>18.0</td>\n",
       "      <td>2.3</td>\n",
       "      <td>4.0</td>\n",
       "      <td>0.563</td>\n",
       "      <td>1.8</td>\n",
       "      <td>3.3</td>\n",
       "      <td>0.538</td>\n",
       "      <td>0.0</td>\n",
       "      <td>0.0</td>\n",
       "      <td>0.000</td>\n",
       "      <td>0.0</td>\n",
       "      <td>1.0</td>\n",
       "      <td>1.0</td>\n",
       "      <td>0.0</td>\n",
       "      <td>0.0</td>\n",
       "      <td>0.3</td>\n",
       "      <td>0.3</td>\n",
       "      <td>6.3</td>\n",
       "      <td>5.5</td>\n",
       "    </tr>\n",
       "  </tbody>\n",
       "</table>\n",
       "</div>"
      ],
      "text/plain": [
       "         Year       Season_type  PLAYER_ID  RANK               PLAYER   \n",
       "749   2015-16          Playoffs       2738    69       Andre Iguodala  \\\n",
       "3442  2022-23          Playoffs    1629057   103  Robert Williams III   \n",
       "3158  2022-23  Regular%20Season    1631093    65           Jaden Ivey   \n",
       "938   2016-17  Regular%20Season     203145   104        Kent Bazemore   \n",
       "622   2015-16  Regular%20Season     203118   213           Mike Scott   \n",
       "1163  2016-17          Playoffs       2772    58         Trevor Ariza   \n",
       "3242  2022-23  Regular%20Season    1628978   149     Donte DiVincenzo   \n",
       "2824  2021-22  Regular%20Season    1629001   107    De'Anthony Melton   \n",
       "2435  2020-21  Regular%20Season    1628977   102       Hamidou Diallo   \n",
       "3043  2021-22          Playoffs     201988    97          Patty Mills   \n",
       "\n",
       "         TEAM_ID TEAM  GP   MIN  FGM   FGA  FG_PCT  FG3M  FG3A  FG3_PCT  FTM   \n",
       "749   1610612744  GSW  24  32.0  3.3   6.8   0.476   1.0   2.7    0.385  1.3  \\\n",
       "3442  1610612738  BOS  11  20.6  2.8   3.2   0.886   0.0   0.0    0.000  0.8   \n",
       "3158  1610612765  DET  74  31.1  5.5  13.3   0.416   1.6   4.7    0.343  3.6   \n",
       "938   1610612737  ATL  73  26.9  4.0   9.9   0.409   1.3   3.6    0.346  1.6   \n",
       "622   1610612737  ATL  75  15.3  2.3   5.0   0.468   0.8   2.1    0.392  0.7   \n",
       "1163  1610612745  HOU  11  37.5  3.7   8.8   0.423   2.1   5.5    0.377  1.2   \n",
       "3242  1610612744  GSW  72  26.3  3.3   7.5   0.435   2.1   5.3    0.397  0.8   \n",
       "2824  1610612763  MEM  73  22.7  3.8   9.5   0.404   1.9   5.1    0.374  1.2   \n",
       "2435  1610612765  DET  52  23.6  4.3   9.0   0.477   0.5   1.6    0.341  2.5   \n",
       "3043  1610612751  BKN   4  18.0  2.3   4.0   0.563   1.8   3.3    0.538  0.0   \n",
       "\n",
       "      FTA  FT_PCT  OREB  DREB  REB  AST  STL  BLK  TOV   PTS   EFF  \n",
       "749   2.4   0.561   1.5   2.9  4.4  3.8  1.2  0.4  1.0   8.9  13.0  \n",
       "3442  1.2   0.692   1.5   4.7  6.3  1.3  0.6  1.4  0.8   6.5  14.5  \n",
       "3158  4.8   0.747   1.0   2.9  3.9  5.2  0.8  0.2  3.2  16.3  14.3  \n",
       "938   2.3   0.708   0.6   2.5  3.2  2.4  1.2  0.7  1.7  11.0  10.3  \n",
       "622   0.8   0.794   0.7   2.0  2.7  1.0  0.3  0.2  0.6   6.2   7.1  \n",
       "1163  1.3   0.929   0.7   4.4  5.1  2.1  1.3  0.2  0.8  10.7  13.4  \n",
       "3242  1.0   0.817   1.1   3.4  4.5  3.5  1.3  0.1  1.6   9.4  12.9  \n",
       "2824  1.6   0.750   0.9   3.6  4.5  2.7  1.4  0.5  1.5  10.8  12.3  \n",
       "2435  3.8   0.640   1.1   4.1  5.2  1.9  0.8  0.5  1.5  11.6  12.5  \n",
       "3043  0.0   0.000   0.0   1.0  1.0  0.0  0.0  0.3  0.3   6.3   5.5  "
      ]
     },
     "execution_count": 3,
     "metadata": {},
     "output_type": "execute_result"
    }
   ],
   "source": [
    "data.sample(10)"
   ]
  },
  {
   "cell_type": "code",
   "execution_count": 4,
   "metadata": {},
   "outputs": [
    {
     "data": {
      "text/plain": [
       "(3485, 27)"
      ]
     },
     "execution_count": 4,
     "metadata": {},
     "output_type": "execute_result"
    }
   ],
   "source": [
    "data.shape"
   ]
  },
  {
   "attachments": {},
   "cell_type": "markdown",
   "metadata": {},
   "source": [
    "# Data Cleaning & Analysis preparation"
   ]
  },
  {
   "cell_type": "code",
   "execution_count": 5,
   "metadata": {},
   "outputs": [],
   "source": [
    "data.drop(columns =['RANK', 'EFF'], inplace=True)"
   ]
  },
  {
   "cell_type": "code",
   "execution_count": 6,
   "metadata": {},
   "outputs": [],
   "source": [
    "data['season_start_year'] = data['Year'].str[:4].astype(int)"
   ]
  },
  {
   "cell_type": "code",
   "execution_count": 7,
   "metadata": {},
   "outputs": [],
   "source": [
    "data['TEAM'].replace(to_replace=['NOP', 'NOH'], value='NO', inplace=True)"
   ]
  },
  {
   "cell_type": "code",
   "execution_count": 8,
   "metadata": {},
   "outputs": [],
   "source": [
    "data['Season_type'].replace('Regular%20Season', 'RS', inplace=True)"
   ]
  },
  {
   "cell_type": "code",
   "execution_count": 9,
   "metadata": {},
   "outputs": [],
   "source": [
    "rs_df = data[data['Season_type']== 'RS']\n",
    "playoffs_df = data[data['Season_type']== 'Playoffs']"
   ]
  },
  {
   "cell_type": "code",
   "execution_count": 10,
   "metadata": {},
   "outputs": [
    {
     "data": {
      "text/plain": [
       "Index(['Year', 'Season_type', 'PLAYER_ID', 'PLAYER', 'TEAM_ID', 'TEAM', 'GP',\n",
       "       'MIN', 'FGM', 'FGA', 'FG_PCT', 'FG3M', 'FG3A', 'FG3_PCT', 'FTM', 'FTA',\n",
       "       'FT_PCT', 'OREB', 'DREB', 'REB', 'AST', 'STL', 'BLK', 'TOV', 'PTS',\n",
       "       'season_start_year'],\n",
       "      dtype='object')"
      ]
     },
     "execution_count": 10,
     "metadata": {},
     "output_type": "execute_result"
    }
   ],
   "source": [
    "data.columns"
   ]
  },
  {
   "cell_type": "code",
   "execution_count": 11,
   "metadata": {},
   "outputs": [],
   "source": [
    "total_cols = ['MIN', 'PTS', 'AST','REB', 'STL', 'BLK', 'OREB', 'DREB',\n",
    "              'FGM', 'FGA', 'FG3M', 'FG3A', 'FTM', 'FTA', 'TOV', 'GP']\n"
   ]
  },
  {
   "attachments": {},
   "cell_type": "markdown",
   "metadata": {},
   "source": [
    "# Which Player Stats are Correlated with each other?"
   ]
  },
  {
   "cell_type": "code",
   "execution_count": 12,
   "metadata": {},
   "outputs": [
    {
     "data": {
      "text/html": [
       "<div>\n",
       "<style scoped>\n",
       "    .dataframe tbody tr th:only-of-type {\n",
       "        vertical-align: middle;\n",
       "    }\n",
       "\n",
       "    .dataframe tbody tr th {\n",
       "        vertical-align: top;\n",
       "    }\n",
       "\n",
       "    .dataframe thead th {\n",
       "        text-align: right;\n",
       "    }\n",
       "</style>\n",
       "<table border=\"1\" class=\"dataframe\">\n",
       "  <thead>\n",
       "    <tr style=\"text-align: right;\">\n",
       "      <th></th>\n",
       "      <th>PLAYER</th>\n",
       "      <th>Year</th>\n",
       "      <th>MIN</th>\n",
       "      <th>PTS</th>\n",
       "      <th>AST</th>\n",
       "      <th>REB</th>\n",
       "      <th>STL</th>\n",
       "      <th>BLK</th>\n",
       "      <th>OREB</th>\n",
       "      <th>DREB</th>\n",
       "      <th>FGM</th>\n",
       "      <th>FGA</th>\n",
       "      <th>FG3M</th>\n",
       "      <th>FG3A</th>\n",
       "      <th>FTM</th>\n",
       "      <th>FTA</th>\n",
       "      <th>TOV</th>\n",
       "      <th>GP</th>\n",
       "      <th>FG%</th>\n",
       "      <th>3PT%</th>\n",
       "      <th>FT%</th>\n",
       "      <th>FG3A%</th>\n",
       "      <th>PTS/FGA</th>\n",
       "      <th>FG3M/FGM</th>\n",
       "      <th>FTA/FGA</th>\n",
       "      <th>TRU%</th>\n",
       "    </tr>\n",
       "  </thead>\n",
       "  <tbody>\n",
       "    <tr>\n",
       "      <th>0</th>\n",
       "      <td>AJ Griffin</td>\n",
       "      <td>2022-23</td>\n",
       "      <td>19.5</td>\n",
       "      <td>8.9</td>\n",
       "      <td>1.0</td>\n",
       "      <td>2.1</td>\n",
       "      <td>0.6</td>\n",
       "      <td>0.2</td>\n",
       "      <td>0.5</td>\n",
       "      <td>1.6</td>\n",
       "      <td>3.4</td>\n",
       "      <td>7.4</td>\n",
       "      <td>1.4</td>\n",
       "      <td>3.6</td>\n",
       "      <td>0.6</td>\n",
       "      <td>0.7</td>\n",
       "      <td>0.6</td>\n",
       "      <td>72</td>\n",
       "      <td>0.459459</td>\n",
       "      <td>0.388889</td>\n",
       "      <td>0.857143</td>\n",
       "      <td>0.486486</td>\n",
       "      <td>1.202703</td>\n",
       "      <td>0.411765</td>\n",
       "      <td>0.094595</td>\n",
       "      <td>0.575493</td>\n",
       "    </tr>\n",
       "    <tr>\n",
       "      <th>1</th>\n",
       "      <td>Aaron Brooks</td>\n",
       "      <td>2014-15</td>\n",
       "      <td>34.0</td>\n",
       "      <td>16.1</td>\n",
       "      <td>4.1</td>\n",
       "      <td>3.5</td>\n",
       "      <td>1.0</td>\n",
       "      <td>0.3</td>\n",
       "      <td>0.7</td>\n",
       "      <td>2.9</td>\n",
       "      <td>6.0</td>\n",
       "      <td>15.1</td>\n",
       "      <td>2.2</td>\n",
       "      <td>6.0</td>\n",
       "      <td>2.1</td>\n",
       "      <td>2.7</td>\n",
       "      <td>2.7</td>\n",
       "      <td>94</td>\n",
       "      <td>0.397351</td>\n",
       "      <td>0.366667</td>\n",
       "      <td>0.777778</td>\n",
       "      <td>0.397351</td>\n",
       "      <td>1.066225</td>\n",
       "      <td>0.366667</td>\n",
       "      <td>0.178808</td>\n",
       "      <td>0.491378</td>\n",
       "    </tr>\n",
       "    <tr>\n",
       "      <th>2</th>\n",
       "      <td>Aaron Brooks</td>\n",
       "      <td>2015-16</td>\n",
       "      <td>16.1</td>\n",
       "      <td>7.1</td>\n",
       "      <td>2.6</td>\n",
       "      <td>1.5</td>\n",
       "      <td>0.4</td>\n",
       "      <td>0.1</td>\n",
       "      <td>0.3</td>\n",
       "      <td>1.2</td>\n",
       "      <td>2.7</td>\n",
       "      <td>6.8</td>\n",
       "      <td>1.0</td>\n",
       "      <td>2.7</td>\n",
       "      <td>0.7</td>\n",
       "      <td>0.9</td>\n",
       "      <td>1.2</td>\n",
       "      <td>69</td>\n",
       "      <td>0.397059</td>\n",
       "      <td>0.370370</td>\n",
       "      <td>0.777778</td>\n",
       "      <td>0.397059</td>\n",
       "      <td>1.044118</td>\n",
       "      <td>0.370370</td>\n",
       "      <td>0.132353</td>\n",
       "      <td>0.491180</td>\n",
       "    </tr>\n",
       "    <tr>\n",
       "      <th>3</th>\n",
       "      <td>Aaron Brooks</td>\n",
       "      <td>2016-17</td>\n",
       "      <td>13.8</td>\n",
       "      <td>5.0</td>\n",
       "      <td>1.9</td>\n",
       "      <td>1.1</td>\n",
       "      <td>0.4</td>\n",
       "      <td>0.1</td>\n",
       "      <td>0.3</td>\n",
       "      <td>0.8</td>\n",
       "      <td>1.9</td>\n",
       "      <td>4.6</td>\n",
       "      <td>0.7</td>\n",
       "      <td>2.0</td>\n",
       "      <td>0.5</td>\n",
       "      <td>0.6</td>\n",
       "      <td>1.0</td>\n",
       "      <td>65</td>\n",
       "      <td>0.413043</td>\n",
       "      <td>0.350000</td>\n",
       "      <td>0.833333</td>\n",
       "      <td>0.434783</td>\n",
       "      <td>1.086957</td>\n",
       "      <td>0.368421</td>\n",
       "      <td>0.130435</td>\n",
       "      <td>0.511771</td>\n",
       "    </tr>\n",
       "    <tr>\n",
       "      <th>4</th>\n",
       "      <td>Aaron Gordon</td>\n",
       "      <td>2015-16</td>\n",
       "      <td>23.9</td>\n",
       "      <td>9.2</td>\n",
       "      <td>1.6</td>\n",
       "      <td>6.5</td>\n",
       "      <td>0.8</td>\n",
       "      <td>0.7</td>\n",
       "      <td>2.0</td>\n",
       "      <td>4.5</td>\n",
       "      <td>3.5</td>\n",
       "      <td>7.4</td>\n",
       "      <td>0.5</td>\n",
       "      <td>1.8</td>\n",
       "      <td>1.7</td>\n",
       "      <td>2.5</td>\n",
       "      <td>0.8</td>\n",
       "      <td>78</td>\n",
       "      <td>0.472973</td>\n",
       "      <td>0.277778</td>\n",
       "      <td>0.680000</td>\n",
       "      <td>0.243243</td>\n",
       "      <td>1.243243</td>\n",
       "      <td>0.142857</td>\n",
       "      <td>0.337838</td>\n",
       "      <td>0.535662</td>\n",
       "    </tr>\n",
       "    <tr>\n",
       "      <th>...</th>\n",
       "      <td>...</td>\n",
       "      <td>...</td>\n",
       "      <td>...</td>\n",
       "      <td>...</td>\n",
       "      <td>...</td>\n",
       "      <td>...</td>\n",
       "      <td>...</td>\n",
       "      <td>...</td>\n",
       "      <td>...</td>\n",
       "      <td>...</td>\n",
       "      <td>...</td>\n",
       "      <td>...</td>\n",
       "      <td>...</td>\n",
       "      <td>...</td>\n",
       "      <td>...</td>\n",
       "      <td>...</td>\n",
       "      <td>...</td>\n",
       "      <td>...</td>\n",
       "      <td>...</td>\n",
       "      <td>...</td>\n",
       "      <td>...</td>\n",
       "      <td>...</td>\n",
       "      <td>...</td>\n",
       "      <td>...</td>\n",
       "      <td>...</td>\n",
       "      <td>...</td>\n",
       "    </tr>\n",
       "    <tr>\n",
       "      <th>2508</th>\n",
       "      <td>Zaza Pachulia</td>\n",
       "      <td>2016-17</td>\n",
       "      <td>32.2</td>\n",
       "      <td>11.2</td>\n",
       "      <td>2.7</td>\n",
       "      <td>9.7</td>\n",
       "      <td>1.3</td>\n",
       "      <td>0.8</td>\n",
       "      <td>3.2</td>\n",
       "      <td>6.5</td>\n",
       "      <td>4.4</td>\n",
       "      <td>8.4</td>\n",
       "      <td>0.0</td>\n",
       "      <td>0.1</td>\n",
       "      <td>2.3</td>\n",
       "      <td>2.9</td>\n",
       "      <td>2.1</td>\n",
       "      <td>85</td>\n",
       "      <td>0.523810</td>\n",
       "      <td>0.000000</td>\n",
       "      <td>0.793103</td>\n",
       "      <td>0.011905</td>\n",
       "      <td>1.333333</td>\n",
       "      <td>0.000000</td>\n",
       "      <td>0.345238</td>\n",
       "      <td>0.572744</td>\n",
       "    </tr>\n",
       "    <tr>\n",
       "      <th>2509</th>\n",
       "      <td>Zaza Pachulia</td>\n",
       "      <td>2017-18</td>\n",
       "      <td>14.1</td>\n",
       "      <td>5.4</td>\n",
       "      <td>1.6</td>\n",
       "      <td>4.7</td>\n",
       "      <td>0.6</td>\n",
       "      <td>0.2</td>\n",
       "      <td>1.3</td>\n",
       "      <td>3.4</td>\n",
       "      <td>2.2</td>\n",
       "      <td>3.8</td>\n",
       "      <td>0.0</td>\n",
       "      <td>0.0</td>\n",
       "      <td>1.1</td>\n",
       "      <td>1.3</td>\n",
       "      <td>1.0</td>\n",
       "      <td>69</td>\n",
       "      <td>0.578947</td>\n",
       "      <td>NaN</td>\n",
       "      <td>0.846154</td>\n",
       "      <td>0.000000</td>\n",
       "      <td>1.421053</td>\n",
       "      <td>0.000000</td>\n",
       "      <td>0.342105</td>\n",
       "      <td>0.611205</td>\n",
       "    </tr>\n",
       "    <tr>\n",
       "      <th>2510</th>\n",
       "      <td>Zaza Pachulia</td>\n",
       "      <td>2018-19</td>\n",
       "      <td>12.9</td>\n",
       "      <td>3.9</td>\n",
       "      <td>1.3</td>\n",
       "      <td>3.9</td>\n",
       "      <td>0.5</td>\n",
       "      <td>0.3</td>\n",
       "      <td>1.5</td>\n",
       "      <td>2.4</td>\n",
       "      <td>1.3</td>\n",
       "      <td>2.8</td>\n",
       "      <td>0.0</td>\n",
       "      <td>0.1</td>\n",
       "      <td>1.4</td>\n",
       "      <td>1.8</td>\n",
       "      <td>0.8</td>\n",
       "      <td>68</td>\n",
       "      <td>0.464286</td>\n",
       "      <td>0.000000</td>\n",
       "      <td>0.777778</td>\n",
       "      <td>0.035714</td>\n",
       "      <td>1.392857</td>\n",
       "      <td>0.000000</td>\n",
       "      <td>0.642857</td>\n",
       "      <td>0.533516</td>\n",
       "    </tr>\n",
       "    <tr>\n",
       "      <th>2511</th>\n",
       "      <td>Ziaire Williams</td>\n",
       "      <td>2021-22</td>\n",
       "      <td>38.5</td>\n",
       "      <td>15.0</td>\n",
       "      <td>1.5</td>\n",
       "      <td>3.7</td>\n",
       "      <td>1.1</td>\n",
       "      <td>0.2</td>\n",
       "      <td>0.8</td>\n",
       "      <td>2.9</td>\n",
       "      <td>5.4</td>\n",
       "      <td>12.0</td>\n",
       "      <td>2.3</td>\n",
       "      <td>7.5</td>\n",
       "      <td>1.9</td>\n",
       "      <td>2.2</td>\n",
       "      <td>0.9</td>\n",
       "      <td>72</td>\n",
       "      <td>0.450000</td>\n",
       "      <td>0.306667</td>\n",
       "      <td>0.863636</td>\n",
       "      <td>0.625000</td>\n",
       "      <td>1.250000</td>\n",
       "      <td>0.425926</td>\n",
       "      <td>0.183333</td>\n",
       "      <td>0.574933</td>\n",
       "    </tr>\n",
       "    <tr>\n",
       "      <th>2512</th>\n",
       "      <td>Zion Williamson</td>\n",
       "      <td>2020-21</td>\n",
       "      <td>33.2</td>\n",
       "      <td>27.0</td>\n",
       "      <td>3.7</td>\n",
       "      <td>7.2</td>\n",
       "      <td>0.9</td>\n",
       "      <td>0.6</td>\n",
       "      <td>2.7</td>\n",
       "      <td>4.5</td>\n",
       "      <td>10.4</td>\n",
       "      <td>17.0</td>\n",
       "      <td>0.2</td>\n",
       "      <td>0.6</td>\n",
       "      <td>6.0</td>\n",
       "      <td>8.7</td>\n",
       "      <td>2.7</td>\n",
       "      <td>61</td>\n",
       "      <td>0.611765</td>\n",
       "      <td>0.333333</td>\n",
       "      <td>0.689655</td>\n",
       "      <td>0.035294</td>\n",
       "      <td>1.588235</td>\n",
       "      <td>0.019231</td>\n",
       "      <td>0.511765</td>\n",
       "      <td>0.638826</td>\n",
       "    </tr>\n",
       "  </tbody>\n",
       "</table>\n",
       "<p>2513 rows × 26 columns</p>\n",
       "</div>"
      ],
      "text/plain": [
       "               PLAYER     Year   MIN   PTS  AST  REB  STL  BLK  OREB  DREB   \n",
       "0          AJ Griffin  2022-23  19.5   8.9  1.0  2.1  0.6  0.2   0.5   1.6  \\\n",
       "1        Aaron Brooks  2014-15  34.0  16.1  4.1  3.5  1.0  0.3   0.7   2.9   \n",
       "2        Aaron Brooks  2015-16  16.1   7.1  2.6  1.5  0.4  0.1   0.3   1.2   \n",
       "3        Aaron Brooks  2016-17  13.8   5.0  1.9  1.1  0.4  0.1   0.3   0.8   \n",
       "4        Aaron Gordon  2015-16  23.9   9.2  1.6  6.5  0.8  0.7   2.0   4.5   \n",
       "...               ...      ...   ...   ...  ...  ...  ...  ...   ...   ...   \n",
       "2508    Zaza Pachulia  2016-17  32.2  11.2  2.7  9.7  1.3  0.8   3.2   6.5   \n",
       "2509    Zaza Pachulia  2017-18  14.1   5.4  1.6  4.7  0.6  0.2   1.3   3.4   \n",
       "2510    Zaza Pachulia  2018-19  12.9   3.9  1.3  3.9  0.5  0.3   1.5   2.4   \n",
       "2511  Ziaire Williams  2021-22  38.5  15.0  1.5  3.7  1.1  0.2   0.8   2.9   \n",
       "2512  Zion Williamson  2020-21  33.2  27.0  3.7  7.2  0.9  0.6   2.7   4.5   \n",
       "\n",
       "       FGM   FGA  FG3M  FG3A  FTM  FTA  TOV  GP       FG%      3PT%       FT%   \n",
       "0      3.4   7.4   1.4   3.6  0.6  0.7  0.6  72  0.459459  0.388889  0.857143  \\\n",
       "1      6.0  15.1   2.2   6.0  2.1  2.7  2.7  94  0.397351  0.366667  0.777778   \n",
       "2      2.7   6.8   1.0   2.7  0.7  0.9  1.2  69  0.397059  0.370370  0.777778   \n",
       "3      1.9   4.6   0.7   2.0  0.5  0.6  1.0  65  0.413043  0.350000  0.833333   \n",
       "4      3.5   7.4   0.5   1.8  1.7  2.5  0.8  78  0.472973  0.277778  0.680000   \n",
       "...    ...   ...   ...   ...  ...  ...  ...  ..       ...       ...       ...   \n",
       "2508   4.4   8.4   0.0   0.1  2.3  2.9  2.1  85  0.523810  0.000000  0.793103   \n",
       "2509   2.2   3.8   0.0   0.0  1.1  1.3  1.0  69  0.578947       NaN  0.846154   \n",
       "2510   1.3   2.8   0.0   0.1  1.4  1.8  0.8  68  0.464286  0.000000  0.777778   \n",
       "2511   5.4  12.0   2.3   7.5  1.9  2.2  0.9  72  0.450000  0.306667  0.863636   \n",
       "2512  10.4  17.0   0.2   0.6  6.0  8.7  2.7  61  0.611765  0.333333  0.689655   \n",
       "\n",
       "         FG3A%   PTS/FGA  FG3M/FGM   FTA/FGA      TRU%  \n",
       "0     0.486486  1.202703  0.411765  0.094595  0.575493  \n",
       "1     0.397351  1.066225  0.366667  0.178808  0.491378  \n",
       "2     0.397059  1.044118  0.370370  0.132353  0.491180  \n",
       "3     0.434783  1.086957  0.368421  0.130435  0.511771  \n",
       "4     0.243243  1.243243  0.142857  0.337838  0.535662  \n",
       "...        ...       ...       ...       ...       ...  \n",
       "2508  0.011905  1.333333  0.000000  0.345238  0.572744  \n",
       "2509  0.000000  1.421053  0.000000  0.342105  0.611205  \n",
       "2510  0.035714  1.392857  0.000000  0.642857  0.533516  \n",
       "2511  0.625000  1.250000  0.425926  0.183333  0.574933  \n",
       "2512  0.035294  1.588235  0.019231  0.511765  0.638826  \n",
       "\n",
       "[2513 rows x 26 columns]"
      ]
     },
     "execution_count": 12,
     "metadata": {},
     "output_type": "execute_result"
    }
   ],
   "source": [
    "data_per_min = data.groupby(['PLAYER', 'PLAYER_ID', 'Year'])[total_cols].sum().reset_index()\n",
    "\n",
    "for col in data_per_min.columns[4:]:\n",
    "    \n",
    "    data_per_min['FG%'] = data_per_min['FGM']/data_per_min['FGA']\n",
    "    data_per_min['3PT%'] = data_per_min['FG3M']/data_per_min['FG3A']\n",
    "    data_per_min['FT%'] = data_per_min['FTM']/data_per_min['FTA']\n",
    "    data_per_min['FG3A%'] = data_per_min['FG3A']/data_per_min['FGA']\n",
    "    data_per_min['PTS/FGA'] = data_per_min['PTS']/data_per_min['FGA']\n",
    "    data_per_min['FG3M/FGM'] = data_per_min['FG3M']/data_per_min['FGM']\n",
    "    data_per_min['FTA/FGA'] = data_per_min['FTA']/data_per_min['FGA']\n",
    "    data_per_min['TRU%'] = 0.5*data_per_min['PTS']/(data_per_min['FGA']+0.475*data_per_min['FTA'])\n",
    "    \n",
    "\n",
    "\n",
    "data_per_min = data_per_min[data_per_min['MIN']>=0]\n",
    "data_per_min.drop(columns='PLAYER_ID',inplace=True)\n",
    "data_per_min"
   ]
  },
  {
   "cell_type": "code",
   "execution_count": 13,
   "metadata": {},
   "outputs": [
    {
     "data": {
      "application/vnd.plotly.v1+json": {
       "config": {
        "plotlyServerURL": "https://plot.ly"
       },
       "data": [
        {
         "coloraxis": "coloraxis",
         "hovertemplate": "x: %{x}<br>y: %{y}<br>color: %{z}<extra></extra>",
         "name": "0",
         "type": "heatmap",
         "x": [
          "MIN",
          "PTS",
          "AST",
          "REB",
          "STL",
          "BLK",
          "OREB",
          "DREB",
          "FGM",
          "FGA",
          "FG3M",
          "FG3A",
          "FTM",
          "FTA",
          "TOV",
          "GP",
          "FG%",
          "3PT%",
          "FT%",
          "FG3A%",
          "PTS/FGA",
          "FG3M/FGM",
          "FTA/FGA",
          "TRU%"
         ],
         "xaxis": "x",
         "y": [
          "MIN",
          "PTS",
          "AST",
          "REB",
          "STL",
          "BLK",
          "OREB",
          "DREB",
          "FGM",
          "FGA",
          "FG3M",
          "FG3A",
          "FTM",
          "FTA",
          "TOV",
          "GP",
          "FG%",
          "3PT%",
          "FT%",
          "FG3A%",
          "PTS/FGA",
          "FG3M/FGM",
          "FTA/FGA",
          "TRU%"
         ],
         "yaxis": "y",
         "z": [
          [
           1,
           0.7208247031394583,
           0.5278229959547497,
           0.28134804229731997,
           0.48381772539055823,
           0.06351271722051863,
           0.04052000064974031,
           0.36715477817959236,
           0.7115288789365237,
           0.7150201478471505,
           0.322892759472705,
           0.33949536673816694,
           0.5977128740240151,
           0.5823360284669282,
           0.5922238566484366,
           -0.7218294849378807,
           0.038183319372756055,
           0.009073422856155366,
           0.16763318035362437,
           -0.12899205180775963,
           0.16629319014701643,
           -0.13234426617499687,
           0.19801276686279767,
           0.08824112862926561
          ],
          [
           0.7208247031394583,
           1,
           0.6056731335949811,
           0.2377813536158134,
           0.35801412510663544,
           0.016232332233772753,
           -0.028530109927458216,
           0.3412269168097312,
           0.9727716088931948,
           0.9581321176644634,
           0.4393502664538264,
           0.4667911429127314,
           0.8673091831120392,
           0.8236779701382358,
           0.7811472301733944,
           -0.5634669724750914,
           0.073962410609872,
           0.043260535664080786,
           0.31523337110166155,
           -0.18346820634444105,
           0.2783066024076553,
           -0.20367943741769978,
           0.2782871645070789,
           0.18737079916301444
          ],
          [
           0.5278229959547497,
           0.6056731335949811,
           1,
           0.019387436743194496,
           0.49826408000152533,
           -0.2089606551379206,
           -0.20110470770106328,
           0.12627359581524106,
           0.5636398901634396,
           0.6188591454462035,
           0.2925612425865157,
           0.34618338387387987,
           0.5705288170788313,
           0.5323380220454726,
           0.7936432442090312,
           -0.4124738902723067,
           -0.15009125405038667,
           0.030356461036457123,
           0.22111290954072513,
           -0.06017333207886741,
           0.018762836687093432,
           -0.091069494713829,
           0.14455995506225347,
           -0.07284092444925401
          ],
          [
           0.28134804229731997,
           0.2377813536158134,
           0.019387436743194496,
           1,
           0.015547806063265146,
           0.6215976126149715,
           0.8356700350839741,
           0.9625415413854235,
           0.3085870793143493,
           0.131382174091876,
           -0.4186165730677722,
           -0.41574655543014805,
           0.2986655622994372,
           0.43391222925588735,
           0.2781704653031128,
           -0.19818523058691032,
           0.5913969829654636,
           -0.3649904139910305,
           -0.4286433370973289,
           -0.5957051231953714,
           0.4603815023170529,
           -0.5859074175794333,
           0.5427041179513793,
           0.22703404877053623
          ],
          [
           0.48381772539055823,
           0.35801412510663544,
           0.49826408000152533,
           0.015547806063265146,
           1,
           -0.04898334810065903,
           -0.09113414572171208,
           0.06659586286270368,
           0.3251108026521788,
           0.3676067632410074,
           0.19469958723490832,
           0.2344347483313388,
           0.34337106759117525,
           0.3282325642992442,
           0.4350885028257608,
           -0.29756752761678473,
           -0.136567758154322,
           -0.0022316521426877694,
           0.052604447849178025,
           0.017600516800175905,
           -0.026538529206634104,
           -0.006767213734161936,
           0.08015329649588818,
           -0.09083206972427163
          ],
          [
           0.06351271722051863,
           0.016232332233772753,
           -0.2089606551379206,
           0.6215976126149715,
           -0.04898334810065903,
           1,
           0.602580781699097,
           0.5573384187664847,
           0.07031396913388936,
           -0.09040859150506139,
           -0.41415252016721926,
           -0.4263230115599672,
           0.1056790611706617,
           0.21599980534228091,
           0.0025333790938833574,
           -0.008387293317199352,
           0.5340463481446489,
           -0.28039838946157475,
           -0.4015980838448704,
           -0.44678559418521885,
           0.4130382904870951,
           -0.44213220629036043,
           0.4270642541580936,
           0.247425763922706
          ],
          [
           0.04052000064974031,
           -0.028530109927458216,
           -0.20110470770106328,
           0.8356700350839741,
           -0.09113414572171208,
           0.602580781699097,
           1,
           0.655725240789591,
           0.06604176605593844,
           -0.12386847904216672,
           -0.6074918631831923,
           -0.6193788010340184,
           0.06641297558556522,
           0.21177933394139264,
           0.02310279571224967,
           -0.021175948811747832,
           0.660607044747511,
           -0.49038920967363137,
           -0.5569111501775957,
           -0.6738226890184773,
           0.4135975551384992,
           -0.6501330960457514,
           0.49777488007443715,
           0.1948284853961554
          ],
          [
           0.36715477817959236,
           0.3412269168097312,
           0.12627359581524106,
           0.9625415413854235,
           0.06659586286270368,
           0.5573384187664847,
           0.655725240789591,
           1,
           0.39218708743356484,
           0.2422220153269069,
           -0.2760654958848615,
           -0.26626839185696033,
           0.377611257078036,
           0.49190843066962336,
           0.3716197624972674,
           -0.26229441625098837,
           0.48714727079778253,
           -0.2688784708094879,
           -0.31515794758848437,
           -0.4874952538605267,
           0.4278931519398014,
           -0.4856772260354125,
           0.49996171663734823,
           0.21505896863404855
          ],
          [
           0.7115288789365237,
           0.9727716088931948,
           0.5636398901634396,
           0.3085870793143493,
           0.3251108026521788,
           0.07031396913388936,
           0.06604176605593844,
           0.39218708743356484,
           1,
           0.9478934993679882,
           0.32303466787541874,
           0.34594250937248516,
           0.7751192649033609,
           0.753698895756944,
           0.7390977542010726,
           -0.5580591591545175,
           0.1794086732578449,
           -0.0134097405746738,
           0.22828590906170418,
           -0.3044866267664521,
           0.2418224820753135,
           -0.32510798833067156,
           0.2231414701547717,
           0.1764521420717293
          ],
          [
           0.7150201478471505,
           0.9581321176644634,
           0.6188591454462035,
           0.131382174091876,
           0.3676067632410074,
           -0.09040859150506139,
           -0.12386847904216672,
           0.2422220153269069,
           0.9478934993679882,
           1,
           0.46300570911415195,
           0.5164552650417289,
           0.7736140104515042,
           0.7149211621027093,
           0.7630933524985385,
           -0.5671599071334747,
           -0.12030130726420696,
           0.03633648446535884,
           0.3522808700759055,
           -0.13962342982921763,
           0.014222703429451207,
           -0.165830163493914,
           0.10677391391675979,
           -0.05180067261346498
          ],
          [
           0.322892759472705,
           0.4393502664538264,
           0.2925612425865157,
           -0.4186165730677722,
           0.19469958723490832,
           -0.41415252016721926,
           -0.6074918631831923,
           -0.2760654958848615,
           0.32303466787541874,
           0.46300570911415195,
           1,
           0.9726885404383232,
           0.20386584761224955,
           0.0838068594239602,
           0.24269168741812897,
           -0.2537959009761272,
           -0.4416933303795126,
           0.5665769112738073,
           0.5111535019466491,
           0.7210023843514263,
           -0.08388339064975783,
           0.7226595622838644,
           -0.3282364793141203,
           0.13838860473826253
          ],
          [
           0.33949536673816694,
           0.4667911429127314,
           0.34618338387387987,
           -0.41574655543014805,
           0.2344347483313388,
           -0.4263230115599672,
           -0.6193788010340184,
           -0.26626839185696033,
           0.34594250937248516,
           0.5164552650417289,
           0.9726885404383232,
           1,
           0.25692932215895287,
           0.13814856915071658,
           0.3125288310382106,
           -0.2705556348259674,
           -0.5269382628057206,
           0.4749796775177223,
           0.5099535090345464,
           0.7181099135289052,
           -0.1666372507886238,
           0.6886274387966024,
           -0.3112823205235083,
           0.008266254640454834
          ],
          [
           0.5977128740240151,
           0.8673091831120392,
           0.5705288170788313,
           0.2986655622994372,
           0.34337106759117525,
           0.1056790611706617,
           0.06641297558556522,
           0.377611257078036,
           0.7751192649033609,
           0.7736140104515042,
           0.20386584761224955,
           0.25692932215895287,
           1,
           0.9658114692169637,
           0.776897757531093,
           -0.46220892598410185,
           0.06249108111976956,
           -0.0991131558387738,
           0.2622012340019187,
           -0.284035336687197,
           0.4115021900498223,
           -0.3049961360330585,
           0.5804500218672114,
           0.14518580986104532
          ],
          [
           0.5823360284669282,
           0.8236779701382358,
           0.5323380220454726,
           0.43391222925588735,
           0.3282325642992442,
           0.21599980534228091,
           0.21177933394139264,
           0.49190843066962336,
           0.753698895756944,
           0.7149211621027093,
           0.0838068594239602,
           0.13814856915071658,
           0.9658114692169637,
           1,
           0.7678714661958668,
           -0.4415575589558879,
           0.18915007164459902,
           -0.18690439494372613,
           0.041983275217075545,
           -0.38857831275808363,
           0.48437617433294067,
           -0.40748513815615844,
           0.7119804363752152,
           0.1467257717108604
          ],
          [
           0.5922238566484366,
           0.7811472301733944,
           0.7936432442090312,
           0.2781704653031128,
           0.4350885028257608,
           0.0025333790938833574,
           0.02310279571224967,
           0.3716197624972674,
           0.7390977542010726,
           0.7630933524985385,
           0.24269168741812897,
           0.3125288310382106,
           0.776897757531093,
           0.7678714661958668,
           1,
           -0.4568181138743803,
           -0.021439616278283967,
           -0.09362234379994033,
           0.13908061410185876,
           -0.23611397679056537,
           0.159841388268851,
           -0.2661886076441317,
           0.3465851515588321,
           -0.031353607293916584
          ],
          [
           -0.7218294849378807,
           -0.5634669724750914,
           -0.4124738902723067,
           -0.19818523058691032,
           -0.29756752761678473,
           -0.008387293317199352,
           -0.021175948811747832,
           -0.26229441625098837,
           -0.5580591591545175,
           -0.5671599071334747,
           -0.2537959009761272,
           -0.2705556348259674,
           -0.46220892598410185,
           -0.4415575589558879,
           -0.4568181138743803,
           1,
           -0.012771402030192607,
           -0.01399365273382922,
           -0.1787269150151625,
           0.10043673310800293,
           -0.10858638825903677,
           0.0983913760660603,
           -0.12750940820067178,
           -0.05636288496913843
          ],
          [
           0.038183319372756055,
           0.073962410609872,
           -0.15009125405038667,
           0.5913969829654636,
           -0.136567758154322,
           0.5340463481446489,
           0.660607044747511,
           0.48714727079778253,
           0.1794086732578449,
           -0.12030130726420696,
           -0.4416933303795126,
           -0.5269382628057206,
           0.06249108111976956,
           0.18915007164459902,
           -0.021439616278283967,
           -0.012771402030192607,
           1,
           -0.2421061671809969,
           -0.43296459687861805,
           -0.6149267192102056,
           0.778877658932067,
           -0.5886032729612771,
           0.48864161902094655,
           0.7111400327957563
          ],
          [
           0.009073422856155366,
           0.043260535664080786,
           0.030356461036457123,
           -0.3649904139910305,
           -0.0022316521426877694,
           -0.28039838946157475,
           -0.49038920967363137,
           -0.2688784708094879,
           -0.0134097405746738,
           0.03633648446535884,
           0.5665769112738073,
           0.4749796775177223,
           -0.0991131558387738,
           -0.18690439494372613,
           -0.09362234379994033,
           -0.01399365273382922,
           -0.2421061671809969,
           1,
           0.3420154259157526,
           0.5216834277496838,
           -0.03895648818688156,
           0.5490265950049876,
           -0.3887501706928314,
           0.2092773283844844
          ],
          [
           0.16763318035362437,
           0.31523337110166155,
           0.22111290954072513,
           -0.4286433370973289,
           0.052604447849178025,
           -0.4015980838448704,
           -0.5569111501775957,
           -0.31515794758848437,
           0.22828590906170418,
           0.3522808700759055,
           0.5111535019466491,
           0.5099535090345464,
           0.2622012340019187,
           0.041983275217075545,
           0.13908061410185876,
           -0.1787269150151625,
           -0.43296459687861805,
           0.3420154259157526,
           1,
           0.3845711075544315,
           -0.1404411493015657,
           0.3776180451319052,
           -0.3305605655808569,
           0.059210134991032885
          ],
          [
           -0.12899205180775963,
           -0.18346820634444105,
           -0.06017333207886741,
           -0.5957051231953714,
           0.017600516800175905,
           -0.44678559418521885,
           -0.6738226890184773,
           -0.4874952538605267,
           -0.3044866267664521,
           -0.13962342982921763,
           0.7210023843514263,
           0.7181099135289052,
           -0.284035336687197,
           -0.38857831275808363,
           -0.23611397679056537,
           0.10043673310800293,
           -0.6149267192102056,
           0.5216834277496838,
           0.3845711075544315,
           1,
           -0.2997027939463438,
           0.9817319525912775,
           -0.5395555661644396,
           -0.007701861198752483
          ],
          [
           0.16629319014701643,
           0.2783066024076553,
           0.018762836687093432,
           0.4603815023170529,
           -0.026538529206634104,
           0.4130382904870951,
           0.4135975551384992,
           0.4278931519398014,
           0.2418224820753135,
           0.014222703429451207,
           -0.08388339064975783,
           -0.1666372507886238,
           0.4115021900498223,
           0.48437617433294067,
           0.159841388268851,
           -0.10858638825903677,
           0.778877658932067,
           -0.03895648818688156,
           -0.1404411493015657,
           -0.2997027939463438,
           1,
           -0.2708113939460725,
           0.7214944354880439,
           0.848864491163692
          ],
          [
           -0.13234426617499687,
           -0.20367943741769978,
           -0.091069494713829,
           -0.5859074175794333,
           -0.006767213734161936,
           -0.44213220629036043,
           -0.6501330960457514,
           -0.4856772260354125,
           -0.32510798833067156,
           -0.165830163493914,
           0.7226595622838644,
           0.6886274387966024,
           -0.3049961360330585,
           -0.40748513815615844,
           -0.2661886076441317,
           0.0983913760660603,
           -0.5886032729612771,
           0.5490265950049876,
           0.3776180451319052,
           0.9817319525912775,
           -0.2708113939460725,
           1,
           -0.5317082189850212,
           0.02626272042409436
          ],
          [
           0.19801276686279767,
           0.2782871645070789,
           0.14455995506225347,
           0.5427041179513793,
           0.08015329649588818,
           0.4270642541580936,
           0.49777488007443715,
           0.49996171663734823,
           0.2231414701547717,
           0.10677391391675979,
           -0.3282364793141203,
           -0.3112823205235083,
           0.5804500218672114,
           0.7119804363752152,
           0.3465851515588321,
           -0.12750940820067178,
           0.48864161902094655,
           -0.3887501706928314,
           -0.3305605655808569,
           -0.5395555661644396,
           0.7214944354880439,
           -0.5317082189850212,
           1,
           0.24937994519274093
          ],
          [
           0.08824112862926561,
           0.18737079916301444,
           -0.07284092444925401,
           0.22703404877053623,
           -0.09083206972427163,
           0.247425763922706,
           0.1948284853961554,
           0.21505896863404855,
           0.1764521420717293,
           -0.05180067261346498,
           0.13838860473826253,
           0.008266254640454834,
           0.14518580986104532,
           0.1467257717108604,
           -0.031353607293916584,
           -0.05636288496913843,
           0.7111400327957563,
           0.2092773283844844,
           0.059210134991032885,
           -0.007701861198752483,
           0.848864491163692,
           0.02626272042409436,
           0.24937994519274093,
           1
          ]
         ]
        }
       ],
       "layout": {
        "coloraxis": {
         "colorscale": [
          [
           0,
           "#0d0887"
          ],
          [
           0.1111111111111111,
           "#46039f"
          ],
          [
           0.2222222222222222,
           "#7201a8"
          ],
          [
           0.3333333333333333,
           "#9c179e"
          ],
          [
           0.4444444444444444,
           "#bd3786"
          ],
          [
           0.5555555555555556,
           "#d8576b"
          ],
          [
           0.6666666666666666,
           "#ed7953"
          ],
          [
           0.7777777777777778,
           "#fb9f3a"
          ],
          [
           0.8888888888888888,
           "#fdca26"
          ],
          [
           1,
           "#f0f921"
          ]
         ]
        },
        "margin": {
         "t": 60
        },
        "template": {
         "data": {
          "bar": [
           {
            "error_x": {
             "color": "#2a3f5f"
            },
            "error_y": {
             "color": "#2a3f5f"
            },
            "marker": {
             "line": {
              "color": "#E5ECF6",
              "width": 0.5
             },
             "pattern": {
              "fillmode": "overlay",
              "size": 10,
              "solidity": 0.2
             }
            },
            "type": "bar"
           }
          ],
          "barpolar": [
           {
            "marker": {
             "line": {
              "color": "#E5ECF6",
              "width": 0.5
             },
             "pattern": {
              "fillmode": "overlay",
              "size": 10,
              "solidity": 0.2
             }
            },
            "type": "barpolar"
           }
          ],
          "carpet": [
           {
            "aaxis": {
             "endlinecolor": "#2a3f5f",
             "gridcolor": "white",
             "linecolor": "white",
             "minorgridcolor": "white",
             "startlinecolor": "#2a3f5f"
            },
            "baxis": {
             "endlinecolor": "#2a3f5f",
             "gridcolor": "white",
             "linecolor": "white",
             "minorgridcolor": "white",
             "startlinecolor": "#2a3f5f"
            },
            "type": "carpet"
           }
          ],
          "choropleth": [
           {
            "colorbar": {
             "outlinewidth": 0,
             "ticks": ""
            },
            "type": "choropleth"
           }
          ],
          "contour": [
           {
            "colorbar": {
             "outlinewidth": 0,
             "ticks": ""
            },
            "colorscale": [
             [
              0,
              "#0d0887"
             ],
             [
              0.1111111111111111,
              "#46039f"
             ],
             [
              0.2222222222222222,
              "#7201a8"
             ],
             [
              0.3333333333333333,
              "#9c179e"
             ],
             [
              0.4444444444444444,
              "#bd3786"
             ],
             [
              0.5555555555555556,
              "#d8576b"
             ],
             [
              0.6666666666666666,
              "#ed7953"
             ],
             [
              0.7777777777777778,
              "#fb9f3a"
             ],
             [
              0.8888888888888888,
              "#fdca26"
             ],
             [
              1,
              "#f0f921"
             ]
            ],
            "type": "contour"
           }
          ],
          "contourcarpet": [
           {
            "colorbar": {
             "outlinewidth": 0,
             "ticks": ""
            },
            "type": "contourcarpet"
           }
          ],
          "heatmap": [
           {
            "colorbar": {
             "outlinewidth": 0,
             "ticks": ""
            },
            "colorscale": [
             [
              0,
              "#0d0887"
             ],
             [
              0.1111111111111111,
              "#46039f"
             ],
             [
              0.2222222222222222,
              "#7201a8"
             ],
             [
              0.3333333333333333,
              "#9c179e"
             ],
             [
              0.4444444444444444,
              "#bd3786"
             ],
             [
              0.5555555555555556,
              "#d8576b"
             ],
             [
              0.6666666666666666,
              "#ed7953"
             ],
             [
              0.7777777777777778,
              "#fb9f3a"
             ],
             [
              0.8888888888888888,
              "#fdca26"
             ],
             [
              1,
              "#f0f921"
             ]
            ],
            "type": "heatmap"
           }
          ],
          "heatmapgl": [
           {
            "colorbar": {
             "outlinewidth": 0,
             "ticks": ""
            },
            "colorscale": [
             [
              0,
              "#0d0887"
             ],
             [
              0.1111111111111111,
              "#46039f"
             ],
             [
              0.2222222222222222,
              "#7201a8"
             ],
             [
              0.3333333333333333,
              "#9c179e"
             ],
             [
              0.4444444444444444,
              "#bd3786"
             ],
             [
              0.5555555555555556,
              "#d8576b"
             ],
             [
              0.6666666666666666,
              "#ed7953"
             ],
             [
              0.7777777777777778,
              "#fb9f3a"
             ],
             [
              0.8888888888888888,
              "#fdca26"
             ],
             [
              1,
              "#f0f921"
             ]
            ],
            "type": "heatmapgl"
           }
          ],
          "histogram": [
           {
            "marker": {
             "pattern": {
              "fillmode": "overlay",
              "size": 10,
              "solidity": 0.2
             }
            },
            "type": "histogram"
           }
          ],
          "histogram2d": [
           {
            "colorbar": {
             "outlinewidth": 0,
             "ticks": ""
            },
            "colorscale": [
             [
              0,
              "#0d0887"
             ],
             [
              0.1111111111111111,
              "#46039f"
             ],
             [
              0.2222222222222222,
              "#7201a8"
             ],
             [
              0.3333333333333333,
              "#9c179e"
             ],
             [
              0.4444444444444444,
              "#bd3786"
             ],
             [
              0.5555555555555556,
              "#d8576b"
             ],
             [
              0.6666666666666666,
              "#ed7953"
             ],
             [
              0.7777777777777778,
              "#fb9f3a"
             ],
             [
              0.8888888888888888,
              "#fdca26"
             ],
             [
              1,
              "#f0f921"
             ]
            ],
            "type": "histogram2d"
           }
          ],
          "histogram2dcontour": [
           {
            "colorbar": {
             "outlinewidth": 0,
             "ticks": ""
            },
            "colorscale": [
             [
              0,
              "#0d0887"
             ],
             [
              0.1111111111111111,
              "#46039f"
             ],
             [
              0.2222222222222222,
              "#7201a8"
             ],
             [
              0.3333333333333333,
              "#9c179e"
             ],
             [
              0.4444444444444444,
              "#bd3786"
             ],
             [
              0.5555555555555556,
              "#d8576b"
             ],
             [
              0.6666666666666666,
              "#ed7953"
             ],
             [
              0.7777777777777778,
              "#fb9f3a"
             ],
             [
              0.8888888888888888,
              "#fdca26"
             ],
             [
              1,
              "#f0f921"
             ]
            ],
            "type": "histogram2dcontour"
           }
          ],
          "mesh3d": [
           {
            "colorbar": {
             "outlinewidth": 0,
             "ticks": ""
            },
            "type": "mesh3d"
           }
          ],
          "parcoords": [
           {
            "line": {
             "colorbar": {
              "outlinewidth": 0,
              "ticks": ""
             }
            },
            "type": "parcoords"
           }
          ],
          "pie": [
           {
            "automargin": true,
            "type": "pie"
           }
          ],
          "scatter": [
           {
            "fillpattern": {
             "fillmode": "overlay",
             "size": 10,
             "solidity": 0.2
            },
            "type": "scatter"
           }
          ],
          "scatter3d": [
           {
            "line": {
             "colorbar": {
              "outlinewidth": 0,
              "ticks": ""
             }
            },
            "marker": {
             "colorbar": {
              "outlinewidth": 0,
              "ticks": ""
             }
            },
            "type": "scatter3d"
           }
          ],
          "scattercarpet": [
           {
            "marker": {
             "colorbar": {
              "outlinewidth": 0,
              "ticks": ""
             }
            },
            "type": "scattercarpet"
           }
          ],
          "scattergeo": [
           {
            "marker": {
             "colorbar": {
              "outlinewidth": 0,
              "ticks": ""
             }
            },
            "type": "scattergeo"
           }
          ],
          "scattergl": [
           {
            "marker": {
             "colorbar": {
              "outlinewidth": 0,
              "ticks": ""
             }
            },
            "type": "scattergl"
           }
          ],
          "scattermapbox": [
           {
            "marker": {
             "colorbar": {
              "outlinewidth": 0,
              "ticks": ""
             }
            },
            "type": "scattermapbox"
           }
          ],
          "scatterpolar": [
           {
            "marker": {
             "colorbar": {
              "outlinewidth": 0,
              "ticks": ""
             }
            },
            "type": "scatterpolar"
           }
          ],
          "scatterpolargl": [
           {
            "marker": {
             "colorbar": {
              "outlinewidth": 0,
              "ticks": ""
             }
            },
            "type": "scatterpolargl"
           }
          ],
          "scatterternary": [
           {
            "marker": {
             "colorbar": {
              "outlinewidth": 0,
              "ticks": ""
             }
            },
            "type": "scatterternary"
           }
          ],
          "surface": [
           {
            "colorbar": {
             "outlinewidth": 0,
             "ticks": ""
            },
            "colorscale": [
             [
              0,
              "#0d0887"
             ],
             [
              0.1111111111111111,
              "#46039f"
             ],
             [
              0.2222222222222222,
              "#7201a8"
             ],
             [
              0.3333333333333333,
              "#9c179e"
             ],
             [
              0.4444444444444444,
              "#bd3786"
             ],
             [
              0.5555555555555556,
              "#d8576b"
             ],
             [
              0.6666666666666666,
              "#ed7953"
             ],
             [
              0.7777777777777778,
              "#fb9f3a"
             ],
             [
              0.8888888888888888,
              "#fdca26"
             ],
             [
              1,
              "#f0f921"
             ]
            ],
            "type": "surface"
           }
          ],
          "table": [
           {
            "cells": {
             "fill": {
              "color": "#EBF0F8"
             },
             "line": {
              "color": "white"
             }
            },
            "header": {
             "fill": {
              "color": "#C8D4E3"
             },
             "line": {
              "color": "white"
             }
            },
            "type": "table"
           }
          ]
         },
         "layout": {
          "annotationdefaults": {
           "arrowcolor": "#2a3f5f",
           "arrowhead": 0,
           "arrowwidth": 1
          },
          "autotypenumbers": "strict",
          "coloraxis": {
           "colorbar": {
            "outlinewidth": 0,
            "ticks": ""
           }
          },
          "colorscale": {
           "diverging": [
            [
             0,
             "#8e0152"
            ],
            [
             0.1,
             "#c51b7d"
            ],
            [
             0.2,
             "#de77ae"
            ],
            [
             0.3,
             "#f1b6da"
            ],
            [
             0.4,
             "#fde0ef"
            ],
            [
             0.5,
             "#f7f7f7"
            ],
            [
             0.6,
             "#e6f5d0"
            ],
            [
             0.7,
             "#b8e186"
            ],
            [
             0.8,
             "#7fbc41"
            ],
            [
             0.9,
             "#4d9221"
            ],
            [
             1,
             "#276419"
            ]
           ],
           "sequential": [
            [
             0,
             "#0d0887"
            ],
            [
             0.1111111111111111,
             "#46039f"
            ],
            [
             0.2222222222222222,
             "#7201a8"
            ],
            [
             0.3333333333333333,
             "#9c179e"
            ],
            [
             0.4444444444444444,
             "#bd3786"
            ],
            [
             0.5555555555555556,
             "#d8576b"
            ],
            [
             0.6666666666666666,
             "#ed7953"
            ],
            [
             0.7777777777777778,
             "#fb9f3a"
            ],
            [
             0.8888888888888888,
             "#fdca26"
            ],
            [
             1,
             "#f0f921"
            ]
           ],
           "sequentialminus": [
            [
             0,
             "#0d0887"
            ],
            [
             0.1111111111111111,
             "#46039f"
            ],
            [
             0.2222222222222222,
             "#7201a8"
            ],
            [
             0.3333333333333333,
             "#9c179e"
            ],
            [
             0.4444444444444444,
             "#bd3786"
            ],
            [
             0.5555555555555556,
             "#d8576b"
            ],
            [
             0.6666666666666666,
             "#ed7953"
            ],
            [
             0.7777777777777778,
             "#fb9f3a"
            ],
            [
             0.8888888888888888,
             "#fdca26"
            ],
            [
             1,
             "#f0f921"
            ]
           ]
          },
          "colorway": [
           "#636efa",
           "#EF553B",
           "#00cc96",
           "#ab63fa",
           "#FFA15A",
           "#19d3f3",
           "#FF6692",
           "#B6E880",
           "#FF97FF",
           "#FECB52"
          ],
          "font": {
           "color": "#2a3f5f"
          },
          "geo": {
           "bgcolor": "white",
           "lakecolor": "white",
           "landcolor": "#E5ECF6",
           "showlakes": true,
           "showland": true,
           "subunitcolor": "white"
          },
          "hoverlabel": {
           "align": "left"
          },
          "hovermode": "closest",
          "mapbox": {
           "style": "light"
          },
          "paper_bgcolor": "white",
          "plot_bgcolor": "#E5ECF6",
          "polar": {
           "angularaxis": {
            "gridcolor": "white",
            "linecolor": "white",
            "ticks": ""
           },
           "bgcolor": "#E5ECF6",
           "radialaxis": {
            "gridcolor": "white",
            "linecolor": "white",
            "ticks": ""
           }
          },
          "scene": {
           "xaxis": {
            "backgroundcolor": "#E5ECF6",
            "gridcolor": "white",
            "gridwidth": 2,
            "linecolor": "white",
            "showbackground": true,
            "ticks": "",
            "zerolinecolor": "white"
           },
           "yaxis": {
            "backgroundcolor": "#E5ECF6",
            "gridcolor": "white",
            "gridwidth": 2,
            "linecolor": "white",
            "showbackground": true,
            "ticks": "",
            "zerolinecolor": "white"
           },
           "zaxis": {
            "backgroundcolor": "#E5ECF6",
            "gridcolor": "white",
            "gridwidth": 2,
            "linecolor": "white",
            "showbackground": true,
            "ticks": "",
            "zerolinecolor": "white"
           }
          },
          "shapedefaults": {
           "line": {
            "color": "#2a3f5f"
           }
          },
          "ternary": {
           "aaxis": {
            "gridcolor": "white",
            "linecolor": "white",
            "ticks": ""
           },
           "baxis": {
            "gridcolor": "white",
            "linecolor": "white",
            "ticks": ""
           },
           "bgcolor": "#E5ECF6",
           "caxis": {
            "gridcolor": "white",
            "linecolor": "white",
            "ticks": ""
           }
          },
          "title": {
           "x": 0.05
          },
          "xaxis": {
           "automargin": true,
           "gridcolor": "white",
           "linecolor": "white",
           "ticks": "",
           "title": {
            "standoff": 15
           },
           "zerolinecolor": "white",
           "zerolinewidth": 2
          },
          "yaxis": {
           "automargin": true,
           "gridcolor": "white",
           "linecolor": "white",
           "ticks": "",
           "title": {
            "standoff": 15
           },
           "zerolinecolor": "white",
           "zerolinewidth": 2
          }
         }
        },
        "xaxis": {
         "anchor": "y",
         "constrain": "domain",
         "domain": [
          0,
          1
         ],
         "scaleanchor": "y"
        },
        "yaxis": {
         "anchor": "x",
         "autorange": "reversed",
         "constrain": "domain",
         "domain": [
          0,
          1
         ]
        }
       }
      }
     },
     "metadata": {},
     "output_type": "display_data"
    }
   ],
   "source": [
    "data_per_min = data.groupby(['PLAYER', 'PLAYER_ID', 'Year'])[total_cols].sum().reset_index()\n",
    "\n",
    "for col in data_per_min.columns[4:]:\n",
    "    \n",
    "    data_per_min['FG%'] = data_per_min['FGM']/data_per_min['FGA']\n",
    "    data_per_min['3PT%'] = data_per_min['FG3M']/data_per_min['FG3A']\n",
    "    data_per_min['FT%'] = data_per_min['FTM']/data_per_min['FTA']\n",
    "    data_per_min['FG3A%'] = data_per_min['FG3A']/data_per_min['FGA']\n",
    "    data_per_min['PTS/FGA'] = data_per_min['PTS']/data_per_min['FGA']\n",
    "    data_per_min['FG3M/FGM'] = data_per_min['FG3M']/data_per_min['FGM']\n",
    "    data_per_min['FTA/FGA'] = data_per_min['FTA']/data_per_min['FGA']\n",
    "    data_per_min['TRU%'] = 0.5*data_per_min['PTS']/(data_per_min['FGA']+0.475*data_per_min['FTA'])\n",
    "\n",
    "data_per_min[col] =  data_per_min[col]/ data_per_min['MIN']\n",
    "data_per_min = data_per_min[data_per_min['MIN']>=50]\n",
    "data_per_min.drop(columns='PLAYER_ID',inplace=True)\n",
    "\n",
    "fig = px.imshow(data_per_min.corr(numeric_only=True))\n",
    "fig.show()"
   ]
  },
  {
   "attachments": {},
   "cell_type": "markdown",
   "metadata": {},
   "source": [
    "# How are the Points Distributed?"
   ]
  },
  {
   "cell_type": "code",
   "execution_count": 14,
   "metadata": {},
   "outputs": [
    {
     "data": {
      "application/vnd.plotly.v1+json": {
       "config": {
        "plotlyServerURL": "https://plot.ly"
       },
       "data": [
        {
         "alignmentgroup": "True",
         "bingroup": "x",
         "histnorm": "percent",
         "hovertemplate": "x=%{x}<br>percent=%{y}<extra></extra>",
         "legendgroup": "",
         "marker": {
          "color": "#636efa",
          "pattern": {
           "shape": ""
          }
         },
         "name": "",
         "offsetgroup": "",
         "orientation": "v",
         "showlegend": false,
         "type": "histogram",
         "x": [
          28.1,
          27.4,
          25.3,
          24.4,
          24.1,
          23.8,
          23.4,
          21.9,
          21.7,
          21.7,
          21.5,
          21.1,
          21,
          20.1,
          20,
          19.3,
          19.3,
          19.1,
          18.9,
          18.5,
          17.9,
          17.8,
          17.6,
          17.4,
          17.3,
          17.3,
          17.2,
          17.1,
          17,
          17,
          16.9,
          16.7,
          16.6,
          16.6,
          16.5,
          16.4,
          16.4,
          16.4,
          16.3,
          16.1,
          16,
          15.9,
          15.9,
          15.9,
          15.8,
          15.8,
          15.7,
          15.5,
          15.5,
          15.3,
          15.3,
          15.2,
          15.2,
          15,
          14.6,
          14.5,
          14.4,
          14.4,
          14.3,
          14.2,
          14.1,
          14,
          13.9,
          13.9,
          13.9,
          13.8,
          13.7,
          13.5,
          13.5,
          13.4,
          13.4,
          13.3,
          13.3,
          13,
          12.8,
          12.8,
          12.7,
          12.7,
          12.6,
          12.6,
          12.6,
          12.4,
          12.4,
          12.2,
          12.1,
          12.1,
          12.1,
          12.1,
          12,
          12,
          12,
          12,
          12,
          11.9,
          11.9,
          11.9,
          11.8,
          11.8,
          11.7,
          11.7,
          11.7,
          11.6,
          11.5,
          11.5,
          11.5,
          11.5,
          11.5,
          11.4,
          11.2,
          11.1,
          11,
          10.7,
          10.6,
          10.6,
          10.5,
          10.4,
          10.4,
          10.3,
          10.3,
          10.3,
          10.2,
          10.2,
          10.2,
          10.1,
          10.1,
          10.1,
          10.1,
          10,
          10,
          9.9,
          9.9,
          9.9,
          9.8,
          9.7,
          9.7,
          9.6,
          9.5,
          9.5,
          9.5,
          9.4,
          9.4,
          9.4,
          9.3,
          9.2,
          9.1,
          9,
          8.9,
          8.9,
          8.9,
          8.9,
          8.8,
          8.8,
          8.7,
          8.7,
          8.6,
          8.6,
          8.5,
          8.4,
          8.3,
          8.3,
          8.3,
          8.3,
          8.2,
          8,
          8,
          8,
          8,
          8,
          7.9,
          7.9,
          7.8,
          7.8,
          7.8,
          7.8,
          7.7,
          7.7,
          7.7,
          7.7,
          7.6,
          7.6,
          7.6,
          7.5,
          7.5,
          7.4,
          7.4,
          7.4,
          7.3,
          7.3,
          7.3,
          7.2,
          7.2,
          7.2,
          7.2,
          7.2,
          7.1,
          7.1,
          7,
          7,
          7,
          6.9,
          6.8,
          6.8,
          6.8,
          6.8,
          6.7,
          6.6,
          6.6,
          6.6,
          6.5,
          6.3,
          6.3,
          6.3,
          6.3,
          6.3,
          6.3,
          6.2,
          6.1,
          6,
          6,
          6,
          6,
          6,
          5.9,
          5.9,
          5.9,
          5.8,
          5.8,
          5.8,
          5.7,
          5.7,
          5.6,
          5.5,
          5.4,
          5.3,
          5.2,
          5.2,
          5.2,
          5.2,
          5,
          5,
          5,
          4.8,
          4.8,
          4.8,
          4.8,
          4.6,
          4.5,
          4.4,
          4.4,
          4.3,
          4.3,
          4.3,
          4.2,
          4.2,
          4.1,
          4.1,
          4.1,
          4,
          4,
          3.7,
          3.7,
          3.7,
          3.6,
          3.6,
          3.4,
          3.3,
          2.7,
          30.1,
          29,
          28.2,
          26.9,
          25.3,
          25.1,
          24.3,
          23.5,
          23.5,
          23.1,
          22.2,
          22.1,
          21.8,
          21.2,
          21.2,
          20.9,
          20.9,
          20.8,
          20.7,
          20.6,
          19.9,
          19.7,
          19.5,
          19,
          18.8,
          18.3,
          18.3,
          18.2,
          18.2,
          18,
          17.6,
          17.2,
          17.1,
          17,
          16.9,
          16.8,
          16.5,
          16.4,
          16.4,
          16.3,
          16.2,
          16,
          16,
          15.7,
          15.5,
          15.4,
          15.3,
          15.3,
          15.3,
          15.2,
          15.2,
          15.1,
          14.9,
          14.7,
          14.5,
          14.5,
          14.4,
          14.3,
          14.2,
          14.2,
          14.2,
          14.1,
          14.1,
          14.1,
          14.1,
          14,
          14,
          14,
          13.8,
          13.8,
          13.7,
          13.7,
          13.5,
          13.2,
          12.8,
          12.8,
          12.8,
          12.8,
          12.7,
          12.7,
          12.7,
          12.6,
          12.6,
          12.5,
          12.5,
          12.4,
          12.3,
          12.3,
          12.2,
          12.2,
          12.1,
          12,
          11.9,
          11.9,
          11.8,
          11.8,
          11.8,
          11.7,
          11.7,
          11.7,
          11.7,
          11.6,
          11.6,
          11.3,
          11.2,
          11.1,
          11,
          11,
          10.9,
          10.7,
          10.6,
          10.5,
          10.5,
          10.4,
          10.3,
          10.3,
          10.3,
          10.3,
          10.3,
          10.2,
          10.2,
          10.1,
          10.1,
          10,
          10,
          10,
          9.9,
          9.9,
          9.9,
          9.8,
          9.8,
          9.7,
          9.7,
          9.6,
          9.6,
          9.5,
          9.4,
          9.3,
          9.3,
          9.2,
          9.2,
          9.1,
          9.1,
          9.1,
          9,
          8.9,
          8.9,
          8.9,
          8.8,
          8.8,
          8.7,
          8.7,
          8.7,
          8.7,
          8.6,
          8.6,
          8.6,
          8.5,
          8.5,
          8.5,
          8.5,
          8.4,
          8.4,
          8.3,
          8.2,
          8.1,
          8,
          8,
          7.9,
          7.9,
          7.8,
          7.8,
          7.7,
          7.6,
          7.6,
          7.6,
          7.5,
          7.5,
          7.5,
          7.5,
          7.5,
          7.4,
          7.3,
          7.3,
          7.3,
          7.2,
          7.2,
          7.2,
          7.2,
          7.2,
          7.1,
          7.1,
          7.1,
          7,
          7,
          7,
          7,
          7,
          6.9,
          6.9,
          6.8,
          6.6,
          6.5,
          6.4,
          6.4,
          6.4,
          6.4,
          6.4,
          6.3,
          6.3,
          6.3,
          6.2,
          6.2,
          6.1,
          6.1,
          6.1,
          6.1,
          6.1,
          6.1,
          6.1,
          6,
          5.9,
          5.9,
          5.9,
          5.9,
          5.9,
          5.9,
          5.8,
          5.7,
          5.6,
          5.6,
          5.5,
          5.5,
          5.5,
          5.5,
          5.4,
          5.4,
          5.3,
          5.3,
          5.3,
          5.2,
          5.1,
          5.1,
          5.1,
          5.1,
          4.9,
          4.8,
          4.8,
          4.5,
          4.5,
          4.4,
          4.4,
          4.4,
          4.3,
          4.2,
          4.2,
          4.2,
          4.1,
          4,
          3.7,
          3.6,
          3.6,
          3.4,
          3.3,
          3.1,
          3.1,
          3,
          2.9,
          2.9,
          2.5,
          2.1,
          31.6,
          29.1,
          28.9,
          28,
          27.3,
          27,
          27,
          26.4,
          25.5,
          25.3,
          25.2,
          25.1,
          25.1,
          23.9,
          23.7,
          23.6,
          23.2,
          23.1,
          23.1,
          23,
          22.9,
          22.4,
          22.4,
          22.3,
          22.1,
          21.9,
          21.6,
          21.1,
          20.5,
          20.5,
          20.3,
          19.5,
          19.2,
          19,
          18.3,
          18.2,
          18.1,
          18.1,
          18.1,
          18,
          17.9,
          17.5,
          17.3,
          17.2,
          17,
          16.7,
          16.2,
          16.1,
          15.9,
          15.7,
          15.6,
          15.4,
          15.3,
          15.1,
          15,
          14.8,
          14.7,
          14.6,
          14.5,
          14.5,
          14.4,
          14.3,
          14.1,
          14,
          14,
          14,
          14,
          13.9,
          13.8,
          13.7,
          13.7,
          13.7,
          13.6,
          13.6,
          13.5,
          13.5,
          13.4,
          13.2,
          13.2,
          13.2,
          13.1,
          13.1,
          12.9,
          12.8,
          12.8,
          12.8,
          12.8,
          12.7,
          12.7,
          12.7,
          12.6,
          12.4,
          12.3,
          12,
          12,
          11.7,
          11.7,
          11.7,
          11.3,
          11.2,
          11.1,
          11,
          11,
          11,
          11,
          10.8,
          10.8,
          10.8,
          10.7,
          10.7,
          10.6,
          10.6,
          10.6,
          10.5,
          10.5,
          10.4,
          10.4,
          10.3,
          10.2,
          10.2,
          10.2,
          10.2,
          10.1,
          10.1,
          10,
          10,
          10,
          9.9,
          9.9,
          9.9,
          9.7,
          9.6,
          9.6,
          9.5,
          9.5,
          9.5,
          9.4,
          9.4,
          9.3,
          9.2,
          9.2,
          9.2,
          9.2,
          9.2,
          9.2,
          9.1,
          9.1,
          9.1,
          9.1,
          9,
          9,
          9,
          8.9,
          8.9,
          8.7,
          8.7,
          8.7,
          8.5,
          8.5,
          8.4,
          8.4,
          8.2,
          8.2,
          8.1,
          8.1,
          8.1,
          8.1,
          8,
          8,
          7.9,
          7.9,
          7.8,
          7.8,
          7.8,
          7.7,
          7.6,
          7.6,
          7.5,
          7.5,
          7.4,
          7.3,
          7.3,
          7.3,
          7.3,
          7.2,
          7.1,
          7.1,
          7.1,
          7.1,
          7.1,
          7.1,
          7.1,
          7,
          6.9,
          6.9,
          6.8,
          6.8,
          6.8,
          6.8,
          6.8,
          6.7,
          6.7,
          6.7,
          6.7,
          6.7,
          6.6,
          6.6,
          6.6,
          6.6,
          6.5,
          6.5,
          6.4,
          6.4,
          6.4,
          6.3,
          6.3,
          6.3,
          6.3,
          6.2,
          6.2,
          6.2,
          6.2,
          6.2,
          6.1,
          6.1,
          6.1,
          6.1,
          6,
          6,
          5.9,
          5.9,
          5.9,
          5.7,
          5.7,
          5.7,
          5.7,
          5.5,
          5.5,
          5.4,
          5.4,
          5.4,
          5.3,
          5.2,
          5.1,
          5.1,
          5,
          4.9,
          4.9,
          4.9,
          4.8,
          4.8,
          4.6,
          4.6,
          4.5,
          4.5,
          4.5,
          4.4,
          4.4,
          4.3,
          4.1,
          4,
          3.8,
          3.8,
          3.5,
          3.4,
          2.9,
          2.9,
          2.9,
          2.7,
          2.5,
          1.7,
          30.4,
          28.1,
          27.5,
          26.9,
          26.9,
          26.4,
          25.4,
          24.4,
          23.1,
          23.1,
          23,
          22.9,
          22.6,
          22.6,
          22.2,
          22.1,
          21.9,
          21.4,
          21.3,
          20.5,
          20.1,
          20,
          19.6,
          19.4,
          19,
          18.9,
          18.6,
          18.5,
          18,
          17.7,
          17.7,
          17.6,
          17.5,
          17.3,
          17.2,
          17.1,
          16.7,
          16.6,
          16.2,
          16.2,
          16.1,
          16.1,
          16.1,
          15.8,
          15.7,
          15.2,
          15.2,
          15.1,
          15,
          14.7,
          14.7,
          14.6,
          14.5,
          14.5,
          14.3,
          14.3,
          14.2,
          14.1,
          14.1,
          13.9,
          13.9,
          13.9,
          13.9,
          13.9,
          13.9,
          13.5,
          13.5,
          13.4,
          13.2,
          13.2,
          13.2,
          13.1,
          13.1,
          13,
          12.9,
          12.9,
          12.9,
          12.9,
          12.8,
          12.7,
          12.7,
          12.7,
          12.7,
          12.6,
          12.6,
          12.6,
          12.5,
          12.4,
          12.3,
          12.2,
          12.2,
          12.1,
          12.1,
          12,
          12,
          12,
          11.8,
          11.8,
          11.8,
          11.8,
          11.7,
          11.7,
          11.6,
          11.6,
          11.6,
          11.6,
          11.5,
          11.5,
          11.5,
          11.4,
          11.3,
          11.3,
          11.2,
          11.1,
          11,
          11,
          11,
          10.9,
          10.9,
          10.8,
          10.8,
          10.8,
          10.5,
          10.3,
          10.2,
          10.2,
          10.2,
          10.1,
          10,
          10,
          10,
          10,
          10,
          9.9,
          9.7,
          9.6,
          9.5,
          9.3,
          9.3,
          9.2,
          9.2,
          9.2,
          8.9,
          8.9,
          8.9,
          8.8,
          8.8,
          8.7,
          8.7,
          8.7,
          8.7,
          8.6,
          8.6,
          8.6,
          8.5,
          8.5,
          8.4,
          8.4,
          8.4,
          8.4,
          8.4,
          8.3,
          8.3,
          8.2,
          8.2,
          8.1,
          8,
          7.9,
          7.9,
          7.9,
          7.9,
          7.8,
          7.8,
          7.8,
          7.8,
          7.7,
          7.7,
          7.7,
          7.7,
          7.6,
          7.5,
          7.5,
          7.4,
          7.3,
          7.3,
          7.2,
          7.1,
          7.1,
          7.1,
          6.9,
          6.9,
          6.9,
          6.9,
          6.9,
          6.9,
          6.8,
          6.8,
          6.7,
          6.7,
          6.7,
          6.7,
          6.6,
          6.5,
          6.5,
          6.3,
          6.3,
          6.3,
          6.1,
          6,
          6,
          5.9,
          5.9,
          5.9,
          5.9,
          5.9,
          5.8,
          5.8,
          5.7,
          5.7,
          5.5,
          5.5,
          5.4,
          5.4,
          5.4,
          5.4,
          5.3,
          5.3,
          5.3,
          5.1,
          5,
          4.8,
          4.8,
          4.8,
          4.7,
          4.6,
          4.4,
          4.3,
          4.2,
          4.1,
          4,
          3.9,
          3.9,
          3.9,
          3.7,
          3.5,
          3.2,
          3.1,
          3,
          2.7,
          2.6,
          2.3,
          2.3,
          2.1,
          36.1,
          28,
          27.7,
          27.5,
          27.3,
          26.6,
          26.6,
          26,
          25.8,
          25.6,
          25.6,
          24.5,
          24.4,
          23.8,
          23.8,
          23.7,
          22.9,
          21.5,
          21.4,
          21.3,
          21.2,
          21.2,
          21.2,
          21.1,
          21.1,
          21,
          20.8,
          20.7,
          20.1,
          20,
          20,
          19.8,
          19.5,
          19.1,
          18.7,
          18.7,
          18.3,
          18.2,
          18.1,
          18.1,
          18.1,
          18,
          17.3,
          17.3,
          16.9,
          16.9,
          16.8,
          16.8,
          16.7,
          16.6,
          16.6,
          16.6,
          16.4,
          16.3,
          16.2,
          16,
          15.9,
          15.9,
          15.7,
          15.6,
          15.6,
          15.6,
          15.5,
          15.4,
          15.3,
          15.2,
          15.1,
          15.1,
          15,
          15,
          14.9,
          14.8,
          14.5,
          14.2,
          14.1,
          14.1,
          13.9,
          13.9,
          13.8,
          13.7,
          13.7,
          13.7,
          13.6,
          13.6,
          13.6,
          13.3,
          13,
          13,
          12.8,
          12.7,
          12.6,
          12.6,
          12.6,
          12.5,
          12.5,
          12.3,
          12.3,
          12.2,
          12.1,
          12,
          11.9,
          11.9,
          11.8,
          11.8,
          11.7,
          11.6,
          11.5,
          11.5,
          11.4,
          11.3,
          11.3,
          11.2,
          11.2,
          11.1,
          11.1,
          11,
          11,
          10.9,
          10.9,
          10.9,
          10.8,
          10.8,
          10.8,
          10.7,
          10.6,
          10.6,
          10.5,
          10.5,
          10.5,
          10.4,
          10.3,
          10.2,
          10.1,
          10,
          9.9,
          9.9,
          9.9,
          9.7,
          9.7,
          9.6,
          9.6,
          9.6,
          9.5,
          9.4,
          9.4,
          9.4,
          9.4,
          9.3,
          9.3,
          9.2,
          9.1,
          9,
          8.9,
          8.9,
          8.9,
          8.9,
          8.9,
          8.9,
          8.8,
          8.8,
          8.7,
          8.6,
          8.6,
          8.5,
          8.5,
          8.4,
          8.4,
          8.4,
          8.3,
          8.2,
          8.2,
          8.2,
          8.1,
          8.1,
          8,
          7.9,
          7.9,
          7.8,
          7.8,
          7.8,
          7.8,
          7.7,
          7.7,
          7.6,
          7.6,
          7.6,
          7.6,
          7.5,
          7.5,
          7.5,
          7.4,
          7.4,
          7.3,
          7.3,
          7.3,
          7.3,
          7.3,
          7.2,
          7.2,
          7,
          7,
          7,
          7,
          6.9,
          6.9,
          6.9,
          6.9,
          6.9,
          6.9,
          6.8,
          6.8,
          6.8,
          6.7,
          6.7,
          6.7,
          6.7,
          6.6,
          6.5,
          6.5,
          6.4,
          6.4,
          6.4,
          6.3,
          6.3,
          6.3,
          6,
          6,
          5.9,
          5.9,
          5.9,
          5.8,
          5.8,
          5.8,
          5.7,
          5.7,
          5.7,
          5.5,
          5.3,
          5.2,
          5,
          5,
          5,
          4.9,
          4.9,
          4.7,
          4.3,
          4.2,
          4,
          4,
          4,
          4,
          3.9,
          3.9,
          3.6,
          3.5,
          3.3,
          3,
          1,
          34.3,
          30.5,
          30,
          29.6,
          29.5,
          28.8,
          27.2,
          27.1,
          26.6,
          26.1,
          25.5,
          25.3,
          24,
          23.8,
          23.4,
          23.1,
          22.9,
          22.2,
          22.1,
          21.8,
          21.1,
          20.9,
          20.8,
          20.6,
          20.4,
          20.4,
          20.3,
          20.2,
          19.9,
          19.9,
          19.8,
          19.6,
          19.6,
          19.5,
          19.4,
          19.2,
          19.1,
          19,
          18.9,
          18.9,
          18.7,
          18.7,
          18.6,
          18.5,
          18.5,
          18.5,
          18.2,
          18.2,
          18.1,
          18,
          17.8,
          17.7,
          17.6,
          17.6,
          17.6,
          17.5,
          17.4,
          16.7,
          16.5,
          16.4,
          16.2,
          16.2,
          16,
          15.9,
          15.8,
          15.5,
          15.4,
          15.4,
          15.4,
          15.3,
          15.3,
          15.2,
          15.1,
          15.1,
          15.1,
          15,
          14.9,
          14.9,
          14.7,
          14.7,
          14.5,
          14.5,
          14.4,
          14.3,
          14,
          13.7,
          13.5,
          13.5,
          13.2,
          13.1,
          13,
          13,
          12.9,
          12.8,
          12.7,
          12.4,
          12.4,
          12.3,
          12.3,
          12.2,
          12.2,
          12.1,
          12.1,
          12.1,
          12.1,
          12,
          12,
          12,
          11.9,
          11.8,
          11.7,
          11.6,
          11.5,
          11.3,
          11.2,
          11.2,
          11.1,
          11.1,
          11,
          10.9,
          10.9,
          10.9,
          10.9,
          10.8,
          10.7,
          10.6,
          10.5,
          10.5,
          10.5,
          10.5,
          10.4,
          10.4,
          10.3,
          10.3,
          10.3,
          10.3,
          10.3,
          10.3,
          10.1,
          10.1,
          10.1,
          10.1,
          10,
          9.9,
          9.8,
          9.8,
          9.7,
          9.7,
          9.5,
          9.5,
          9.4,
          9.3,
          9.3,
          9.3,
          9.3,
          9.2,
          9.2,
          9.2,
          9.1,
          9.1,
          9,
          9,
          9,
          8.9,
          8.9,
          8.8,
          8.8,
          8.8,
          8.8,
          8.6,
          8.5,
          8.3,
          8.3,
          8.3,
          8.3,
          8.3,
          8.2,
          8.2,
          8.1,
          8,
          8,
          8,
          8,
          7.9,
          7.6,
          7.6,
          7.5,
          7.5,
          7.4,
          7.4,
          7.4,
          7.4,
          7.4,
          7.4,
          7.3,
          7.3,
          7.2,
          7.2,
          7,
          6.9,
          6.9,
          6.9,
          6.8,
          6.7,
          6.7,
          6.6,
          6.6,
          6.6,
          6.6,
          6.6,
          6.5,
          6.4,
          6.4,
          6.4,
          6.4,
          6.3,
          6.3,
          6.3,
          6.3,
          6.3,
          6.1,
          6,
          6,
          5.9,
          5.9,
          5.8,
          5.8,
          5.8,
          5.6,
          5.6,
          5.6,
          5.5,
          5.5,
          5.5,
          5.4,
          5.4,
          5.4,
          5.4,
          5.1,
          5.1,
          5.1,
          5,
          5,
          5,
          4.9,
          4.9,
          4.9,
          4.8,
          4.7,
          4.7,
          4.5,
          4.4,
          4.3,
          4,
          3.9,
          3.6,
          3.4,
          3.4,
          3.3,
          3.2,
          3.1,
          32,
          31.3,
          28.8,
          28.5,
          28.1,
          27.7,
          27.4,
          27,
          26.9,
          26.4,
          26.4,
          26.4,
          25.6,
          25.3,
          25.2,
          24.8,
          24.7,
          24.3,
          24.1,
          23.8,
          23.4,
          23.3,
          22.3,
          22.2,
          21.6,
          21.5,
          21.4,
          21.2,
          20.4,
          20.4,
          20.3,
          19.6,
          19.5,
          19.3,
          19.1,
          19,
          18.7,
          18.6,
          18.6,
          18.4,
          17.7,
          17.6,
          17.6,
          17.4,
          17.2,
          17.1,
          17,
          16.6,
          16.6,
          16.4,
          16.2,
          16.1,
          15.7,
          15.7,
          15.4,
          15.4,
          15.3,
          15.2,
          15.1,
          15.1,
          14.8,
          14.6,
          14.6,
          14.4,
          14.3,
          14.3,
          14.2,
          14.1,
          14,
          13.8,
          13.7,
          13.6,
          13.6,
          13.6,
          13.5,
          13.5,
          13.5,
          13.4,
          13.4,
          13.4,
          13.3,
          13.1,
          13,
          13,
          12.9,
          12.9,
          12.8,
          12.8,
          12.7,
          12.7,
          12.6,
          12.5,
          12.4,
          12.3,
          12.2,
          12.2,
          12.1,
          12.1,
          12.1,
          12,
          11.9,
          11.6,
          11.5,
          11.4,
          11.4,
          11.4,
          11.3,
          11.3,
          11.2,
          11.2,
          11.2,
          11.2,
          11,
          10.9,
          10.9,
          10.8,
          10.7,
          10.5,
          10.4,
          10.4,
          10.4,
          10.3,
          10.2,
          10.1,
          10.1,
          10.1,
          10,
          9.8,
          9.7,
          9.6,
          9.6,
          9.6,
          9.5,
          9.3,
          9.2,
          9.2,
          9.1,
          9.1,
          9,
          9,
          9,
          9,
          8.8,
          8.7,
          8.7,
          8.7,
          8.6,
          8.6,
          8.6,
          8.5,
          8.5,
          8.4,
          8.3,
          8.2,
          8.2,
          8.1,
          8.1,
          8,
          8,
          8,
          7.9,
          7.8,
          7.7,
          7.7,
          7.7,
          7.7,
          7.6,
          7.6,
          7.6,
          7.5,
          7.5,
          7.5,
          7.2,
          7.2,
          7.2,
          7.2,
          7.2,
          7,
          7,
          7,
          7,
          7,
          6.9,
          6.9,
          6.8,
          6.8,
          6.8,
          6.7,
          6.7,
          6.6,
          6.6,
          6.6,
          6.5,
          6.5,
          6.4,
          6.4,
          6.4,
          6.3,
          6.3,
          6.1,
          6.1,
          6,
          5.9,
          5.8,
          5.7,
          5.7,
          5.6,
          5.5,
          5.5,
          5.5,
          5.4,
          5.4,
          5.4,
          5.3,
          5.1,
          5.1,
          5,
          5,
          5,
          5,
          5,
          4.8,
          4.7,
          4.6,
          4.5,
          4.5,
          4.4,
          4.4,
          4.2,
          4.1,
          4.1,
          4.1,
          4,
          3.9,
          3.7,
          2.9,
          1.9,
          30.6,
          29.9,
          28.4,
          28.4,
          27.9,
          27.1,
          26.9,
          26.8,
          25.9,
          25.5,
          24.6,
          24.4,
          23.6,
          23.2,
          22.8,
          22.1,
          22,
          21.7,
          21.3,
          21.1,
          20.7,
          20.3,
          20.2,
          20.1,
          20.1,
          20.1,
          20,
          19.3,
          18.9,
          18.5,
          18.5,
          18.3,
          18.3,
          18.2,
          18.1,
          18.1,
          17.9,
          17.8,
          17.6,
          17.5,
          17.4,
          17.3,
          17.2,
          17.2,
          17.2,
          17.1,
          17,
          17,
          16.8,
          16.4,
          16.3,
          16.3,
          16.3,
          16.1,
          16,
          15.6,
          15.6,
          15.6,
          15.3,
          15.3,
          15.2,
          15.1,
          15,
          15,
          15,
          15,
          15,
          14.8,
          14.7,
          14.7,
          14.6,
          14.2,
          14.1,
          13.8,
          13.7,
          13.7,
          13.6,
          13.5,
          13.5,
          13.4,
          13.3,
          13.2,
          13.2,
          13.1,
          12.7,
          12.6,
          12.5,
          12.3,
          12.1,
          12.1,
          12.1,
          12.1,
          11.9,
          11.9,
          11.8,
          11.7,
          11.7,
          11.5,
          11.4,
          11.3,
          11.1,
          11.1,
          11.1,
          11,
          11,
          10.9,
          10.8,
          10.8,
          10.8,
          10.8,
          10.7,
          10.6,
          10.6,
          10.6,
          10.5,
          10.4,
          10.4,
          10.3,
          10.3,
          10.3,
          10.2,
          10.2,
          10.2,
          10.1,
          10.1,
          10,
          10,
          10,
          10,
          9.9,
          9.6,
          9.5,
          9.4,
          9.4,
          9.4,
          9.3,
          9.3,
          9.2,
          9.2,
          9.2,
          9.2,
          9.2,
          9.1,
          9.1,
          9,
          9,
          9,
          9,
          8.9,
          8.8,
          8.8,
          8.8,
          8.8,
          8.7,
          8.7,
          8.7,
          8.6,
          8.6,
          8.5,
          8.5,
          8.5,
          8.5,
          8.4,
          8.3,
          8.3,
          8.3,
          8.3,
          8.3,
          8.2,
          8.2,
          8.2,
          8.1,
          8,
          7.9,
          7.9,
          7.9,
          7.8,
          7.7,
          7.7,
          7.6,
          7.6,
          7.6,
          7.6,
          7.6,
          7.5,
          7.4,
          7.4,
          7.3,
          7.3,
          7.2,
          7.1,
          7,
          6.9,
          6.9,
          6.9,
          6.6,
          6.5,
          6.4,
          6.4,
          6.3,
          6.3,
          6.3,
          6.2,
          6.2,
          6.1,
          6.1,
          6,
          6,
          6,
          5.9,
          5.8,
          5.8,
          5.7,
          5.7,
          5.5,
          5.4,
          5.2,
          5.1,
          4.8,
          4.8,
          4.4,
          4.3,
          4.2,
          4.1,
          4.1,
          3.8,
          3.3,
          3.2,
          33.1,
          32.4,
          32.2,
          31.4,
          31.1,
          30.1,
          28.3,
          27.1,
          26.6,
          26.2,
          26.2,
          25.6,
          25.1,
          25,
          24.8,
          24.6,
          24.5,
          24.5,
          24.2,
          24,
          23.2,
          22.9,
          22.1,
          22,
          21.9,
          21.6,
          21.6,
          21.5,
          21.2,
          21.1,
          21.1,
          21,
          20.9,
          20.8,
          20.5,
          20.5,
          20.4,
          20.4,
          20.3,
          20.1,
          20.1,
          20,
          20,
          19.6,
          19.3,
          19.3,
          19.2,
          19.1,
          18.6,
          18.6,
          18,
          18,
          17.8,
          17.6,
          17.4,
          17.4,
          17.3,
          17,
          16.8,
          16.8,
          16.7,
          16.6,
          16.6,
          16.3,
          16.3,
          16.2,
          15.9,
          15.9,
          15.7,
          15.4,
          15.3,
          15.2,
          15,
          14.9,
          14.9,
          14.8,
          14.7,
          14.5,
          14.4,
          14.3,
          14.3,
          14.1,
          14.1,
          14.1,
          14,
          13.9,
          13.8,
          13.7,
          13.5,
          13.4,
          13.1,
          13,
          13,
          12.9,
          12.8,
          12.7,
          12.7,
          12.6,
          12.5,
          12.5,
          12.4,
          12.4,
          12.4,
          12.2,
          12.1,
          12.1,
          12,
          11.9,
          11.6,
          11.5,
          11.5,
          11.5,
          11.5,
          11.3,
          11.2,
          11.2,
          11.1,
          10.8,
          10.8,
          10.8,
          10.8,
          10.7,
          10.4,
          10.3,
          10.3,
          10.3,
          10.2,
          10.2,
          10.2,
          10.2,
          10.1,
          10.1,
          10.1,
          9.9,
          9.9,
          9.9,
          9.8,
          9.8,
          9.8,
          9.8,
          9.7,
          9.7,
          9.6,
          9.5,
          9.5,
          9.4,
          9.4,
          9.4,
          9.4,
          9.4,
          9.4,
          9.3,
          9.3,
          9.2,
          9.2,
          9.2,
          9.1,
          9.1,
          9.1,
          9.1,
          9,
          9,
          9,
          8.9,
          8.8,
          8.8,
          8.7,
          8.7,
          8.7,
          8.6,
          8.5,
          8.4,
          8.3,
          8.3,
          8.2,
          8.2,
          8.2,
          8.2,
          8.1,
          8,
          7.9,
          7.9,
          7.7,
          7.6,
          7.6,
          7.6,
          7.4,
          7.4,
          7.4,
          7.4,
          7.4,
          7.3,
          7.2,
          7.2,
          7.1,
          7.1,
          7,
          7,
          6.9,
          6.8,
          6.8,
          6.7,
          6.7,
          6.7,
          6.7,
          6.6,
          6.6,
          6.6,
          6.6,
          6.4,
          6.4,
          6.3,
          6.2,
          6.2,
          6.1,
          6.1,
          6.1,
          6,
          5.8,
          5.6,
          5.6,
          5.6,
          5.6,
          5.5,
          5.3,
          5.1,
          5,
          5,
          5,
          4.9,
          4.8,
          4.7,
          4.3,
          4.2,
          4.2,
          4.1,
          3.9,
          3.8,
          3.8,
          3.8,
          3.5,
          3.5,
          3.3,
          3.1,
          3
         ],
         "xaxis": "x",
         "yaxis": "y"
        }
       ],
       "layout": {
        "barmode": "relative",
        "legend": {
         "tracegroupgap": 0
        },
        "margin": {
         "t": 60
        },
        "template": {
         "data": {
          "bar": [
           {
            "error_x": {
             "color": "#2a3f5f"
            },
            "error_y": {
             "color": "#2a3f5f"
            },
            "marker": {
             "line": {
              "color": "#E5ECF6",
              "width": 0.5
             },
             "pattern": {
              "fillmode": "overlay",
              "size": 10,
              "solidity": 0.2
             }
            },
            "type": "bar"
           }
          ],
          "barpolar": [
           {
            "marker": {
             "line": {
              "color": "#E5ECF6",
              "width": 0.5
             },
             "pattern": {
              "fillmode": "overlay",
              "size": 10,
              "solidity": 0.2
             }
            },
            "type": "barpolar"
           }
          ],
          "carpet": [
           {
            "aaxis": {
             "endlinecolor": "#2a3f5f",
             "gridcolor": "white",
             "linecolor": "white",
             "minorgridcolor": "white",
             "startlinecolor": "#2a3f5f"
            },
            "baxis": {
             "endlinecolor": "#2a3f5f",
             "gridcolor": "white",
             "linecolor": "white",
             "minorgridcolor": "white",
             "startlinecolor": "#2a3f5f"
            },
            "type": "carpet"
           }
          ],
          "choropleth": [
           {
            "colorbar": {
             "outlinewidth": 0,
             "ticks": ""
            },
            "type": "choropleth"
           }
          ],
          "contour": [
           {
            "colorbar": {
             "outlinewidth": 0,
             "ticks": ""
            },
            "colorscale": [
             [
              0,
              "#0d0887"
             ],
             [
              0.1111111111111111,
              "#46039f"
             ],
             [
              0.2222222222222222,
              "#7201a8"
             ],
             [
              0.3333333333333333,
              "#9c179e"
             ],
             [
              0.4444444444444444,
              "#bd3786"
             ],
             [
              0.5555555555555556,
              "#d8576b"
             ],
             [
              0.6666666666666666,
              "#ed7953"
             ],
             [
              0.7777777777777778,
              "#fb9f3a"
             ],
             [
              0.8888888888888888,
              "#fdca26"
             ],
             [
              1,
              "#f0f921"
             ]
            ],
            "type": "contour"
           }
          ],
          "contourcarpet": [
           {
            "colorbar": {
             "outlinewidth": 0,
             "ticks": ""
            },
            "type": "contourcarpet"
           }
          ],
          "heatmap": [
           {
            "colorbar": {
             "outlinewidth": 0,
             "ticks": ""
            },
            "colorscale": [
             [
              0,
              "#0d0887"
             ],
             [
              0.1111111111111111,
              "#46039f"
             ],
             [
              0.2222222222222222,
              "#7201a8"
             ],
             [
              0.3333333333333333,
              "#9c179e"
             ],
             [
              0.4444444444444444,
              "#bd3786"
             ],
             [
              0.5555555555555556,
              "#d8576b"
             ],
             [
              0.6666666666666666,
              "#ed7953"
             ],
             [
              0.7777777777777778,
              "#fb9f3a"
             ],
             [
              0.8888888888888888,
              "#fdca26"
             ],
             [
              1,
              "#f0f921"
             ]
            ],
            "type": "heatmap"
           }
          ],
          "heatmapgl": [
           {
            "colorbar": {
             "outlinewidth": 0,
             "ticks": ""
            },
            "colorscale": [
             [
              0,
              "#0d0887"
             ],
             [
              0.1111111111111111,
              "#46039f"
             ],
             [
              0.2222222222222222,
              "#7201a8"
             ],
             [
              0.3333333333333333,
              "#9c179e"
             ],
             [
              0.4444444444444444,
              "#bd3786"
             ],
             [
              0.5555555555555556,
              "#d8576b"
             ],
             [
              0.6666666666666666,
              "#ed7953"
             ],
             [
              0.7777777777777778,
              "#fb9f3a"
             ],
             [
              0.8888888888888888,
              "#fdca26"
             ],
             [
              1,
              "#f0f921"
             ]
            ],
            "type": "heatmapgl"
           }
          ],
          "histogram": [
           {
            "marker": {
             "pattern": {
              "fillmode": "overlay",
              "size": 10,
              "solidity": 0.2
             }
            },
            "type": "histogram"
           }
          ],
          "histogram2d": [
           {
            "colorbar": {
             "outlinewidth": 0,
             "ticks": ""
            },
            "colorscale": [
             [
              0,
              "#0d0887"
             ],
             [
              0.1111111111111111,
              "#46039f"
             ],
             [
              0.2222222222222222,
              "#7201a8"
             ],
             [
              0.3333333333333333,
              "#9c179e"
             ],
             [
              0.4444444444444444,
              "#bd3786"
             ],
             [
              0.5555555555555556,
              "#d8576b"
             ],
             [
              0.6666666666666666,
              "#ed7953"
             ],
             [
              0.7777777777777778,
              "#fb9f3a"
             ],
             [
              0.8888888888888888,
              "#fdca26"
             ],
             [
              1,
              "#f0f921"
             ]
            ],
            "type": "histogram2d"
           }
          ],
          "histogram2dcontour": [
           {
            "colorbar": {
             "outlinewidth": 0,
             "ticks": ""
            },
            "colorscale": [
             [
              0,
              "#0d0887"
             ],
             [
              0.1111111111111111,
              "#46039f"
             ],
             [
              0.2222222222222222,
              "#7201a8"
             ],
             [
              0.3333333333333333,
              "#9c179e"
             ],
             [
              0.4444444444444444,
              "#bd3786"
             ],
             [
              0.5555555555555556,
              "#d8576b"
             ],
             [
              0.6666666666666666,
              "#ed7953"
             ],
             [
              0.7777777777777778,
              "#fb9f3a"
             ],
             [
              0.8888888888888888,
              "#fdca26"
             ],
             [
              1,
              "#f0f921"
             ]
            ],
            "type": "histogram2dcontour"
           }
          ],
          "mesh3d": [
           {
            "colorbar": {
             "outlinewidth": 0,
             "ticks": ""
            },
            "type": "mesh3d"
           }
          ],
          "parcoords": [
           {
            "line": {
             "colorbar": {
              "outlinewidth": 0,
              "ticks": ""
             }
            },
            "type": "parcoords"
           }
          ],
          "pie": [
           {
            "automargin": true,
            "type": "pie"
           }
          ],
          "scatter": [
           {
            "fillpattern": {
             "fillmode": "overlay",
             "size": 10,
             "solidity": 0.2
            },
            "type": "scatter"
           }
          ],
          "scatter3d": [
           {
            "line": {
             "colorbar": {
              "outlinewidth": 0,
              "ticks": ""
             }
            },
            "marker": {
             "colorbar": {
              "outlinewidth": 0,
              "ticks": ""
             }
            },
            "type": "scatter3d"
           }
          ],
          "scattercarpet": [
           {
            "marker": {
             "colorbar": {
              "outlinewidth": 0,
              "ticks": ""
             }
            },
            "type": "scattercarpet"
           }
          ],
          "scattergeo": [
           {
            "marker": {
             "colorbar": {
              "outlinewidth": 0,
              "ticks": ""
             }
            },
            "type": "scattergeo"
           }
          ],
          "scattergl": [
           {
            "marker": {
             "colorbar": {
              "outlinewidth": 0,
              "ticks": ""
             }
            },
            "type": "scattergl"
           }
          ],
          "scattermapbox": [
           {
            "marker": {
             "colorbar": {
              "outlinewidth": 0,
              "ticks": ""
             }
            },
            "type": "scattermapbox"
           }
          ],
          "scatterpolar": [
           {
            "marker": {
             "colorbar": {
              "outlinewidth": 0,
              "ticks": ""
             }
            },
            "type": "scatterpolar"
           }
          ],
          "scatterpolargl": [
           {
            "marker": {
             "colorbar": {
              "outlinewidth": 0,
              "ticks": ""
             }
            },
            "type": "scatterpolargl"
           }
          ],
          "scatterternary": [
           {
            "marker": {
             "colorbar": {
              "outlinewidth": 0,
              "ticks": ""
             }
            },
            "type": "scatterternary"
           }
          ],
          "surface": [
           {
            "colorbar": {
             "outlinewidth": 0,
             "ticks": ""
            },
            "colorscale": [
             [
              0,
              "#0d0887"
             ],
             [
              0.1111111111111111,
              "#46039f"
             ],
             [
              0.2222222222222222,
              "#7201a8"
             ],
             [
              0.3333333333333333,
              "#9c179e"
             ],
             [
              0.4444444444444444,
              "#bd3786"
             ],
             [
              0.5555555555555556,
              "#d8576b"
             ],
             [
              0.6666666666666666,
              "#ed7953"
             ],
             [
              0.7777777777777778,
              "#fb9f3a"
             ],
             [
              0.8888888888888888,
              "#fdca26"
             ],
             [
              1,
              "#f0f921"
             ]
            ],
            "type": "surface"
           }
          ],
          "table": [
           {
            "cells": {
             "fill": {
              "color": "#EBF0F8"
             },
             "line": {
              "color": "white"
             }
            },
            "header": {
             "fill": {
              "color": "#C8D4E3"
             },
             "line": {
              "color": "white"
             }
            },
            "type": "table"
           }
          ]
         },
         "layout": {
          "annotationdefaults": {
           "arrowcolor": "#2a3f5f",
           "arrowhead": 0,
           "arrowwidth": 1
          },
          "autotypenumbers": "strict",
          "coloraxis": {
           "colorbar": {
            "outlinewidth": 0,
            "ticks": ""
           }
          },
          "colorscale": {
           "diverging": [
            [
             0,
             "#8e0152"
            ],
            [
             0.1,
             "#c51b7d"
            ],
            [
             0.2,
             "#de77ae"
            ],
            [
             0.3,
             "#f1b6da"
            ],
            [
             0.4,
             "#fde0ef"
            ],
            [
             0.5,
             "#f7f7f7"
            ],
            [
             0.6,
             "#e6f5d0"
            ],
            [
             0.7,
             "#b8e186"
            ],
            [
             0.8,
             "#7fbc41"
            ],
            [
             0.9,
             "#4d9221"
            ],
            [
             1,
             "#276419"
            ]
           ],
           "sequential": [
            [
             0,
             "#0d0887"
            ],
            [
             0.1111111111111111,
             "#46039f"
            ],
            [
             0.2222222222222222,
             "#7201a8"
            ],
            [
             0.3333333333333333,
             "#9c179e"
            ],
            [
             0.4444444444444444,
             "#bd3786"
            ],
            [
             0.5555555555555556,
             "#d8576b"
            ],
            [
             0.6666666666666666,
             "#ed7953"
            ],
            [
             0.7777777777777778,
             "#fb9f3a"
            ],
            [
             0.8888888888888888,
             "#fdca26"
            ],
            [
             1,
             "#f0f921"
            ]
           ],
           "sequentialminus": [
            [
             0,
             "#0d0887"
            ],
            [
             0.1111111111111111,
             "#46039f"
            ],
            [
             0.2222222222222222,
             "#7201a8"
            ],
            [
             0.3333333333333333,
             "#9c179e"
            ],
            [
             0.4444444444444444,
             "#bd3786"
            ],
            [
             0.5555555555555556,
             "#d8576b"
            ],
            [
             0.6666666666666666,
             "#ed7953"
            ],
            [
             0.7777777777777778,
             "#fb9f3a"
            ],
            [
             0.8888888888888888,
             "#fdca26"
            ],
            [
             1,
             "#f0f921"
            ]
           ]
          },
          "colorway": [
           "#636efa",
           "#EF553B",
           "#00cc96",
           "#ab63fa",
           "#FFA15A",
           "#19d3f3",
           "#FF6692",
           "#B6E880",
           "#FF97FF",
           "#FECB52"
          ],
          "font": {
           "color": "#2a3f5f"
          },
          "geo": {
           "bgcolor": "white",
           "lakecolor": "white",
           "landcolor": "#E5ECF6",
           "showlakes": true,
           "showland": true,
           "subunitcolor": "white"
          },
          "hoverlabel": {
           "align": "left"
          },
          "hovermode": "closest",
          "mapbox": {
           "style": "light"
          },
          "paper_bgcolor": "white",
          "plot_bgcolor": "#E5ECF6",
          "polar": {
           "angularaxis": {
            "gridcolor": "white",
            "linecolor": "white",
            "ticks": ""
           },
           "bgcolor": "#E5ECF6",
           "radialaxis": {
            "gridcolor": "white",
            "linecolor": "white",
            "ticks": ""
           }
          },
          "scene": {
           "xaxis": {
            "backgroundcolor": "#E5ECF6",
            "gridcolor": "white",
            "gridwidth": 2,
            "linecolor": "white",
            "showbackground": true,
            "ticks": "",
            "zerolinecolor": "white"
           },
           "yaxis": {
            "backgroundcolor": "#E5ECF6",
            "gridcolor": "white",
            "gridwidth": 2,
            "linecolor": "white",
            "showbackground": true,
            "ticks": "",
            "zerolinecolor": "white"
           },
           "zaxis": {
            "backgroundcolor": "#E5ECF6",
            "gridcolor": "white",
            "gridwidth": 2,
            "linecolor": "white",
            "showbackground": true,
            "ticks": "",
            "zerolinecolor": "white"
           }
          },
          "shapedefaults": {
           "line": {
            "color": "#2a3f5f"
           }
          },
          "ternary": {
           "aaxis": {
            "gridcolor": "white",
            "linecolor": "white",
            "ticks": ""
           },
           "baxis": {
            "gridcolor": "white",
            "linecolor": "white",
            "ticks": ""
           },
           "bgcolor": "#E5ECF6",
           "caxis": {
            "gridcolor": "white",
            "linecolor": "white",
            "ticks": ""
           }
          },
          "title": {
           "x": 0.05
          },
          "xaxis": {
           "automargin": true,
           "gridcolor": "white",
           "linecolor": "white",
           "ticks": "",
           "title": {
            "standoff": 15
           },
           "zerolinecolor": "white",
           "zerolinewidth": 2
          },
          "yaxis": {
           "automargin": true,
           "gridcolor": "white",
           "linecolor": "white",
           "ticks": "",
           "title": {
            "standoff": 15
           },
           "zerolinecolor": "white",
           "zerolinewidth": 2
          }
         }
        },
        "xaxis": {
         "anchor": "y",
         "domain": [
          0,
          1
         ],
         "title": {
          "text": "x"
         }
        },
        "yaxis": {
         "anchor": "x",
         "domain": [
          0,
          1
         ],
         "title": {
          "text": "percent"
         }
        }
       }
      }
     },
     "metadata": {},
     "output_type": "display_data"
    }
   ],
   "source": [
    "fig = px.histogram(x=rs_df['PTS'], histnorm='percent')\n",
    "fig.show()"
   ]
  },
  {
   "cell_type": "code",
   "execution_count": 15,
   "metadata": {},
   "outputs": [
    {
     "data": {
      "application/vnd.plotly.v1+json": {
       "config": {
        "plotlyServerURL": "https://plot.ly"
       },
       "data": [
        {
         "alignmentgroup": "True",
         "bingroup": "x",
         "histnorm": "percent",
         "hovertemplate": "x=%{x}<br>percent=%{y}<extra></extra>",
         "legendgroup": "",
         "marker": {
          "color": "#636efa",
          "pattern": {
           "shape": ""
          }
         },
         "name": "",
         "offsetgroup": "",
         "orientation": "v",
         "showlegend": false,
         "type": "histogram",
         "x": [
          31.5,
          30.1,
          28.3,
          27.2,
          26,
          25.5,
          23.4,
          22.9,
          22.1,
          21.8,
          21.6,
          21.2,
          20.3,
          20.3,
          20.3,
          19.8,
          19.7,
          18.6,
          18.5,
          17.9,
          17.5,
          17,
          16.8,
          16.5,
          16.4,
          15.8,
          15.6,
          15.2,
          14.9,
          14.6,
          14.6,
          14.4,
          14.4,
          14.4,
          14.2,
          13.7,
          13.5,
          13.3,
          13.2,
          13.1,
          12.8,
          12.8,
          12.7,
          12.4,
          12.3,
          12.3,
          12.3,
          12.3,
          12.2,
          11.8,
          11.8,
          11.6,
          11.5,
          11.5,
          11.3,
          11.2,
          11.2,
          11.1,
          11,
          10.9,
          10.9,
          10.8,
          10.8,
          10.6,
          10.6,
          10.5,
          10.5,
          10.4,
          10.3,
          10.3,
          10.2,
          10.2,
          10.1,
          10,
          10,
          9.8,
          9.6,
          9.3,
          9.2,
          9.1,
          9,
          9,
          8.9,
          8.8,
          8.8,
          8.7,
          8.5,
          8.4,
          8.3,
          8,
          7.9,
          7.8,
          7.8,
          7.6,
          7.6,
          7.5,
          7.5,
          7.4,
          7.3,
          7.2,
          7,
          6.8,
          6.7,
          6.7,
          6.6,
          6.5,
          6.3,
          6.3,
          6,
          6,
          5.8,
          5.7,
          5.4,
          5.3,
          5.2,
          5,
          5,
          5,
          4.7,
          4.5,
          4.5,
          4.4,
          4.2,
          3.9,
          3.8,
          3.5,
          3.4,
          3.4,
          3.4,
          3.3,
          3.1,
          2.9,
          2.8,
          2.7,
          2.6,
          2,
          2,
          1.4,
          1.3,
          1.3,
          0.9,
          0.9,
          0.4,
          28.4,
          27.3,
          26.6,
          26.5,
          26.3,
          26,
          25.2,
          25.1,
          24.3,
          24.2,
          22.7,
          22.5,
          21.9,
          21.4,
          20.9,
          20.5,
          20.4,
          19.1,
          17.8,
          17.3,
          16.8,
          16.7,
          16.5,
          15.4,
          15.3,
          15,
          14.7,
          14.6,
          14.5,
          14.5,
          14.3,
          13.6,
          13.5,
          13.4,
          13.3,
          13.3,
          13.2,
          13.2,
          13,
          13,
          13,
          12.4,
          12.1,
          12,
          12,
          12,
          11.9,
          11.7,
          11.7,
          11.6,
          11.5,
          11.4,
          11.3,
          11,
          10.8,
          10.4,
          10.4,
          10.3,
          10.3,
          10.3,
          10.2,
          10.1,
          9.5,
          9.5,
          9.4,
          9.4,
          9.2,
          9,
          8.9,
          8.9,
          8.8,
          8.6,
          8.6,
          8.5,
          8.5,
          8.4,
          8.4,
          8.2,
          8.1,
          8,
          7.8,
          7.7,
          7.7,
          7.5,
          7.1,
          7,
          7,
          6.9,
          6.9,
          6.8,
          6.8,
          6.7,
          6.7,
          6.7,
          6.6,
          6.6,
          6.6,
          6.6,
          6.5,
          6.3,
          6.3,
          6.3,
          6.2,
          6,
          5.9,
          5.9,
          5.8,
          5.8,
          5.6,
          5.6,
          5.6,
          5.5,
          5.4,
          5.2,
          5.2,
          5.1,
          4.8,
          4.8,
          4.8,
          4.6,
          4.4,
          4,
          4,
          3.9,
          3.8,
          3.8,
          3.8,
          3.8,
          3.6,
          3.4,
          3.3,
          3.3,
          2.7,
          2.7,
          2.6,
          2.5,
          2.5,
          2.3,
          2.3,
          2.3,
          2.3,
          2.2,
          1.8,
          1.6,
          1.3,
          1.2,
          1.2,
          1.1,
          1,
          1,
          1,
          0.8,
          0,
          0,
          37.4,
          32.8,
          28.5,
          28.5,
          28.1,
          28,
          27.8,
          27.7,
          27.2,
          25.9,
          25.3,
          24.8,
          24.8,
          24.7,
          24.7,
          24.3,
          24.1,
          23.3,
          22.7,
          22.5,
          22.4,
          19.3,
          17,
          16.8,
          16.7,
          16.5,
          16,
          15.8,
          15.6,
          15.4,
          15.1,
          15,
          15,
          14.5,
          14.3,
          13.6,
          13.2,
          13.2,
          13.1,
          12.9,
          12.9,
          12.8,
          12.7,
          12.6,
          12.5,
          12.2,
          12.1,
          12,
          12,
          11.7,
          11.6,
          11.6,
          11.2,
          11.2,
          11.1,
          10.8,
          10.8,
          10.7,
          10.5,
          10.5,
          10.3,
          10.3,
          10,
          10,
          9.8,
          9.8,
          9.4,
          9.2,
          9.2,
          9.2,
          9.1,
          9,
          8.9,
          8.8,
          8.7,
          8.6,
          8.3,
          8.2,
          8.1,
          8.1,
          8,
          8,
          7.9,
          7.8,
          7.7,
          7.7,
          7.6,
          7.5,
          7.5,
          7.3,
          7.3,
          7.3,
          7.3,
          7.3,
          7.2,
          6.8,
          6.8,
          6.7,
          6.6,
          6.6,
          6.5,
          6.5,
          6,
          5.9,
          5.8,
          5.8,
          5.8,
          5.7,
          5.6,
          5.6,
          5.5,
          5.5,
          5.5,
          5.2,
          5.1,
          5,
          5,
          5,
          5,
          4.8,
          4.8,
          4.5,
          4.5,
          4.4,
          4.3,
          4.3,
          4.2,
          4.1,
          4.1,
          4,
          3.9,
          3.9,
          3.8,
          3.8,
          3.4,
          3.2,
          3.2,
          3,
          2.8,
          2.8,
          2.8,
          2.8,
          2.8,
          2.6,
          2.6,
          2.5,
          2.3,
          2,
          1.8,
          1.5,
          1.3,
          0.8,
          0.7,
          0,
          31.6,
          30.5,
          28.6,
          28.2,
          26.9,
          25.5,
          25.1,
          24.7,
          22.8,
          22,
          21.7,
          21.4,
          21.3,
          21.3,
          21,
          20.7,
          20.2,
          20,
          19.8,
          19.4,
          19.4,
          19,
          18.3,
          18,
          17.8,
          17.8,
          17,
          16.9,
          15.5,
          15.4,
          15.3,
          15.2,
          15.2,
          15.1,
          15,
          15,
          14.6,
          14.6,
          14.3,
          14.2,
          13.9,
          13.9,
          13.9,
          13.8,
          13.7,
          13.7,
          13.7,
          13.4,
          13.3,
          13.3,
          13.2,
          12.8,
          12.4,
          12,
          11.8,
          11.8,
          11.6,
          11.5,
          11.4,
          11.4,
          11.4,
          11.2,
          11.2,
          11.2,
          11.1,
          11,
          11,
          10.7,
          10.6,
          10.5,
          9.9,
          9.8,
          9.8,
          9.8,
          9.7,
          9.6,
          9.5,
          9.4,
          9.4,
          9.1,
          8.8,
          8.5,
          8.4,
          8.1,
          8,
          7.8,
          7.8,
          7.7,
          7.5,
          7.5,
          7.4,
          7.4,
          7.3,
          7.1,
          7,
          6.9,
          6.8,
          6.8,
          6.6,
          6.6,
          6.6,
          6.6,
          6.5,
          6.4,
          6.4,
          6.3,
          6.2,
          6,
          5.9,
          5.8,
          5.6,
          5.6,
          5.5,
          5.4,
          5.3,
          5.2,
          5,
          4.8,
          4.8,
          4.7,
          4.6,
          4.4,
          4.3,
          4.2,
          4.1,
          4,
          4,
          3.8,
          3.6,
          3.6,
          3.5,
          3.3,
          3.2,
          3,
          3,
          2.7,
          2.7,
          2.7,
          2.6,
          2.5,
          2.3,
          2.2,
          2.1,
          2.1,
          2,
          1.9,
          1.7,
          1.7,
          1.6,
          1.4,
          1.3,
          1.2,
          1,
          0,
          0,
          36.3,
          31,
          30,
          29.6,
          28.2,
          28,
          27.7,
          27.6,
          26.7,
          26.5,
          25.7,
          24.4,
          24.3,
          23.2,
          22.2,
          21.8,
          21.5,
          21.3,
          20.3,
          20.3,
          20.2,
          20,
          19.8,
          19.6,
          19.6,
          19.1,
          17.8,
          17.8,
          17.8,
          17.7,
          17.3,
          17.3,
          17,
          16.9,
          16.8,
          16.7,
          16.4,
          16.3,
          16,
          16,
          15.8,
          15.8,
          15.8,
          15.2,
          15,
          14.8,
          14.5,
          14.5,
          14.2,
          13.8,
          13.4,
          13.2,
          12.8,
          12.8,
          12.8,
          12.5,
          12.3,
          12,
          12,
          12,
          11.8,
          11.7,
          11.7,
          11.6,
          11.6,
          11.4,
          11.4,
          11.2,
          10.7,
          10.5,
          10.5,
          10.5,
          10.3,
          10.2,
          10.1,
          10,
          9.6,
          9.5,
          9.1,
          9.1,
          9.1,
          8.9,
          8.9,
          8.3,
          8,
          8,
          7.9,
          7.8,
          7.6,
          7.4,
          7.4,
          7.3,
          7.2,
          7,
          7,
          6.8,
          6.8,
          6.8,
          6.7,
          6.6,
          6.6,
          6.5,
          6.3,
          6.2,
          6.1,
          6.1,
          6,
          5.9,
          5.8,
          5.8,
          5.6,
          5.5,
          5.5,
          5.3,
          5.2,
          5,
          4.9,
          4.9,
          4.8,
          4.8,
          4.7,
          4.6,
          4.5,
          4.2,
          4,
          4,
          4,
          3.8,
          3.7,
          3.1,
          3,
          2.8,
          2.5,
          2.4,
          2.3,
          2.3,
          2.3,
          2,
          1.8,
          1.6,
          1.5,
          1.5,
          1.5,
          1.4,
          1.3,
          0.8,
          0.3,
          35.7,
          34.3,
          34.3,
          32.3,
          30.6,
          30.2,
          30.2,
          30,
          29.8,
          28.8,
          28.1,
          27.3,
          26.9,
          25.8,
          23.6,
          23.3,
          22.7,
          21.8,
          20.7,
          20.2,
          19.4,
          19.2,
          19,
          18.8,
          18.1,
          18,
          17.8,
          17.8,
          17.5,
          17.4,
          17.4,
          17.3,
          17,
          17,
          16,
          15.8,
          15.5,
          15.4,
          15,
          14.8,
          14.7,
          14.5,
          14.4,
          14.3,
          14.1,
          14,
          13.9,
          13.7,
          13.6,
          13.2,
          13.1,
          13,
          12.8,
          12.3,
          12.2,
          11.9,
          11.8,
          11.3,
          11.2,
          11.1,
          11.1,
          11.1,
          10.8,
          10.4,
          10.3,
          10.3,
          10.3,
          10.2,
          10.1,
          9.3,
          9.3,
          9.3,
          9.3,
          9.3,
          9.2,
          9,
          9,
          9,
          8.8,
          8.8,
          8.5,
          8.4,
          8.2,
          8.1,
          8,
          7.9,
          7.7,
          7.6,
          7.4,
          7,
          6.9,
          6.8,
          6.6,
          6.5,
          6.4,
          6.4,
          6.4,
          6.4,
          6.3,
          6.3,
          6.3,
          6.3,
          6.2,
          6.2,
          5.8,
          5.8,
          5.6,
          5.6,
          5.5,
          5.4,
          5.3,
          5.3,
          5.2,
          5,
          4.9,
          4.9,
          4.8,
          4.7,
          4.7,
          4.7,
          4.6,
          4.3,
          4.3,
          4.2,
          4,
          4,
          3.8,
          3.7,
          3.4,
          3.4,
          3.4,
          3.2,
          3.2,
          3,
          2.7,
          2.7,
          2.5,
          2.5,
          2.3,
          2,
          2,
          1.7,
          1.2,
          1,
          0,
          0,
          0,
          31.7,
          31.7,
          31,
          27.4,
          27.4,
          27.1,
          27,
          26.3,
          25.6,
          25.5,
          25.2,
          23.6,
          23.3,
          23.1,
          22.8,
          22.2,
          21.8,
          21.6,
          21.3,
          21.2,
          20.8,
          20.8,
          19.4,
          19.3,
          19.1,
          19,
          18.8,
          18.6,
          18,
          17.9,
          17.5,
          17.5,
          17.3,
          17,
          16.9,
          16.5,
          15.4,
          15.4,
          15.4,
          15.3,
          14.8,
          14.6,
          14.5,
          14.5,
          14.3,
          14.2,
          14,
          14,
          13.8,
          13.8,
          13.3,
          12.6,
          12.3,
          12,
          12,
          12,
          11.8,
          11.7,
          11.2,
          11,
          10.9,
          10.8,
          10.7,
          10.6,
          10.6,
          10.6,
          10.6,
          10.6,
          10.5,
          10.5,
          10.2,
          10.2,
          9.5,
          9.4,
          9.4,
          9.3,
          9.2,
          9.2,
          9.2,
          9.2,
          9.2,
          8.7,
          8.6,
          8.6,
          8.5,
          8.5,
          8.4,
          8.3,
          8.2,
          8,
          8,
          8,
          7.9,
          7.7,
          6.9,
          6.8,
          6.3,
          6.3,
          6.2,
          6.2,
          6.2,
          6,
          6,
          5.8,
          5.8,
          5.6,
          5.6,
          5.5,
          5.4,
          5.2,
          5.2,
          5.2,
          5,
          4.8,
          4.8,
          4.8,
          4.5,
          4.4,
          4.3,
          4.3,
          4.2,
          4.2,
          4.1,
          4,
          4,
          4,
          4,
          3.8,
          3.8,
          3.8,
          3.8,
          3.7,
          3.3,
          3.2,
          3.1,
          3,
          3,
          3,
          2.3,
          2.1,
          2,
          1.8,
          1.4,
          1.4,
          1.3,
          0.8,
          0,
          0,
          35.9,
          33.5,
          31.6,
          30.6,
          30.6,
          29.6,
          29.2,
          27.4,
          26.9,
          25.9,
          25.3,
          25.2,
          24.6,
          24.6,
          23.8,
          23.6,
          23.5,
          23.5,
          23.2,
          23,
          22.6,
          22.3,
          21.8,
          21.4,
          20.6,
          20.3,
          20.3,
          19.4,
          19,
          19,
          18.5,
          18.2,
          18,
          17.8,
          17.6,
          16.9,
          16.7,
          16.5,
          16.4,
          16.3,
          16.1,
          15.9,
          15.4,
          15,
          15,
          14.9,
          14.9,
          14.7,
          14.1,
          13.6,
          13.4,
          13.3,
          12.7,
          12.4,
          12.1,
          12.1,
          12,
          12,
          11.6,
          11.3,
          11.2,
          11.1,
          10.7,
          10.6,
          10.5,
          10.5,
          10.5,
          10.2,
          10.2,
          10.1,
          9.8,
          9.7,
          9.6,
          9.5,
          9.4,
          9.2,
          9.1,
          9,
          8.9,
          8.7,
          8.7,
          8.6,
          8.5,
          8.4,
          8.4,
          8.3,
          8.3,
          8.2,
          7.8,
          7.6,
          7.5,
          7.3,
          7.2,
          7.2,
          7.1,
          7.1,
          6.8,
          6.8,
          6.7,
          6.6,
          6.5,
          6.5,
          6.5,
          6.5,
          6.4,
          6.3,
          6.3,
          6.1,
          6,
          6,
          5.8,
          5.4,
          5,
          5,
          5,
          4.7,
          4.5,
          4.4,
          4.3,
          4.3,
          4.2,
          4.1,
          3.9,
          3.9,
          3.8,
          3.6,
          3.4,
          3.4,
          3.2,
          3.1,
          3.1,
          2.8,
          2.7,
          2.7,
          2.6,
          2.5,
          2.2,
          1.8,
          1.8,
          1.8,
          1.6,
          1.3,
          1,
          0.8,
          0.8,
          0
         ],
         "xaxis": "x",
         "yaxis": "y"
        }
       ],
       "layout": {
        "barmode": "relative",
        "legend": {
         "tracegroupgap": 0
        },
        "margin": {
         "t": 60
        },
        "template": {
         "data": {
          "bar": [
           {
            "error_x": {
             "color": "#2a3f5f"
            },
            "error_y": {
             "color": "#2a3f5f"
            },
            "marker": {
             "line": {
              "color": "#E5ECF6",
              "width": 0.5
             },
             "pattern": {
              "fillmode": "overlay",
              "size": 10,
              "solidity": 0.2
             }
            },
            "type": "bar"
           }
          ],
          "barpolar": [
           {
            "marker": {
             "line": {
              "color": "#E5ECF6",
              "width": 0.5
             },
             "pattern": {
              "fillmode": "overlay",
              "size": 10,
              "solidity": 0.2
             }
            },
            "type": "barpolar"
           }
          ],
          "carpet": [
           {
            "aaxis": {
             "endlinecolor": "#2a3f5f",
             "gridcolor": "white",
             "linecolor": "white",
             "minorgridcolor": "white",
             "startlinecolor": "#2a3f5f"
            },
            "baxis": {
             "endlinecolor": "#2a3f5f",
             "gridcolor": "white",
             "linecolor": "white",
             "minorgridcolor": "white",
             "startlinecolor": "#2a3f5f"
            },
            "type": "carpet"
           }
          ],
          "choropleth": [
           {
            "colorbar": {
             "outlinewidth": 0,
             "ticks": ""
            },
            "type": "choropleth"
           }
          ],
          "contour": [
           {
            "colorbar": {
             "outlinewidth": 0,
             "ticks": ""
            },
            "colorscale": [
             [
              0,
              "#0d0887"
             ],
             [
              0.1111111111111111,
              "#46039f"
             ],
             [
              0.2222222222222222,
              "#7201a8"
             ],
             [
              0.3333333333333333,
              "#9c179e"
             ],
             [
              0.4444444444444444,
              "#bd3786"
             ],
             [
              0.5555555555555556,
              "#d8576b"
             ],
             [
              0.6666666666666666,
              "#ed7953"
             ],
             [
              0.7777777777777778,
              "#fb9f3a"
             ],
             [
              0.8888888888888888,
              "#fdca26"
             ],
             [
              1,
              "#f0f921"
             ]
            ],
            "type": "contour"
           }
          ],
          "contourcarpet": [
           {
            "colorbar": {
             "outlinewidth": 0,
             "ticks": ""
            },
            "type": "contourcarpet"
           }
          ],
          "heatmap": [
           {
            "colorbar": {
             "outlinewidth": 0,
             "ticks": ""
            },
            "colorscale": [
             [
              0,
              "#0d0887"
             ],
             [
              0.1111111111111111,
              "#46039f"
             ],
             [
              0.2222222222222222,
              "#7201a8"
             ],
             [
              0.3333333333333333,
              "#9c179e"
             ],
             [
              0.4444444444444444,
              "#bd3786"
             ],
             [
              0.5555555555555556,
              "#d8576b"
             ],
             [
              0.6666666666666666,
              "#ed7953"
             ],
             [
              0.7777777777777778,
              "#fb9f3a"
             ],
             [
              0.8888888888888888,
              "#fdca26"
             ],
             [
              1,
              "#f0f921"
             ]
            ],
            "type": "heatmap"
           }
          ],
          "heatmapgl": [
           {
            "colorbar": {
             "outlinewidth": 0,
             "ticks": ""
            },
            "colorscale": [
             [
              0,
              "#0d0887"
             ],
             [
              0.1111111111111111,
              "#46039f"
             ],
             [
              0.2222222222222222,
              "#7201a8"
             ],
             [
              0.3333333333333333,
              "#9c179e"
             ],
             [
              0.4444444444444444,
              "#bd3786"
             ],
             [
              0.5555555555555556,
              "#d8576b"
             ],
             [
              0.6666666666666666,
              "#ed7953"
             ],
             [
              0.7777777777777778,
              "#fb9f3a"
             ],
             [
              0.8888888888888888,
              "#fdca26"
             ],
             [
              1,
              "#f0f921"
             ]
            ],
            "type": "heatmapgl"
           }
          ],
          "histogram": [
           {
            "marker": {
             "pattern": {
              "fillmode": "overlay",
              "size": 10,
              "solidity": 0.2
             }
            },
            "type": "histogram"
           }
          ],
          "histogram2d": [
           {
            "colorbar": {
             "outlinewidth": 0,
             "ticks": ""
            },
            "colorscale": [
             [
              0,
              "#0d0887"
             ],
             [
              0.1111111111111111,
              "#46039f"
             ],
             [
              0.2222222222222222,
              "#7201a8"
             ],
             [
              0.3333333333333333,
              "#9c179e"
             ],
             [
              0.4444444444444444,
              "#bd3786"
             ],
             [
              0.5555555555555556,
              "#d8576b"
             ],
             [
              0.6666666666666666,
              "#ed7953"
             ],
             [
              0.7777777777777778,
              "#fb9f3a"
             ],
             [
              0.8888888888888888,
              "#fdca26"
             ],
             [
              1,
              "#f0f921"
             ]
            ],
            "type": "histogram2d"
           }
          ],
          "histogram2dcontour": [
           {
            "colorbar": {
             "outlinewidth": 0,
             "ticks": ""
            },
            "colorscale": [
             [
              0,
              "#0d0887"
             ],
             [
              0.1111111111111111,
              "#46039f"
             ],
             [
              0.2222222222222222,
              "#7201a8"
             ],
             [
              0.3333333333333333,
              "#9c179e"
             ],
             [
              0.4444444444444444,
              "#bd3786"
             ],
             [
              0.5555555555555556,
              "#d8576b"
             ],
             [
              0.6666666666666666,
              "#ed7953"
             ],
             [
              0.7777777777777778,
              "#fb9f3a"
             ],
             [
              0.8888888888888888,
              "#fdca26"
             ],
             [
              1,
              "#f0f921"
             ]
            ],
            "type": "histogram2dcontour"
           }
          ],
          "mesh3d": [
           {
            "colorbar": {
             "outlinewidth": 0,
             "ticks": ""
            },
            "type": "mesh3d"
           }
          ],
          "parcoords": [
           {
            "line": {
             "colorbar": {
              "outlinewidth": 0,
              "ticks": ""
             }
            },
            "type": "parcoords"
           }
          ],
          "pie": [
           {
            "automargin": true,
            "type": "pie"
           }
          ],
          "scatter": [
           {
            "fillpattern": {
             "fillmode": "overlay",
             "size": 10,
             "solidity": 0.2
            },
            "type": "scatter"
           }
          ],
          "scatter3d": [
           {
            "line": {
             "colorbar": {
              "outlinewidth": 0,
              "ticks": ""
             }
            },
            "marker": {
             "colorbar": {
              "outlinewidth": 0,
              "ticks": ""
             }
            },
            "type": "scatter3d"
           }
          ],
          "scattercarpet": [
           {
            "marker": {
             "colorbar": {
              "outlinewidth": 0,
              "ticks": ""
             }
            },
            "type": "scattercarpet"
           }
          ],
          "scattergeo": [
           {
            "marker": {
             "colorbar": {
              "outlinewidth": 0,
              "ticks": ""
             }
            },
            "type": "scattergeo"
           }
          ],
          "scattergl": [
           {
            "marker": {
             "colorbar": {
              "outlinewidth": 0,
              "ticks": ""
             }
            },
            "type": "scattergl"
           }
          ],
          "scattermapbox": [
           {
            "marker": {
             "colorbar": {
              "outlinewidth": 0,
              "ticks": ""
             }
            },
            "type": "scattermapbox"
           }
          ],
          "scatterpolar": [
           {
            "marker": {
             "colorbar": {
              "outlinewidth": 0,
              "ticks": ""
             }
            },
            "type": "scatterpolar"
           }
          ],
          "scatterpolargl": [
           {
            "marker": {
             "colorbar": {
              "outlinewidth": 0,
              "ticks": ""
             }
            },
            "type": "scatterpolargl"
           }
          ],
          "scatterternary": [
           {
            "marker": {
             "colorbar": {
              "outlinewidth": 0,
              "ticks": ""
             }
            },
            "type": "scatterternary"
           }
          ],
          "surface": [
           {
            "colorbar": {
             "outlinewidth": 0,
             "ticks": ""
            },
            "colorscale": [
             [
              0,
              "#0d0887"
             ],
             [
              0.1111111111111111,
              "#46039f"
             ],
             [
              0.2222222222222222,
              "#7201a8"
             ],
             [
              0.3333333333333333,
              "#9c179e"
             ],
             [
              0.4444444444444444,
              "#bd3786"
             ],
             [
              0.5555555555555556,
              "#d8576b"
             ],
             [
              0.6666666666666666,
              "#ed7953"
             ],
             [
              0.7777777777777778,
              "#fb9f3a"
             ],
             [
              0.8888888888888888,
              "#fdca26"
             ],
             [
              1,
              "#f0f921"
             ]
            ],
            "type": "surface"
           }
          ],
          "table": [
           {
            "cells": {
             "fill": {
              "color": "#EBF0F8"
             },
             "line": {
              "color": "white"
             }
            },
            "header": {
             "fill": {
              "color": "#C8D4E3"
             },
             "line": {
              "color": "white"
             }
            },
            "type": "table"
           }
          ]
         },
         "layout": {
          "annotationdefaults": {
           "arrowcolor": "#2a3f5f",
           "arrowhead": 0,
           "arrowwidth": 1
          },
          "autotypenumbers": "strict",
          "coloraxis": {
           "colorbar": {
            "outlinewidth": 0,
            "ticks": ""
           }
          },
          "colorscale": {
           "diverging": [
            [
             0,
             "#8e0152"
            ],
            [
             0.1,
             "#c51b7d"
            ],
            [
             0.2,
             "#de77ae"
            ],
            [
             0.3,
             "#f1b6da"
            ],
            [
             0.4,
             "#fde0ef"
            ],
            [
             0.5,
             "#f7f7f7"
            ],
            [
             0.6,
             "#e6f5d0"
            ],
            [
             0.7,
             "#b8e186"
            ],
            [
             0.8,
             "#7fbc41"
            ],
            [
             0.9,
             "#4d9221"
            ],
            [
             1,
             "#276419"
            ]
           ],
           "sequential": [
            [
             0,
             "#0d0887"
            ],
            [
             0.1111111111111111,
             "#46039f"
            ],
            [
             0.2222222222222222,
             "#7201a8"
            ],
            [
             0.3333333333333333,
             "#9c179e"
            ],
            [
             0.4444444444444444,
             "#bd3786"
            ],
            [
             0.5555555555555556,
             "#d8576b"
            ],
            [
             0.6666666666666666,
             "#ed7953"
            ],
            [
             0.7777777777777778,
             "#fb9f3a"
            ],
            [
             0.8888888888888888,
             "#fdca26"
            ],
            [
             1,
             "#f0f921"
            ]
           ],
           "sequentialminus": [
            [
             0,
             "#0d0887"
            ],
            [
             0.1111111111111111,
             "#46039f"
            ],
            [
             0.2222222222222222,
             "#7201a8"
            ],
            [
             0.3333333333333333,
             "#9c179e"
            ],
            [
             0.4444444444444444,
             "#bd3786"
            ],
            [
             0.5555555555555556,
             "#d8576b"
            ],
            [
             0.6666666666666666,
             "#ed7953"
            ],
            [
             0.7777777777777778,
             "#fb9f3a"
            ],
            [
             0.8888888888888888,
             "#fdca26"
            ],
            [
             1,
             "#f0f921"
            ]
           ]
          },
          "colorway": [
           "#636efa",
           "#EF553B",
           "#00cc96",
           "#ab63fa",
           "#FFA15A",
           "#19d3f3",
           "#FF6692",
           "#B6E880",
           "#FF97FF",
           "#FECB52"
          ],
          "font": {
           "color": "#2a3f5f"
          },
          "geo": {
           "bgcolor": "white",
           "lakecolor": "white",
           "landcolor": "#E5ECF6",
           "showlakes": true,
           "showland": true,
           "subunitcolor": "white"
          },
          "hoverlabel": {
           "align": "left"
          },
          "hovermode": "closest",
          "mapbox": {
           "style": "light"
          },
          "paper_bgcolor": "white",
          "plot_bgcolor": "#E5ECF6",
          "polar": {
           "angularaxis": {
            "gridcolor": "white",
            "linecolor": "white",
            "ticks": ""
           },
           "bgcolor": "#E5ECF6",
           "radialaxis": {
            "gridcolor": "white",
            "linecolor": "white",
            "ticks": ""
           }
          },
          "scene": {
           "xaxis": {
            "backgroundcolor": "#E5ECF6",
            "gridcolor": "white",
            "gridwidth": 2,
            "linecolor": "white",
            "showbackground": true,
            "ticks": "",
            "zerolinecolor": "white"
           },
           "yaxis": {
            "backgroundcolor": "#E5ECF6",
            "gridcolor": "white",
            "gridwidth": 2,
            "linecolor": "white",
            "showbackground": true,
            "ticks": "",
            "zerolinecolor": "white"
           },
           "zaxis": {
            "backgroundcolor": "#E5ECF6",
            "gridcolor": "white",
            "gridwidth": 2,
            "linecolor": "white",
            "showbackground": true,
            "ticks": "",
            "zerolinecolor": "white"
           }
          },
          "shapedefaults": {
           "line": {
            "color": "#2a3f5f"
           }
          },
          "ternary": {
           "aaxis": {
            "gridcolor": "white",
            "linecolor": "white",
            "ticks": ""
           },
           "baxis": {
            "gridcolor": "white",
            "linecolor": "white",
            "ticks": ""
           },
           "bgcolor": "#E5ECF6",
           "caxis": {
            "gridcolor": "white",
            "linecolor": "white",
            "ticks": ""
           }
          },
          "title": {
           "x": 0.05
          },
          "xaxis": {
           "automargin": true,
           "gridcolor": "white",
           "linecolor": "white",
           "ticks": "",
           "title": {
            "standoff": 15
           },
           "zerolinecolor": "white",
           "zerolinewidth": 2
          },
          "yaxis": {
           "automargin": true,
           "gridcolor": "white",
           "linecolor": "white",
           "ticks": "",
           "title": {
            "standoff": 15
           },
           "zerolinecolor": "white",
           "zerolinewidth": 2
          }
         }
        },
        "xaxis": {
         "anchor": "y",
         "domain": [
          0,
          1
         ],
         "title": {
          "text": "x"
         }
        },
        "yaxis": {
         "anchor": "x",
         "domain": [
          0,
          1
         ],
         "title": {
          "text": "percent"
         }
        }
       }
      }
     },
     "metadata": {},
     "output_type": "display_data"
    }
   ],
   "source": [
    "fig = px.histogram(x=playoffs_df['PTS'], histnorm='percent')\n",
    "fig.show()"
   ]
  },
  {
   "cell_type": "code",
   "execution_count": 16,
   "metadata": {},
   "outputs": [],
   "source": [
    "def hist_data(df=rs_df, min_PTS=0, min_GP=0):\n",
    "    return df.loc[(df['PTS']>=min_PTS) & (df['GP']>=min_GP), 'PTS'] /\\\n",
    "    df.loc[(df['PTS']>=min_PTS) & (df['GP']>=min_GP), 'GP']"
   ]
  },
  {
   "cell_type": "code",
   "execution_count": 17,
   "metadata": {},
   "outputs": [
    {
     "data": {
      "application/vnd.plotly.v1+json": {
       "config": {
        "plotlyServerURL": "https://plot.ly"
       },
       "data": [
        {
         "histnorm": "percent",
         "name": "RS",
         "opacity": 0.5,
         "type": "histogram",
         "x": [
          0.41940298507462687,
          0.3382716049382716,
          0.3666666666666667,
          0.3588235294117647,
          0.40847457627118644,
          0.2975,
          0.3295774647887324,
          0.32686567164179103,
          0.28933333333333333,
          0.2818181818181818,
          0.3467741935483871,
          0.31029411764705883,
          0.25609756097560976,
          0.335,
          0.3076923076923077,
          0.2608108108108108,
          0.25394736842105264,
          0.2329268292682927,
          0.23625,
          0.23717948717948717,
          0.2486111111111111,
          0.2542857142857143,
          0.2227848101265823,
          0.2148148148148148,
          0.27903225806451615,
          0.2246753246753247,
          0.23888888888888887,
          0.2514705882352941,
          0.20987654320987653,
          0.2698412698412698,
          0.20609756097560974,
          0.22876712328767124,
          0.25538461538461543,
          0.21012658227848102,
          0.2578125,
          0.24477611940298505,
          0.21866666666666665,
          0.21025641025641023,
          0.20897435897435898,
          0.22676056338028172,
          0.21621621621621623,
          0.265,
          0.21780821917808219,
          0.23043478260869565,
          0.22571428571428573,
          0.246875,
          0.23787878787878786,
          0.19375,
          0.20666666666666667,
          0.18658536585365854,
          0.24285714285714285,
          0.20266666666666666,
          0.19999999999999998,
          0.19230769230769232,
          0.2212121212121212,
          0.18831168831168832,
          0.18,
          0.21176470588235294,
          0.2234375,
          0.20882352941176469,
          0.18552631578947368,
          0.19444444444444445,
          0.1782051282051282,
          0.18051948051948052,
          0.18051948051948052,
          0.16829268292682928,
          0.2245901639344262,
          0.19285714285714287,
          0.19285714285714287,
          0.219672131147541,
          0.16962025316455698,
          0.22931034482758622,
          0.17051282051282052,
          0.19117647058823528,
          0.16842105263157894,
          0.15609756097560976,
          0.1548780487804878,
          0.1567901234567901,
          0.17746478873239435,
          0.18,
          0.16799999999999998,
          0.21016949152542375,
          0.1493975903614458,
          0.14878048780487804,
          0.16133333333333333,
          0.1475609756097561,
          0.15125,
          0.17285714285714285,
          0.16901408450704225,
          0.15,
          0.20689655172413793,
          0.17142857142857143,
          0.15,
          0.1608108108108108,
          0.2016949152542373,
          0.16301369863013698,
          0.16619718309859155,
          0.14750000000000002,
          0.14444444444444443,
          0.1481012658227848,
          0.17727272727272725,
          0.14146341463414633,
          0.1402439024390244,
          0.19827586206896552,
          0.19491525423728814,
          0.16428571428571428,
          0.14375,
          0.16056338028169015,
          0.15135135135135133,
          0.185,
          0.16417910447761194,
          0.1445945945945946,
          0.12926829268292683,
          0.1394736842105263,
          0.15,
          0.12839506172839507,
          0.1368421052631579,
          0.16612903225806452,
          0.13733333333333334,
          0.1609375,
          0.1275,
          0.12439024390243901,
          0.12439024390243901,
          0.13116883116883116,
          0.13116883116883116,
          0.12317073170731707,
          0.13289473684210526,
          0.15384615384615385,
          0.12987012987012986,
          0.132,
          0.13026315789473686,
          0.14776119402985075,
          0.11951219512195123,
          0.1328767123287671,
          0.11975308641975307,
          0.16271186440677965,
          0.11585365853658537,
          0.11585365853658537,
          0.11585365853658537,
          0.1492063492063492,
          0.11604938271604939,
          0.13239436619718312,
          0.12400000000000001,
          0.14838709677419354,
          0.11666666666666667,
          0.11538461538461539,
          0.13088235294117648,
          0.10853658536585366,
          0.10853658536585366,
          0.1328358208955224,
          0.123943661971831,
          0.11578947368421054,
          0.10609756097560975,
          0.1074074074074074,
          0.11621621621621621,
          0.1365079365079365,
          0.10365853658536585,
          0.10243902439024391,
          0.11216216216216217,
          0.10506329113924051,
          0.13174603174603175,
          0.1136986301369863,
          0.13442622950819672,
          0.1095890410958904,
          0.12903225806451613,
          0.0975609756097561,
          0.09876543209876543,
          0.125,
          0.11285714285714286,
          0.12741935483870967,
          0.10129870129870129,
          0.11641791044776119,
          0.11470588235294117,
          0.10129870129870129,
          0.10266666666666667,
          0.11,
          0.09390243902439024,
          0.09746835443037975,
          0.10133333333333333,
          0.12258064516129032,
          0.10410958904109588,
          0.09740259740259741,
          0.12931034482758622,
          0.09487179487179488,
          0.10882352941176471,
          0.1,
          0.09605263157894736,
          0.09733333333333333,
          0.09733333333333333,
          0.10746268656716418,
          0.1,
          0.10285714285714286,
          0.09113924050632911,
          0.096,
          0.11451612903225807,
          0.10757575757575757,
          0.09090909090909091,
          0.1044776119402985,
          0.09210526315789473,
          0.11129032258064517,
          0.11724137931034483,
          0.10967741935483871,
          0.10149253731343283,
          0.08607594936708861,
          0.09305555555555556,
          0.11379310344827585,
          0.09428571428571428,
          0.08354430379746836,
          0.09558823529411764,
          0.08289473684210526,
          0.09692307692307692,
          0.09402985074626866,
          0.0984375,
          0.0984375,
          0.09130434782608696,
          0.08157894736842106,
          0.07530864197530864,
          0.08333333333333333,
          0.09523809523809523,
          0.08108108108108109,
          0.075,
          0.08,
          0.07564102564102565,
          0.07564102564102565,
          0.08676470588235295,
          0.07837837837837838,
          0.07945205479452054,
          0.08787878787878788,
          0.08636363636363636,
          0.09047619047619047,
          0.07567567567567567,
          0.09016393442622951,
          0.08571428571428572,
          0.08833333333333333,
          0.07027027027027027,
          0.06933333333333333,
          0.06419753086419754,
          0.0787878787878788,
          0.08064516129032258,
          0.06329113924050633,
          0.07936507936507936,
          0.058536585365853655,
          0.07164179104477612,
          0.075,
          0.07058823529411765,
          0.06865671641791045,
          0.07142857142857142,
          0.054320987654320994,
          0.06027397260273973,
          0.07049180327868852,
          0.053086419753086415,
          0.07288135593220339,
          0.06774193548387097,
          0.07241379310344828,
          0.06212121212121212,
          0.06119402985074626,
          0.06507936507936507,
          0.0547945205479452,
          0.05405405405405406,
          0.05967741935483871,
          0.051388888888888894,
          0.06271186440677966,
          0.04864864864864865,
          0.052941176470588235,
          0.050746268656716415,
          0.054098360655737705,
          0.0391304347826087,
          0.38101265822784813,
          0.35365853658536583,
          0.39166666666666666,
          0.4138461538461538,
          0.3328947368421053,
          0.33466666666666667,
          0.3983606557377049,
          0.29375,
          0.30128205128205127,
          0.2851851851851852,
          0.2707317073170732,
          0.27625,
          0.3027777777777778,
          0.2753246753246753,
          0.29444444444444445,
          0.3119402985074627,
          0.2580246913580247,
          0.26,
          0.25555555555555554,
          0.2821917808219178,
          0.2584415584415584,
          0.24625,
          0.2635135135135135,
          0.25675675675675674,
          0.23797468354430382,
          0.22317073170731708,
          0.24400000000000002,
          0.27999999999999997,
          0.23037974683544302,
          0.24324324324324326,
          0.26666666666666666,
          0.2457142857142857,
          0.21111111111111114,
          0.25757575757575757,
          0.21125,
          0.25846153846153846,
          0.22916666666666666,
          0.264516129032258,
          0.24848484848484848,
          0.21733333333333335,
          0.19999999999999998,
          0.2077922077922078,
          0.2222222222222222,
          0.19873417721518988,
          0.1962025316455696,
          0.1949367088607595,
          0.22835820895522388,
          0.19367088607594937,
          0.225,
          0.18536585365853658,
          0.19999999999999998,
          0.20684931506849313,
          0.21285714285714286,
          0.19342105263157894,
          0.18354430379746836,
          0.19078947368421054,
          0.175609756097561,
          0.19861111111111113,
          0.19452054794520546,
          0.19452054794520546,
          0.17974683544303796,
          0.19583333333333333,
          0.17625,
          0.2169230769230769,
          0.18552631578947368,
          0.17073170731707318,
          0.1891891891891892,
          0.1728395061728395,
          0.17037037037037037,
          0.18157894736842106,
          0.19295774647887323,
          0.2245901639344262,
          0.18,
          0.16499999999999998,
          0.18823529411764706,
          0.191044776119403,
          0.18028169014084508,
          0.21333333333333335,
          0.16493506493506493,
          0.1548780487804878,
          0.1567901234567901,
          0.16363636363636364,
          0.16153846153846155,
          0.16025641025641027,
          0.1865671641791045,
          0.16103896103896104,
          0.16621621621621624,
          0.1618421052631579,
          0.15061728395061727,
          0.15443037974683543,
          0.1635135135135135,
          0.1875,
          0.16527777777777777,
          0.16527777777777777,
          0.1710144927536232,
          0.1787878787878788,
          0.184375,
          0.14625,
          0.17727272727272725,
          0.15,
          0.14444444444444443,
          0.15466666666666667,
          0.15466666666666667,
          0.13950617283950617,
          0.14177215189873416,
          0.16567164179104477,
          0.1375,
          0.14285714285714285,
          0.1472972972972973,
          0.1465753424657534,
          0.165625,
          0.12962962962962962,
          0.12804878048780488,
          0.14054054054054055,
          0.1716666666666667,
          0.1271604938271605,
          0.16885245901639345,
          0.1271604938271605,
          0.12560975609756098,
          0.15,
          0.12439024390243901,
          0.12317073170731707,
          0.13289473684210526,
          0.13157894736842105,
          0.14492753623188406,
          0.125,
          0.12073170731707318,
          0.13561643835616438,
          0.13943661971830987,
          0.1272727272727273,
          0.12564102564102564,
          0.12597402597402596,
          0.15901639344262294,
          0.12151898734177215,
          0.16551724137931034,
          0.11875,
          0.11604938271604939,
          0.11625,
          0.13098591549295777,
          0.11499999999999999,
          0.11794871794871795,
          0.14918032786885246,
          0.11097560975609756,
          0.14918032786885246,
          0.11538461538461539,
          0.1289855072463768,
          0.15344827586206897,
          0.1328358208955224,
          0.12054794520547946,
          0.13333333333333333,
          0.11917808219178082,
          0.11447368421052631,
          0.1426229508196721,
          0.12083333333333332,
          0.1178082191780822,
          0.14098360655737704,
          0.1131578947368421,
          0.10493827160493827,
          0.12686567164179105,
          0.10625,
          0.11643835616438356,
          0.1377049180327869,
          0.13125,
          0.12028985507246377,
          0.13898305084745763,
          0.11095890410958903,
          0.0975609756097561,
          0.1,
          0.13389830508474576,
          0.09753086419753088,
          0.0951219512195122,
          0.11470588235294117,
          0.1013157894736842,
          0.09268292682926829,
          0.11875,
          0.10555555555555556,
          0.12096774193548387,
          0.10714285714285714,
          0.1271186440677966,
          0.09868421052631579,
          0.09259259259259259,
          0.09487179487179488,
          0.09240506329113923,
          0.09125,
          0.09358974358974359,
          0.09113924050632911,
          0.0878048780487805,
          0.09473684210526316,
          0.1090909090909091,
          0.1090909090909091,
          0.10289855072463767,
          0.09861111111111111,
          0.09102564102564102,
          0.09090909090909091,
          0.11290322580645161,
          0.1076923076923077,
          0.10606060606060606,
          0.11475409836065574,
          0.08734177215189874,
          0.08625000000000001,
          0.08717948717948718,
          0.11,
          0.08024691358024691,
          0.08205128205128205,
          0.08533333333333334,
          0.08205128205128205,
          0.08421052631578947,
          0.09411764705882353,
          0.07777777777777778,
          0.08076923076923077,
          0.08289473684210526,
          0.09393939393939395,
          0.08266666666666667,
          0.08970588235294118,
          0.07625,
          0.07530864197530864,
          0.08714285714285713,
          0.10166666666666666,
          0.07721518987341772,
          0.07625,
          0.1016949152542373,
          0.0728395061728395,
          0.0728395061728395,
          0.08194444444444444,
          0.07468354430379748,
          0.09516129032258065,
          0.0728395061728395,
          0.08405797101449275,
          0.08636363636363636,
          0.07368421052631578,
          0.08235294117647059,
          0.07432432432432433,
          0.0873015873015873,
          0.06707317073170732,
          0.09166666666666666,
          0.06835443037974684,
          0.07714285714285715,
          0.08548387096774193,
          0.07361111111111111,
          0.0828125,
          0.08813559322033898,
          0.08360655737704917,
          0.08225806451612902,
          0.08499999999999999,
          0.06986301369863013,
          0.08032786885245902,
          0.06857142857142857,
          0.07384615384615384,
          0.057692307692307696,
          0.06164383561643835,
          0.07586206896551725,
          0.07586206896551725,
          0.05641025641025642,
          0.060563380281690136,
          0.058333333333333334,
          0.05185185185185186,
          0.0711864406779661,
          0.06212121212121212,
          0.058823529411764705,
          0.05873015873015873,
          0.046153846153846156,
          0.05454545454545455,
          0.049999999999999996,
          0.055,
          0.04428571428571429,
          0.04133333333333333,
          0.045454545454545456,
          0.041428571428571426,
          0.03766233766233766,
          0.0423728813559322,
          0.03559322033898305,
          0.3901234567901235,
          0.3592592592592593,
          0.3802631578947368,
          0.37333333333333335,
          0.3689189189189189,
          0.36,
          0.375,
          0.3567567567567567,
          0.34459459459459457,
          0.320253164556962,
          0.35,
          0.30609756097560975,
          0.40483870967741936,
          0.3144736842105263,
          0.316,
          0.2878048780487805,
          0.2936708860759494,
          0.29615384615384616,
          0.30000000000000004,
          0.2875,
          0.28625,
          0.30270270270270266,
          0.3733333333333333,
          0.2858974358974359,
          0.2833333333333333,
          0.3,
          0.35409836065573774,
          0.3196969696969697,
          0.2733333333333333,
          0.2971014492753623,
          0.27808219178082194,
          0.2635135135135135,
          0.2430379746835443,
          0.31666666666666665,
          0.305,
          0.28888888888888886,
          0.2742424242424243,
          0.29672131147540987,
          0.26231884057971017,
          0.28125,
          0.22658227848101264,
          0.21604938271604937,
          0.24027777777777778,
          0.2529411764705882,
          0.22077922077922077,
          0.22876712328767124,
          0.216,
          0.19634146341463415,
          0.2373134328358209,
          0.22112676056338026,
          0.2476190476190476,
          0.22985074626865673,
          0.18658536585365854,
          0.19610389610389609,
          0.19230769230769232,
          0.18734177215189873,
          0.17926829268292682,
          0.19466666666666665,
          0.17901234567901234,
          0.18354430379746836,
          0.2181818181818182,
          0.19861111111111113,
          0.19315068493150683,
          0.1728395061728395,
          0.20588235294117646,
          0.17721518987341772,
          0.18421052631578946,
          0.19305555555555556,
          0.18157894736842106,
          0.1691358024691358,
          0.1876712328767123,
          0.22833333333333333,
          0.16790123456790124,
          0.18888888888888888,
          0.18243243243243243,
          0.18493150684931506,
          0.1675,
          0.1941176470588235,
          0.22,
          0.17837837837837836,
          0.18714285714285714,
          0.1597560975609756,
          0.19253731343283584,
          0.1580246913580247,
          0.16842105263157894,
          0.18285714285714286,
          0.15609756097560976,
          0.15875,
          0.1567901234567901,
          0.21525423728813559,
          0.19384615384615383,
          0.19375,
          0.15000000000000002,
          0.16216216216216217,
          0.15,
          0.14444444444444443,
          0.14625,
          0.156,
          0.14125000000000001,
          0.14736842105263157,
          0.148,
          0.14102564102564102,
          0.14864864864864866,
          0.1506849315068493,
          0.171875,
          0.13846153846153847,
          0.14025974025974028,
          0.13170731707317074,
          0.14078947368421052,
          0.13544303797468354,
          0.1514285714285714,
          0.1341772151898734,
          0.12926829268292683,
          0.14189189189189189,
          0.1693548387096774,
          0.12839506172839507,
          0.12839506172839507,
          0.16612903225806452,
          0.13599999999999998,
          0.13599999999999998,
          0.13421052631578947,
          0.15692307692307692,
          0.1603174603174603,
          0.15074626865671642,
          0.12987012987012986,
          0.14084507042253522,
          0.12195121951219512,
          0.12692307692307692,
          0.12073170731707318,
          0.14347826086956522,
          0.1564516129032258,
          0.15737704918032785,
          0.13150684931506848,
          0.1417910447761194,
          0.11875,
          0.11875,
          0.11898734177215191,
          0.11604938271604939,
          0.11625,
          0.13333333333333333,
          0.12777777777777777,
          0.1121951219512195,
          0.11358024691358024,
          0.11794871794871795,
          0.12266666666666666,
          0.12297297297297297,
          0.13582089552238805,
          0.1568965517241379,
          0.12816901408450704,
          0.12,
          0.13846153846153847,
          0.13636363636363635,
          0.1155844155844156,
          0.12361111111111112,
          0.1426229508196721,
          0.10609756097560975,
          0.11153846153846153,
          0.10625,
          0.11486486486486487,
          0.1377049180327869,
          0.1105263157894737,
          0.12238805970149252,
          0.11388888888888887,
          0.108,
          0.13278688524590163,
          0.12272727272727273,
          0.10384615384615384,
          0.1095890410958904,
          0.1038961038961039,
          0.10675675675675676,
          0.10128205128205128,
          0.11304347826086956,
          0.11470588235294117,
          0.12,
          0.09390243902439024,
          0.09999999999999999,
          0.09999999999999999,
          0.10869565217391304,
          0.09868421052631579,
          0.10136986301369863,
          0.12372881355932203,
          0.10735294117647058,
          0.09240506329113923,
          0.11967213114754098,
          0.11612903225806452,
          0.10923076923076923,
          0.11269841269841269,
          0.08765432098765431,
          0.09594594594594594,
          0.09466666666666666,
          0.10923076923076923,
          0.08658536585365853,
          0.0875,
          0.1078125,
          0.08518518518518518,
          0.10461538461538461,
          0.08831168831168831,
          0.10625,
          0.10625,
          0.11724137931034483,
          0.08375,
          0.10307692307692308,
          0.1046875,
          0.08701298701298701,
          0.08271604938271605,
          0.09295774647887324,
          0.08354430379746836,
          0.0846153846153846,
          0.09999999999999999,
          0.08441558441558442,
          0.08125,
          0.0927536231884058,
          0.09142857142857143,
          0.08205128205128205,
          0.07974683544303797,
          0.07974683544303797,
          0.09402985074626866,
          0.09264705882352942,
          0.09393939393939395,
          0.08857142857142858,
          0.09538461538461539,
          0.08732394366197184,
          0.0794871794871795,
          0.07922077922077922,
          0.08714285714285713,
          0.08840579710144927,
          0.07625,
          0.08823529411764706,
          0.07407407407407407,
          0.0728395061728395,
          0.08194444444444444,
          0.09365079365079365,
          0.08507462686567165,
          0.09661016949152543,
          0.07702702702702703,
          0.07215189873417721,
          0.07432432432432433,
          0.06875,
          0.07297297297297298,
          0.07714285714285715,
          0.07397260273972603,
          0.07464788732394366,
          0.07536231884057971,
          0.06710526315789474,
          0.06710526315789474,
          0.07692307692307693,
          0.07903225806451614,
          0.07538461538461538,
          0.06533333333333334,
          0.07272727272727272,
          0.07058823529411765,
          0.06764705882352941,
          0.06301369863013698,
          0.07258064516129033,
          0.054878048780487805,
          0.06716417910447761,
          0.05945945945945946,
          0.05714285714285715,
          0.053086419753086415,
          0.0554054054054054,
          0.056338028169014086,
          0.04871794871794872,
          0.04871794871794872,
          0.058333333333333334,
          0.04722222222222222,
          0.03972602739726027,
          0.047540983606557376,
          0.0453125,
          0.03970588235294118,
          0.04032258064516129,
          0.4222222222222222,
          0.3746666666666667,
          0.3353658536585366,
          0.3684931506849315,
          0.35866666666666663,
          0.388235294117647,
          0.3175,
          0.4066666666666666,
          0.308,
          0.308,
          0.2875,
          0.3634920634920635,
          0.275609756097561,
          0.28607594936708863,
          0.376271186440678,
          0.27625,
          0.2772151898734177,
          0.2641975308641975,
          0.2597560975609756,
          0.25949367088607594,
          0.24512195121951222,
          0.273972602739726,
          0.30153846153846153,
          0.28955223880597014,
          0.2345679012345679,
          0.24545454545454543,
          0.2325,
          0.24666666666666667,
          0.2608695652173913,
          0.2391891891891892,
          0.21585365853658536,
          0.2983050847457627,
          0.26119402985074625,
          0.2306666666666667,
          0.2356164383561644,
          0.2442857142857143,
          0.20617283950617282,
          0.2049382716049383,
          0.20769230769230768,
          0.20769230769230768,
          0.19634146341463415,
          0.2090909090909091,
          0.2728813559322034,
          0.19506172839506175,
          0.19382716049382714,
          0.22352941176470587,
          0.22028985507246376,
          0.24754098360655738,
          0.19230769230769232,
          0.1909090909090909,
          0.245,
          0.18717948717948718,
          0.20714285714285716,
          0.2457627118644068,
          0.18101265822784812,
          0.17875000000000002,
          0.20285714285714285,
          0.1719512195121951,
          0.19859154929577463,
          0.20144927536231885,
          0.20441176470588235,
          0.17375000000000002,
          0.18289473684210528,
          0.17160493827160495,
          0.18783783783783783,
          0.16875,
          0.18493150684931506,
          0.1810810810810811,
          0.18082191780821916,
          0.176,
          0.17837837837837836,
          0.17012987012987013,
          0.17012987012987013,
          0.17567567567567569,
          0.16125,
          0.15925925925925927,
          0.17916666666666667,
          0.19846153846153847,
          0.17534246575342466,
          0.19538461538461538,
          0.20158730158730157,
          0.16493506493506493,
          0.20158730158730157,
          0.16578947368421051,
          0.1575,
          0.1575,
          0.1524390243902439,
          0.17971014492753623,
          0.15974025974025974,
          0.14878048780487804,
          0.16944444444444443,
          0.15125,
          0.1704225352112676,
          0.15584415584415584,
          0.15584415584415584,
          0.15789473684210525,
          0.184375,
          0.145679012345679,
          0.145679012345679,
          0.1512820512820513,
          0.16249999999999998,
          0.1746268656716418,
          0.15675675675675677,
          0.1681159420289855,
          0.18125,
          0.15890410958904108,
          0.15753424657534246,
          0.1513157894736842,
          0.1402439024390244,
          0.1701492537313433,
          0.18225806451612905,
          0.14125000000000001,
          0.14545454545454545,
          0.14050632911392405,
          0.15714285714285714,
          0.14473684210526316,
          0.13414634146341464,
          0.1329268292682927,
          0.15797101449275364,
          0.13846153846153847,
          0.13846153846153847,
          0.14794520547945206,
          0.14189189189189189,
          0.12875,
          0.12439024390243901,
          0.13599999999999998,
          0.13246753246753246,
          0.13116883116883116,
          0.12195121951219512,
          0.14285714285714285,
          0.13513513513513514,
          0.14925373134328357,
          0.16129032258064516,
          0.13561643835616438,
          0.12125,
          0.128,
          0.12179487179487179,
          0.14090909090909093,
          0.13478260869565217,
          0.1121951219512195,
          0.12602739726027395,
          0.12432432432432432,
          0.11265822784810127,
          0.11265822784810127,
          0.13692307692307693,
          0.11578947368421054,
          0.11578947368421054,
          0.145,
          0.11756756756756756,
          0.1318181818181818,
          0.12608695652173912,
          0.134375,
          0.1131578947368421,
          0.12285714285714285,
          0.12318840579710146,
          0.10759493670886076,
          0.10370370370370371,
          0.12923076923076923,
          0.10243902439024391,
          0.11830985915492959,
          0.11351351351351352,
          0.10375000000000001,
          0.12769230769230772,
          0.10379746835443036,
          0.11388888888888887,
          0.09999999999999999,
          0.11594202898550725,
          0.11285714285714286,
          0.09634146341463415,
          0.10675675675675676,
          0.1253968253968254,
          0.10985915492957746,
          0.11470588235294117,
          0.0962962962962963,
          0.0951219512195122,
          0.10547945205479452,
          0.10694444444444445,
          0.1203125,
          0.11666666666666667,
          0.10410958904109588,
          0.12295081967213115,
          0.12096774193548387,
          0.1,
          0.09012345679012346,
          0.09125,
          0.09863013698630137,
          0.0922077922077922,
          0.09861111111111111,
          0.09594594594594594,
          0.08625000000000001,
          0.08414634146341464,
          0.1,
          0.08414634146341464,
          0.092,
          0.1,
          0.09315068493150684,
          0.10149253731343283,
          0.09436619718309859,
          0.10634920634920635,
          0.10151515151515152,
          0.09852941176470588,
          0.09850746268656715,
          0.11016949152542373,
          0.07926829268292683,
          0.08181818181818182,
          0.09264705882352942,
          0.08289473684210526,
          0.07439024390243902,
          0.09375,
          0.07407407407407407,
          0.07468354430379748,
          0.07564102564102565,
          0.07662337662337662,
          0.07972972972972973,
          0.0842857142857143,
          0.0935483870967742,
          0.07837837837837838,
          0.07808219178082192,
          0.06951219512195123,
          0.07746478873239436,
          0.07857142857142857,
          0.07297297297297298,
          0.0782608695652174,
          0.06585365853658537,
          0.07500000000000001,
          0.06794871794871794,
          0.07361111111111111,
          0.08412698412698412,
          0.062195121951219505,
          0.07246376811594203,
          0.06486486486486487,
          0.07384615384615384,
          0.06233766233766234,
          0.06266666666666666,
          0.06216216216216216,
          0.06666666666666667,
          0.06825396825396825,
          0.057534246575342465,
          0.056164383561643834,
          0.06060606060606061,
          0.06393442622950819,
          0.0475609756097561,
          0.05342465753424657,
          0.05967741935483871,
          0.05737704918032787,
          0.05161290322580645,
          0.05081967213114754,
          0.05084745762711865,
          0.036986301369863014,
          0.04126984126984127,
          0.03333333333333333,
          0.0359375,
          0.03134328358208956,
          0.46282051282051284,
          0.36363636363636365,
          0.3847222222222222,
          0.4296875,
          0.39565217391304347,
          0.44333333333333336,
          0.415625,
          0.3333333333333333,
          0.3225,
          0.3121951219512195,
          0.3121951219512195,
          0.32666666666666666,
          0.3168831168831169,
          0.35522388059701493,
          0.3090909090909091,
          0.3761904761904762,
          0.3136986301369863,
          0.27564102564102566,
          0.2931506849315068,
          0.26296296296296295,
          0.2753246753246753,
          0.29444444444444445,
          0.3164179104477612,
          0.26049382716049385,
          0.30142857142857143,
          0.3,
          0.26,
          0.2524390243902439,
          0.25125000000000003,
          0.24390243902439024,
          0.26666666666666666,
          0.2911764705882353,
          0.319672131147541,
          0.2358024691358025,
          0.2876923076923077,
          0.2671428571428571,
          0.23766233766233766,
          0.24266666666666667,
          0.24794520547945206,
          0.2784615384615385,
          0.23815789473684212,
          0.2222222222222222,
          0.2189873417721519,
          0.21358024691358027,
          0.21125,
          0.21392405063291137,
          0.20740740740740743,
          0.24705882352941178,
          0.20365853658536584,
          0.24776119402985078,
          0.20243902439024392,
          0.2273972602739726,
          0.21298701298701297,
          0.2295774647887324,
          0.23823529411764705,
          0.20512820512820512,
          0.20384615384615384,
          0.1962962962962963,
          0.19873417721518988,
          0.24375,
          0.21666666666666667,
          0.2689655172413793,
          0.1962025316455696,
          0.1878048780487805,
          0.19367088607594937,
          0.22028985507246376,
          0.18641975308641975,
          0.18641975308641975,
          0.20833333333333334,
          0.20270270270270271,
          0.2403225806451613,
          0.25084745762711863,
          0.2265625,
          0.21846153846153846,
          0.20142857142857143,
          0.19054054054054054,
          0.18533333333333335,
          0.17375000000000002,
          0.23793103448275862,
          0.19855072463768114,
          0.18026315789473682,
          0.2044776119402985,
          0.16999999999999998,
          0.19999999999999998,
          0.17215189873417722,
          0.17972972972972973,
          0.17105263157894737,
          0.17567567567567569,
          0.1706666666666667,
          0.18676470588235294,
          0.15555555555555556,
          0.18,
          0.19090909090909092,
          0.18115942028985507,
          0.15432098765432098,
          0.17083333333333334,
          0.15974025974025974,
          0.17681159420289855,
          0.1475609756097561,
          0.16,
          0.1469135802469136,
          0.14875,
          0.15526315789473685,
          0.14390243902439026,
          0.14444444444444443,
          0.17313432835820894,
          0.14556962025316456,
          0.1597222222222222,
          0.13902439024390245,
          0.13950617283950617,
          0.17936507936507937,
          0.14736842105263157,
          0.15555555555555556,
          0.16567164179104477,
          0.14415584415584415,
          0.15942028985507245,
          0.171875,
          0.13625,
          0.18793103448275864,
          0.1703125,
          0.13170731707317074,
          0.16875,
          0.1542857142857143,
          0.1465753424657534,
          0.1308641975308642,
          0.13766233766233765,
          0.14583333333333334,
          0.13291139240506328,
          0.12804878048780488,
          0.12682926829268293,
          0.12875,
          0.14782608695652172,
          0.13466666666666666,
          0.12658227848101267,
          0.15714285714285714,
          0.14776119402985075,
          0.12073170731707318,
          0.15396825396825395,
          0.12933333333333333,
          0.12467532467532468,
          0.128,
          0.12972972972972974,
          0.12837837837837837,
          0.1620689655172414,
          0.14461538461538462,
          0.11604938271604939,
          0.14029850746268657,
          0.12400000000000001,
          0.1273972602739726,
          0.12602739726027395,
          0.11518987341772151,
          0.11392405063291139,
          0.12191780821917808,
          0.15084745762711865,
          0.15084745762711865,
          0.10853658536585366,
          0.11125,
          0.11125,
          0.1517241379310345,
          0.1375,
          0.11599999999999999,
          0.14333333333333334,
          0.12285714285714285,
          0.1328125,
          0.1349206349206349,
          0.10500000000000001,
          0.12352941176470589,
          0.10243902439024391,
          0.10121951219512196,
          0.11884057971014492,
          0.13898305084745763,
          0.11714285714285713,
          0.10657894736842105,
          0.13278688524590163,
          0.10526315789473684,
          0.1234375,
          0.10675675675675676,
          0.11641791044776119,
          0.104,
          0.13220338983050847,
          0.0951219512195122,
          0.10405405405405406,
          0.12833333333333333,
          0.09743589743589744,
          0.12666666666666665,
          0.11515151515151514,
          0.10704225352112676,
          0.09259259259259259,
          0.12096774193548387,
          0.09375,
          0.09736842105263159,
          0.11212121212121212,
          0.1106060606060606,
          0.08902439024390243,
          0.09480519480519481,
          0.12586206896551724,
          0.12586206896551724,
          0.10588235294117647,
          0.08888888888888889,
          0.1206896551724138,
          0.11666666666666667,
          0.109375,
          0.1044776119402985,
          0.09324324324324325,
          0.11311475409836066,
          0.10147058823529412,
          0.10454545454545455,
          0.09324324324324325,
          0.092,
          0.09577464788732394,
          0.09315068493150684,
          0.10149253731343283,
          0.08271604938271605,
          0.11551724137931035,
          0.11166666666666666,
          0.1046875,
          0.08571428571428572,
          0.07926829268292683,
          0.08904109589041095,
          0.11034482758620691,
          0.08421052631578947,
          0.08421052631578947,
          0.09264705882352942,
          0.08630136986301369,
          0.07875,
          0.09375,
          0.08108108108108109,
          0.08309859154929577,
          0.08676470588235295,
          0.09672131147540984,
          0.08285714285714285,
          0.07160493827160494,
          0.07341772151898734,
          0.076,
          0.08382352941176471,
          0.08636363636363636,
          0.07142857142857142,
          0.08983050847457627,
          0.06341463414634146,
          0.078125,
          0.07692307692307693,
          0.07352941176470588,
          0.06363636363636364,
          0.08305084745762713,
          0.06527777777777778,
          0.058108108108108104,
          0.07,
          0.0625,
          0.06666666666666667,
          0.06779661016949153,
          0.06557377049180328,
          0.057352941176470586,
          0.06724137931034482,
          0.05714285714285714,
          0.056451612903225805,
          0.048529411764705876,
          0.046875,
          0.5044117647058823,
          0.5350877192982456,
          0.45454545454545453,
          0.49333333333333335,
          0.46825396825396826,
          0.4721311475409836,
          0.47719298245614034,
          0.4754385964912281,
          0.38,
          0.4209677419354839,
          0.425,
          0.3776119402985075,
          0.34782608695652173,
          0.3838709677419355,
          0.3545454545454545,
          0.5133333333333334,
          0.38166666666666665,
          0.3171428571428571,
          0.325,
          0.40370370370370373,
          0.41372549019607846,
          0.3370967741935484,
          0.32,
          0.321875,
          0.36428571428571427,
          0.35789473684210527,
          0.356140350877193,
          0.3206349206349206,
          0.34310344827586203,
          0.2726027397260274,
          0.2955223880597015,
          0.27222222222222225,
          0.31612903225806455,
          0.3046875,
          0.33448275862068966,
          0.26666666666666666,
          0.3131147540983607,
          0.2714285714285714,
          0.2907692307692307,
          0.35660377358490564,
          0.3016129032258064,
          0.3339285714285714,
          0.29523809523809524,
          0.29838709677419356,
          0.2803030303030303,
          0.3135593220338983,
          0.27999999999999997,
          0.28888888888888886,
          0.36200000000000004,
          0.2857142857142857,
          0.2656716417910448,
          0.31052631578947365,
          0.32592592592592595,
          0.31428571428571433,
          0.25142857142857145,
          0.33653846153846156,
          0.3052631578947368,
          0.2693548387096774,
          0.3055555555555556,
          0.287719298245614,
          0.22191780821917806,
          0.2745762711864407,
          0.3076923076923077,
          0.22083333333333333,
          0.22253521126760564,
          0.23134328358208955,
          0.2851851851851852,
          0.2655172413793104,
          0.28,
          0.22835820895522388,
          0.255,
          0.2140845070422535,
          0.24754098360655738,
          0.22205882352941175,
          0.2603448275862069,
          0.22727272727272727,
          0.24426229508196723,
          0.21285714285714286,
          0.294,
          0.21304347826086956,
          0.2013888888888889,
          0.21014492753623187,
          0.23225806451612904,
          0.2553571428571429,
          0.23333333333333334,
          0.24909090909090909,
          0.24545454545454545,
          0.18493150684931506,
          0.20307692307692307,
          0.21129032258064515,
          0.2,
          0.2,
          0.215,
          0.2098360655737705,
          0.25918367346938775,
          0.17714285714285716,
          0.19375,
          0.19523809523809524,
          0.20847457627118646,
          0.21034482758620687,
          0.21785714285714283,
          0.16805555555555554,
          0.19516129032258064,
          0.1890625,
          0.20862068965517241,
          0.21052631578947367,
          0.16901408450704225,
          0.17647058823529413,
          0.17761194029850746,
          0.1873015873015873,
          0.18870967741935482,
          0.17575757575757575,
          0.1597222222222222,
          0.16617647058823531,
          0.17777777777777776,
          0.20363636363636362,
          0.15857142857142856,
          0.19137931034482758,
          0.16923076923076924,
          0.16515151515151516,
          0.16029411764705884,
          0.1847457627118644,
          0.173015873015873,
          0.16119402985074627,
          0.1621212121212121,
          0.15362318840579708,
          0.16153846153846155,
          0.1810344827586207,
          0.18421052631578946,
          0.16666666666666666,
          0.15072463768115943,
          0.18571428571428572,
          0.16612903225806452,
          0.18392857142857144,
          0.1609375,
          0.1492753623188406,
          0.15606060606060607,
          0.18727272727272729,
          0.15303030303030302,
          0.15538461538461537,
          0.18035714285714285,
          0.14225352112676057,
          0.2,
          0.1523076923076923,
          0.13611111111111113,
          0.13611111111111113,
          0.15901639344262294,
          0.16724137931034483,
          0.13380281690140844,
          0.14393939393939395,
          0.1593220338983051,
          0.13478260869565217,
          0.1690909090909091,
          0.1576271186440678,
          0.17547169811320756,
          0.14153846153846153,
          0.13939393939393938,
          0.146031746031746,
          0.12465753424657534,
          0.12297297297297297,
          0.1232876712328767,
          0.17647058823529413,
          0.16071428571428573,
          0.15344827586206897,
          0.1459016393442623,
          0.1543859649122807,
          0.1543859649122807,
          0.12941176470588237,
          0.12941176470588237,
          0.13870967741935483,
          0.1440677966101695,
          0.14821428571428572,
          0.14821428571428572,
          0.11527777777777778,
          0.11857142857142858,
          0.1136986301369863,
          0.12238805970149252,
          0.143859649122807,
          0.1396551724137931,
          0.11764705882352941,
          0.13559322033898305,
          0.1509433962264151,
          0.14545454545454545,
          0.15490196078431373,
          0.12666666666666665,
          0.15510204081632653,
          0.10416666666666667,
          0.10869565217391304,
          0.11384615384615385,
          0.13962264150943396,
          0.115625,
          0.11044776119402985,
          0.11746031746031746,
          0.12131147540983607,
          0.13518518518518519,
          0.14313725490196078,
          0.13333333333333333,
          0.1180327868852459,
          0.11666666666666667,
          0.09583333333333334,
          0.09452054794520548,
          0.0971830985915493,
          0.10793650793650793,
          0.13958333333333334,
          0.11551724137931035,
          0.1064516129032258,
          0.11,
          0.09565217391304347,
          0.10476190476190475,
          0.09705882352941175,
          0.09154929577464789,
          0.09846153846153846,
          0.10158730158730159,
          0.10491803278688525,
          0.08888888888888889,
          0.08873239436619718,
          0.11052631578947368,
          0.10677966101694915,
          0.11454545454545455,
          0.11052631578947368,
          0.09838709677419354,
          0.125,
          0.08823529411764706,
          0.0893939393939394,
          0.10172413793103449,
          0.08656716417910447,
          0.11153846153846153,
          0.0935483870967742,
          0.08484848484848484,
          0.09180327868852459,
          0.10181818181818181,
          0.08461538461538462,
          0.09322033898305085,
          0.0859375,
          0.09310344827586207,
          0.08181818181818182,
          0.08059701492537313,
          0.08709677419354839,
          0.09807692307692308,
          0.09444444444444444,
          0.08095238095238094,
          0.07575757575757576,
          0.08333333333333333,
          0.10416666666666667,
          0.08305084745762713,
          0.08448275862068966,
          0.08448275862068966,
          0.09056603773584905,
          0.07230769230769231,
          0.07833333333333334,
          0.07758620689655173,
          0.08,
          0.07678571428571428,
          0.07272727272727272,
          0.06964285714285715,
          0.06545454545454546,
          0.049275362318840575,
          0.049275362318840575,
          0.05892857142857143,
          0.05925925925925926,
          0.054385964912280704,
          0.5079365079365079,
          0.5216666666666667,
          0.4298507462686567,
          0.5588235294117647,
          0.4606557377049181,
          0.4196969696969697,
          0.4724137931034483,
          0.4426229508196721,
          0.4981481481481481,
          0.4125,
          0.4981132075471698,
          0.36666666666666664,
          0.382089552238806,
          0.4015873015873016,
          0.43448275862068964,
          0.47692307692307695,
          0.4258620689655172,
          0.405,
          0.3394366197183099,
          0.39016393442622954,
          0.33428571428571424,
          0.4314814814814815,
          0.412962962962963,
          0.3415384615384615,
          0.35409836065573774,
          0.41346153846153844,
          0.3821428571428571,
          0.37857142857142856,
          0.29565217391304344,
          0.3,
          0.3274193548387097,
          0.37692307692307697,
          0.31451612903225806,
          0.26805555555555555,
          0.3031746031746032,
          0.3114754098360656,
          0.2921875,
          0.26956521739130435,
          0.26197183098591553,
          0.27058823529411763,
          0.3,
          0.27936507936507937,
          0.24444444444444446,
          0.3222222222222222,
          0.25671641791044775,
          0.27580645161290324,
          0.2361111111111111,
          0.23714285714285716,
          0.23380281690140847,
          0.23428571428571426,
          0.3176470588235294,
          0.2775862068965517,
          0.3078431372549019,
          0.2343283582089552,
          0.28,
          0.25245901639344265,
          0.2637931034482759,
          0.24126984126984125,
          0.2796296296296296,
          0.21884057971014492,
          0.2690909090909091,
          0.26545454545454544,
          0.26071428571428573,
          0.20869565217391306,
          0.20140845070422536,
          0.24655172413793106,
          0.23278688524590163,
          0.2043478260869565,
          0.2692307692307692,
          0.24210526315789474,
          0.24909090909090909,
          0.22666666666666666,
          0.26666666666666666,
          0.20606060606060606,
          0.19285714285714287,
          0.1956521739130435,
          0.1875,
          0.23508771929824562,
          0.19420289855072465,
          0.2161290322580645,
          0.2607843137254902,
          0.18194444444444444,
          0.22413793103448276,
          0.20634920634920634,
          0.2015625,
          0.18970588235294117,
          0.20317460317460317,
          0.1855072463768116,
          0.19242424242424241,
          0.22678571428571428,
          0.18529411764705883,
          0.21929824561403508,
          0.17971014492753623,
          0.1757142857142857,
          0.17428571428571427,
          0.17183098591549295,
          0.20508474576271185,
          0.17794117647058824,
          0.18059701492537314,
          0.23529411764705882,
          0.17246376811594202,
          0.22307692307692306,
          0.20175438596491227,
          0.17272727272727273,
          0.178125,
          0.18095238095238095,
          0.17121212121212123,
          0.16142857142857145,
          0.2074074074074074,
          0.16,
          0.15555555555555556,
          0.18666666666666665,
          0.16176470588235295,
          0.1513888888888889,
          0.1676923076923077,
          0.15882352941176472,
          0.15970149253731342,
          0.14583333333333334,
          0.1575757575757576,
          0.17627118644067796,
          0.18571428571428572,
          0.1745762711864407,
          0.16190476190476188,
          0.1603174603174603,
          0.15538461538461537,
          0.16833333333333333,
          0.14285714285714285,
          0.16333333333333336,
          0.14477611940298507,
          0.14769230769230768,
          0.14328358208955225,
          0.16,
          0.13768115942028986,
          0.15245901639344264,
          0.1295774647887324,
          0.13529411764705881,
          0.16545454545454544,
          0.175,
          0.1267605633802817,
          0.125,
          0.13846153846153847,
          0.16071428571428573,
          0.1353846153846154,
          0.1426229508196721,
          0.1426229508196721,
          0.1359375,
          0.12463768115942028,
          0.12463768115942028,
          0.1264705882352941,
          0.12142857142857143,
          0.12878787878787878,
          0.14,
          0.13174603174603175,
          0.13015873015873014,
          0.16078431372549018,
          0.1396551724137931,
          0.1208955223880597,
          0.15384615384615385,
          0.13114754098360656,
          0.12121212121212122,
          0.1161764705882353,
          0.121875,
          0.11666666666666667,
          0.1327586206896552,
          0.13508771929824562,
          0.14528301886792452,
          0.14074074074074072,
          0.1357142857142857,
          0.13103448275862067,
          0.14150943396226415,
          0.125,
          0.13157894736842105,
          0.1411764705882353,
          0.13846153846153847,
          0.1090909090909091,
          0.10746268656716418,
          0.10746268656716418,
          0.1111111111111111,
          0.1044776119402985,
          0.12962962962962962,
          0.09859154929577464,
          0.10144927536231885,
          0.09583333333333334,
          0.13529411764705884,
          0.11724137931034483,
          0.09855072463768115,
          0.10793650793650793,
          0.12181818181818183,
          0.1098360655737705,
          0.1064516129032258,
          0.11186440677966102,
          0.103125,
          0.10483870967741936,
          0.11403508771929824,
          0.11034482758620691,
          0.11034482758620691,
          0.11851851851851852,
          0.11666666666666667,
          0.09,
          0.1150943396226415,
          0.09384615384615384,
          0.09523809523809523,
          0.10172413793103449,
          0.10740740740740741,
          0.11176470588235295,
          0.10754716981132076,
          0.09333333333333332,
          0.0859375,
          0.09016393442622951,
          0.08870967741935484,
          0.07941176470588236,
          0.084375,
          0.09152542372881356,
          0.09999999999999999,
          0.09107142857142857,
          0.0796875,
          0.09615384615384616,
          0.09803921568627451,
          0.07575757575757576,
          0.08196721311475409,
          0.09433962264150944,
          0.08275862068965517,
          0.0746031746031746,
          0.08214285714285714,
          0.08181818181818182,
          0.06338028169014084,
          0.07213114754098361,
          0.06984126984126984,
          0.08235294117647059,
          0.06833333333333333,
          0.06721311475409836,
          0.0661290322580645,
          0.07692307692307693,
          0.06,
          0.07115384615384615,
          0.05087719298245614,
          0.45,
          0.4462686567164179,
          0.4369230769230769,
          0.3736842105263158,
          0.3671052631578947,
          0.36621621621621625,
          0.3539473684210526,
          0.3941176470588235,
          0.38656716417910447,
          0.3984375,
          0.3324324324324325,
          0.3641791044776119,
          0.3575757575757576,
          0.3932203389830508,
          0.33529411764705885,
          0.35645161290322586,
          0.3384615384615385,
          0.3191176470588235,
          0.29583333333333334,
          0.31029411764705883,
          0.3136363636363636,
          0.31230769230769234,
          0.2525,
          0.268,
          0.2791666666666667,
          0.30454545454545456,
          0.2857142857142857,
          0.26438356164383564,
          0.30483870967741933,
          0.24342105263157895,
          0.23717948717948717,
          0.26142857142857145,
          0.27313432835820894,
          0.2394736842105263,
          0.2784615384615385,
          0.26231884057971017,
          0.263235294117647,
          0.24054054054054055,
          0.2410958904109589,
          0.23333333333333334,
          0.271875,
          0.2582089552238806,
          0.2356164383561644,
          0.2356164383561644,
          0.296551724137931,
          0.2590909090909091,
          0.22666666666666666,
          0.29310344827586204,
          0.224,
          0.21298701298701297,
          0.2507692307692308,
          0.20897435897435898,
          0.20632911392405065,
          0.19634146341463415,
          0.20253164556962025,
          0.1925925925925926,
          0.23636363636363636,
          0.25573770491803277,
          0.1987012987012987,
          0.20675675675675675,
          0.19240506329113924,
          0.23968253968253966,
          0.24193548387096775,
          0.2,
          0.234375,
          0.21739130434782608,
          0.19736842105263158,
          0.24262295081967214,
          0.22615384615384615,
          0.20704225352112676,
          0.20277777777777778,
          0.17317073170731706,
          0.17625,
          0.18157894736842106,
          0.2044776119402985,
          0.19027777777777777,
          0.18378378378378377,
          0.2109375,
          0.19852941176470587,
          0.2126984126984127,
          0.1927536231884058,
          0.176,
          0.17142857142857143,
          0.18450704225352113,
          0.2081967213114754,
          0.16799999999999998,
          0.1893939393939394,
          0.17323943661971833,
          0.17285714285714285,
          0.1704225352112676,
          0.1531645569620253,
          0.1635135135135135,
          0.17,
          0.15657894736842107,
          0.1512820512820513,
          0.17727272727272725,
          0.14444444444444443,
          0.15333333333333332,
          0.14074074074074075,
          0.14487179487179488,
          0.18196721311475408,
          0.16818181818181818,
          0.15,
          0.1375,
          0.1896551724137931,
          0.1379746835443038,
          0.14794520547945206,
          0.1565217391304348,
          0.18620689655172415,
          0.13333333333333333,
          0.1621212121212121,
          0.14929577464788732,
          0.16307692307692306,
          0.15588235294117647,
          0.14,
          0.17333333333333334,
          0.1625,
          0.1355263157894737,
          0.13733333333333334,
          0.15846153846153846,
          0.15692307692307692,
          0.159375,
          0.14782608695652172,
          0.13648648648648648,
          0.1463768115942029,
          0.15384615384615385,
          0.15873015873015872,
          0.16393442622950818,
          0.16666666666666666,
          0.1523076923076923,
          0.13333333333333333,
          0.12179487179487179,
          0.14029850746268657,
          0.11750000000000001,
          0.13055555555555556,
          0.13285714285714287,
          0.13285714285714287,
          0.13142857142857142,
          0.12105263157894736,
          0.1586206896551724,
          0.12432432432432432,
          0.15333333333333332,
          0.13582089552238805,
          0.12465753424657534,
          0.125,
          0.125,
          0.13043478260869565,
          0.14285714285714285,
          0.14833333333333334,
          0.11733333333333335,
          0.1142857142857143,
          0.11139240506329115,
          0.13134328358208958,
          0.10609756097560975,
          0.12794117647058822,
          0.11917808219178082,
          0.12285714285714285,
          0.1264705882352941,
          0.12686567164179105,
          0.11971830985915492,
          0.13709677419354838,
          0.11805555555555555,
          0.10243902439024391,
          0.14067796610169492,
          0.12028985507246377,
          0.11690140845070424,
          0.12205882352941178,
          0.1077922077922078,
          0.10649350649350649,
          0.12615384615384614,
          0.13015873015873014,
          0.13064516129032258,
          0.12307692307692308,
          0.10821917808219178,
          0.10675675675675676,
          0.12741935483870967,
          0.10129870129870129,
          0.10845070422535212,
          0.10845070422535212,
          0.11875,
          0.12459016393442622,
          0.11343283582089551,
          0.10704225352112676,
          0.11014492753623188,
          0.10714285714285714,
          0.11746031746031746,
          0.09610389610389611,
          0.11967213114754098,
          0.10579710144927536,
          0.11076923076923077,
          0.09999999999999999,
          0.11864406779661017,
          0.09078947368421053,
          0.09324324324324325,
          0.10454545454545455,
          0.0846153846153846,
          0.08904109589041095,
          0.0955223880597015,
          0.1032258064516129,
          0.09999999999999999,
          0.09692307692307692,
          0.09402985074626866,
          0.08732394366197184,
          0.10333333333333333,
          0.08591549295774648,
          0.09682539682539681,
          0.08955223880597014,
          0.07317073170731707,
          0.08695652173913043,
          0.09516129032258065,
          0.09999999999999999,
          0.09999999999999999,
          0.08636363636363636,
          0.09661016949152543,
          0.08870967741935484,
          0.08709677419354839,
          0.08813559322033898,
          0.07846153846153846,
          0.06666666666666667,
          0.07164179104477612,
          0.05714285714285715,
          0.06515151515151515,
          0.06363636363636364,
          0.07068965517241378,
          0.056164383561643834,
          0.06129032258064516,
          0.055,
          0.05,
          0.5015151515151516,
          0.4909090909090909,
          0.5551724137931034,
          0.4617647058823529,
          0.4936507936507937,
          0.40675675675675677,
          0.4161764705882353,
          0.4516666666666667,
          0.3970149253731344,
          0.35890410958904106,
          0.42950819672131146,
          0.3878787878787879,
          0.32597402597402597,
          0.3424657534246575,
          0.3220779220779221,
          0.31139240506329113,
          0.3310810810810811,
          0.35507246376811596,
          0.3408450704225352,
          0.35294117647058826,
          0.3569230769230769,
          0.3578125,
          0.29078947368421054,
          0.3492063492063492,
          0.3173913043478261,
          0.3130434782608696,
          0.36610169491525424,
          0.3706896551724138,
          0.33125,
          0.33492063492063495,
          0.3403225806451613,
          0.3620689655172414,
          0.2786666666666667,
          0.3409836065573771,
          0.3253968253968254,
          0.27702702702702703,
          0.24878048780487802,
          0.27199999999999996,
          0.3383333333333333,
          0.2421686746987952,
          0.30000000000000004,
          0.3076923076923077,
          0.2777777777777778,
          0.2684931506849315,
          0.27971014492753626,
          0.28805970149253735,
          0.3254237288135593,
          0.2417721518987342,
          0.29523809523809524,
          0.2325,
          0.26865671641791045,
          0.2903225806451613,
          0.2507042253521127,
          0.21463414634146344,
          0.2806451612903226,
          0.2636363636363636,
          0.2189873417721519,
          0.2833333333333333,
          0.21000000000000002,
          0.25074626865671645,
          0.2141025641025641,
          0.24776119402985078,
          0.21842105263157896,
          0.23970588235294119,
          0.22027027027027027,
          0.2050632911392405,
          0.20384615384615384,
          0.21780821917808219,
          0.2150684931506849,
          0.22985074626865673,
          0.1987012987012987,
          0.20266666666666666,
          0.18292682926829268,
          0.18395061728395062,
          0.22238805970149253,
          0.19733333333333333,
          0.19864864864864865,
          0.18354430379746836,
          0.2028169014084507,
          0.1958904109589041,
          0.21029411764705883,
          0.17848101265822786,
          0.20142857142857143,
          0.188,
          0.23333333333333334,
          0.23559322033898306,
          0.17922077922077922,
          0.18513513513513513,
          0.17532467532467533,
          0.19142857142857142,
          0.18450704225352113,
          0.21666666666666667,
          0.203125,
          0.18970588235294117,
          0.1620253164556962,
          0.1548780487804878,
          0.1567901234567901,
          0.16578947368421051,
          0.1736111111111111,
          0.18382352941176472,
          0.17971014492753623,
          0.15121951219512195,
          0.18507462686567164,
          0.1525,
          0.1635135135135135,
          0.1531645569620253,
          0.18461538461538463,
          0.17761194029850746,
          0.1841269841269841,
          0.14375,
          0.14375,
          0.1885245901639344,
          0.16911764705882354,
          0.1591549295774648,
          0.17777777777777776,
          0.1723076923076923,
          0.15,
          0.13670886075949368,
          0.16615384615384615,
          0.14210526315789473,
          0.14210526315789473,
          0.1646153846153846,
          0.14444444444444446,
          0.1355263157894737,
          0.12875,
          0.16612903225806452,
          0.159375,
          0.15454545454545454,
          0.15,
          0.12439024390243901,
          0.13116883116883116,
          0.13835616438356163,
          0.15538461538461537,
          0.14776119402985075,
          0.12375,
          0.12375,
          0.1484848484848485,
          0.16610169491525426,
          0.15555555555555556,
          0.12894736842105264,
          0.13108108108108107,
          0.14477611940298507,
          0.1352112676056338,
          0.13013698630136986,
          0.12666666666666668,
          0.13823529411764707,
          0.11750000000000001,
          0.13823529411764707,
          0.13055555555555556,
          0.13623188405797101,
          0.1236842105263158,
          0.11341463414634147,
          0.1576271186440678,
          0.15081967213114753,
          0.12432432432432432,
          0.12105263157894736,
          0.13582089552238805,
          0.15166666666666667,
          0.11818181818181818,
          0.13,
          0.11688311688311688,
          0.11538461538461539,
          0.14754098360655737,
          0.12361111111111112,
          0.11578947368421054,
          0.10864197530864199,
          0.1403225806451613,
          0.11298701298701298,
          0.11599999999999999,
          0.1075,
          0.11643835616438356,
          0.1105263157894737,
          0.12575757575757576,
          0.13174603174603175,
          0.132258064516129,
          0.12615384615384614,
          0.10512820512820512,
          0.1108108108108108,
          0.10253164556962024,
          0.09876543209876543,
          0.10128205128205128,
          0.13389830508474576,
          0.11492537313432837,
          0.12459016393442622,
          0.1027027027027027,
          0.1027027027027027,
          0.09367088607594937,
          0.11044776119402985,
          0.11935483870967742,
          0.10136986301369863,
          0.12542372881355932,
          0.10138888888888889,
          0.11428571428571428,
          0.09230769230769231,
          0.09342105263157895,
          0.10142857142857142,
          0.08536585365853659,
          0.11475409836065574,
          0.11129032258064517,
          0.09714285714285714,
          0.10461538461538461,
          0.1046875,
          0.10806451612903226,
          0.0881578947368421,
          0.09571428571428571,
          0.0846153846153846,
          0.09565217391304347,
          0.10476190476190475,
          0.1064516129032258,
          0.08421052631578947,
          0.08,
          0.10862068965517241,
          0.09253731343283582,
          0.10508474576271187,
          0.0782051282051282,
          0.09384615384615384,
          0.09682539682539681,
          0.08955223880597014,
          0.090625,
          0.08,
          0.06999999999999999,
          0.0835820895522388,
          0.09655172413793103,
          0.08088235294117647,
          0.08548387096774193,
          0.07083333333333333,
          0.078125,
          0.06097560975609756,
          0.08333333333333333,
          0.07424242424242425,
          0.07619047619047618,
          0.0618421052631579,
          0.07049180327868852,
          0.07,
          0.06086956521739131,
          0.05774647887323943,
          0.0619047619047619,
          0.06440677966101695,
          0.05507246376811594,
          0.05507246376811594,
          0.04666666666666667,
          0.0546875,
          0.05593220338983051,
          0.05344827586206897,
          0.04
         ],
         "xbins": {
          "end": 8,
          "size": 1,
          "start": 0
         }
        },
        {
         "histnorm": "percent",
         "name": "Playoffs",
         "opacity": 0.5,
         "type": "histogram",
         "x": [
          7.875,
          1.5050000000000001,
          1.3476190476190477,
          1.5999999999999999,
          5.2,
          1.8214285714285714,
          2.34,
          1.9083333333333332,
          1.8416666666666668,
          4.36,
          4.32,
          4.24,
          1.6916666666666667,
          2.9,
          5.075,
          3.3000000000000003,
          1.7909090909090908,
          0.8857142857142858,
          4.625,
          2.557142857142857,
          4.375,
          3.4,
          1.05,
          2.75,
          0.9647058823529411,
          2.6333333333333333,
          1.4181818181818182,
          0.95,
          1.0642857142857143,
          1.46,
          0.9125,
          0.9,
          1.44,
          1.8,
          2.84,
          0.6523809523809524,
          0.7941176470588235,
          1.2090909090909092,
          0.776470588235294,
          0.9357142857142857,
          0.7111111111111111,
          3.2,
          0.9071428571428571,
          1.24,
          2.0500000000000003,
          3.075,
          3.075,
          3.075,
          2.033333333333333,
          1.9666666666666668,
          2.3600000000000003,
          1.657142857142857,
          2.875,
          1.9166666666666667,
          2.825,
          0.6588235294117647,
          2.2399999999999998,
          0.7928571428571428,
          1.8333333333333333,
          0.9083333333333333,
          1.5571428571428572,
          2.7,
          2.7,
          0.5047619047619047,
          0.53,
          2.625,
          1.75,
          0.49523809523809526,
          1.7166666666666668,
          2.575,
          2.04,
          0.6,
          1.4428571428571428,
          1,
          2.5,
          2.45,
          0.48,
          1.3285714285714287,
          0.5411764705882353,
          0.45499999999999996,
          0.5625,
          1.5,
          0.8090909090909091,
          1.4666666666666668,
          2.2,
          1.45,
          2.125,
          0.6,
          1.1857142857142857,
          1.1428571428571428,
          0.79,
          1.56,
          1.56,
          0.5428571428571428,
          0.76,
          1.875,
          0.75,
          0.6166666666666667,
          1.825,
          0.36,
          1.75,
          0.6799999999999999,
          1.1166666666666667,
          1.1166666666666667,
          0.6599999999999999,
          1.0833333333333333,
          0.5727272727272728,
          1.2,
          1.5,
          0.48333333333333334,
          0.5181818181818182,
          0.3375,
          1.325,
          1.04,
          1.25,
          0.23809523809523808,
          0.23809523809523808,
          0.2473684210526316,
          0.375,
          1.125,
          0.22000000000000003,
          0.28,
          0.35454545454545455,
          0.95,
          0.175,
          0.4857142857142857,
          0.3090909090909091,
          0.19999999999999998,
          0.32999999999999996,
          0.1823529411764706,
          0.20714285714285713,
          0.7,
          0.26,
          0.3333333333333333,
          0.5,
          1.5777777777777777,
          3.9,
          5.32,
          2.409090909090909,
          1.2523809523809524,
          1.4444444444444444,
          1.2,
          1.3944444444444446,
          1.0125,
          4.033333333333333,
          3.242857142857143,
          2.25,
          2.19,
          1.5285714285714285,
          1.045,
          1.8636363636363635,
          4.08,
          0.9550000000000001,
          4.45,
          2.8833333333333333,
          4.2,
          1.67,
          1.1785714285714286,
          0.6695652173913044,
          3.825,
          3,
          0.735,
          1.3272727272727272,
          1.45,
          3.625,
          3.575,
          1.9428571428571428,
          2.25,
          1.34,
          1.9000000000000001,
          0.9500000000000001,
          2.6399999999999997,
          2.1999999999999997,
          3.25,
          2.6,
          3.25,
          1.7714285714285716,
          0.8642857142857142,
          1.2,
          2,
          0.6666666666666666,
          1.19,
          1.17,
          1.95,
          1.657142857142857,
          0.5476190476190477,
          2.2800000000000002,
          2.825,
          1,
          2.7,
          2.08,
          1.04,
          1.7166666666666668,
          1.03,
          1.4714285714285715,
          1.7,
          0.5611111111111111,
          0.8636363636363636,
          1.5833333333333333,
          0.5222222222222223,
          1.8800000000000001,
          1.5333333333333332,
          0.375,
          0.37083333333333335,
          0.445,
          1.7600000000000002,
          0.86,
          1.2285714285714284,
          1.4166666666666667,
          0.425,
          1.2,
          0.4666666666666667,
          0.3416666666666666,
          1.157142857142857,
          2,
          1.56,
          1.1,
          0.385,
          1.875,
          1.0142857142857142,
          1.4,
          0.6363636363636364,
          0.5307692307692308,
          0.6272727272727273,
          1.7,
          1.7,
          0.3941176470588235,
          0.67,
          0.3190476190476191,
          0.4714285714285714,
          0.6599999999999999,
          1.3199999999999998,
          1.3199999999999998,
          0.65,
          0.315,
          0.9,
          1.575,
          0.31,
          1.5,
          0.5900000000000001,
          0.5900000000000001,
          0.58,
          1.16,
          0.2434782608695652,
          0.2333333333333333,
          0.3111111111111111,
          0.5,
          0.2571428571428572,
          0.5777777777777778,
          0.8666666666666667,
          0.7285714285714285,
          0.96,
          1.2,
          1.2,
          0.20909090909090908,
          0.8800000000000001,
          0.17391304347826086,
          1,
          0.195,
          0.6333333333333333,
          0.38,
          0.2111111111111111,
          0.95,
          0.72,
          0.4857142857142857,
          0.27499999999999997,
          0.15714285714285714,
          0.30000000000000004,
          0.45,
          0.18571428571428572,
          0.625,
          0.15625,
          0.22999999999999998,
          0.32857142857142857,
          0.575,
          0.575,
          0.24444444444444446,
          7.4799999999999995,
          1.822222222222222,
          1.9,
          2.590909090909091,
          1.6529411764705884,
          7,
          6.95,
          2.308333333333333,
          2.0923076923076924,
          1.4388888888888889,
          3.6142857142857143,
          1.9076923076923078,
          4.133333333333334,
          4.116666666666666,
          4.116666666666666,
          4.05,
          2.190909090909091,
          1.5533333333333335,
          3.783333333333333,
          5.625,
          2.2399999999999998,
          3.216666666666667,
          4.25,
          0.9333333333333333,
          0.9277777777777777,
          1.03125,
          4,
          1.975,
          1.95,
          2.2,
          0.8388888888888889,
          2.5,
          0.8823529411764706,
          2.4166666666666665,
          1.4300000000000002,
          0.7555555555555555,
          2.1999999999999997,
          2.1999999999999997,
          0.7705882352941176,
          1.1727272727272728,
          1.1727272727272728,
          2.1333333333333333,
          2.1166666666666667,
          1.8,
          1.1363636363636365,
          0.9384615384615385,
          0.9307692307692308,
          3,
          3,
          1.2999999999999998,
          2.32,
          1.2888888888888888,
          1.1199999999999999,
          1.8666666666666665,
          1.009090909090909,
          2.16,
          2.7,
          0.9727272727272727,
          0.9545454545454546,
          0.7,
          0.64375,
          2.575,
          1.1111111111111112,
          1.6666666666666667,
          1.6333333333333335,
          1.9600000000000002,
          0.8545454545454546,
          1.8399999999999999,
          0.5111111111111111,
          1.5333333333333332,
          1.3,
          1.5,
          0.8090909090909091,
          0.676923076923077,
          1.45,
          0.47777777777777775,
          1.3833333333333335,
          0.4555555555555555,
          0.6230769230769231,
          0.44999999999999996,
          1.3333333333333333,
          1.6,
          0.79,
          0.4875,
          0.48125,
          1.2833333333333334,
          1.0857142857142856,
          0.6818181818181818,
          0.5769230769230769,
          1.2166666666666666,
          1.2166666666666666,
          1.825,
          1.825,
          1.825,
          0.45,
          0.425,
          1.7,
          1.1166666666666667,
          0.4125,
          0.9428571428571428,
          1.0833333333333333,
          0.5909090909090909,
          0.6666666666666666,
          0.36875,
          0.48333333333333334,
          0.3222222222222222,
          0.9666666666666667,
          0.5181818181818182,
          0.32941176470588235,
          0.7999999999999999,
          0.36666666666666664,
          1.375,
          1.375,
          0.37142857142857144,
          0.33999999999999997,
          1,
          0.29411764705882354,
          0.5,
          0.96,
          0.96,
          1.125,
          0.2647058823529412,
          0.25882352941176473,
          0.23888888888888887,
          0.7166666666666667,
          0.42000000000000004,
          0.2733333333333333,
          0.2733333333333333,
          0.6666666666666666,
          0.2785714285714286,
          0.3,
          0.6333333333333333,
          0.31666666666666665,
          0.33999999999999997,
          0.64,
          0.5333333333333333,
          0.42857142857142855,
          0.21538461538461537,
          0.4666666666666666,
          0.5599999999999999,
          0.3111111111111111,
          0.21538461538461537,
          0.18571428571428572,
          0.2888888888888889,
          0.4166666666666667,
          0.3333333333333333,
          2.872727272727273,
          1.2708333333333333,
          5.720000000000001,
          1.2818181818181817,
          1.68125,
          1.7,
          1.792857142857143,
          1.54375,
          4.5600000000000005,
          3.142857142857143,
          3.6166666666666667,
          4.279999999999999,
          2.3666666666666667,
          1.5214285714285716,
          4.2,
          0.9857142857142857,
          1.8363636363636362,
          2.857142857142857,
          3.3000000000000003,
          1.6166666666666665,
          3.88,
          0.7916666666666666,
          3.0500000000000003,
          4.5,
          1.6181818181818182,
          4.45,
          1.5454545454545454,
          1.1266666666666665,
          1.2916666666666667,
          3.08,
          3.825,
          1.6888888888888889,
          3.04,
          2.157142857142857,
          0.625,
          3.75,
          1.042857142857143,
          2.92,
          3.575,
          1.0142857142857142,
          1.1583333333333334,
          1.5444444444444445,
          1.5444444444444445,
          2.7600000000000002,
          0.9133333333333333,
          1.5222222222222221,
          2.283333333333333,
          1.1166666666666667,
          0.6045454545454546,
          3.325,
          2.6399999999999997,
          2.56,
          2.48,
          3,
          2.3600000000000003,
          2.3600000000000003,
          2.32,
          0.7666666666666667,
          2.2800000000000002,
          0.7125,
          1.0363636363636364,
          0.7466666666666666,
          2.2399999999999998,
          2.2399999999999998,
          1.5857142857142856,
          1.8333333333333333,
          2.2,
          1.5285714285714285,
          2.12,
          2.625,
          0.61875,
          1.6333333333333335,
          0.4666666666666667,
          2.45,
          0.8818181818181817,
          1.0666666666666667,
          0.6785714285714286,
          0.39166666666666666,
          0.39166666666666666,
          0.65,
          1.7600000000000002,
          2.125,
          0.525,
          0.5785714285714285,
          0.3333333333333333,
          1.95,
          1.95,
          1.2833333333333334,
          0.6818181818181818,
          1.875,
          0.74,
          0.4625,
          1.042857142857143,
          0.33809523809523806,
          1.75,
          0.28750000000000003,
          0.425,
          0.4533333333333333,
          1.3199999999999998,
          1.3199999999999998,
          1.3199999999999998,
          0.4714285714285714,
          0.2826086956521739,
          0.7111111111111111,
          1.28,
          1.575,
          0.41333333333333333,
          1.5,
          0.8428571428571429,
          0.5272727272727272,
          0.35,
          0.5599999999999999,
          1.375,
          0.38571428571428573,
          0.7571428571428571,
          1.04,
          1,
          0.96,
          0.96,
          0.32857142857142857,
          0.8800000000000001,
          0.24705882352941178,
          0.3727272727272727,
          0.18181818181818182,
          0.4,
          0.76,
          0.45,
          0.72,
          0.3181818181818182,
          0.825,
          0.64,
          0.13636363636363635,
          0.75,
          0.14210526315789473,
          0.16875,
          0.30000000000000004,
          0.52,
          0.625,
          0.3833333333333333,
          0.44000000000000006,
          0.13125,
          0.23333333333333334,
          5.185714285714285,
          5.166666666666667,
          7.5,
          2.466666666666667,
          2.169230769230769,
          5.6,
          1.319047619047619,
          1.3142857142857143,
          2.966666666666667,
          1.394736842105263,
          1.511764705882353,
          1.2842105263157895,
          6.075,
          4.64,
          1.0571428571428572,
          1.2823529411764707,
          5.375,
          3.042857142857143,
          2.0300000000000002,
          5.075,
          1.5538461538461539,
          5,
          3.96,
          1.1529411764705884,
          1.781818181818182,
          1.1235294117647059,
          2.966666666666667,
          0.9368421052631579,
          4.45,
          1.6090909090909091,
          1.4416666666666667,
          2.4714285714285715,
          1.5454545454545454,
          2.414285714285714,
          4.2,
          2.3857142857142857,
          3.28,
          2.3285714285714287,
          4,
          0.7619047619047619,
          1.58,
          3.95,
          3.95,
          3.04,
          2.142857142857143,
          1.3454545454545455,
          3.625,
          0.8529411764705882,
          2.84,
          3.45,
          1.2181818181818183,
          2.6399999999999997,
          2.1333333333333333,
          2.56,
          0.9846153846153847,
          2.0833333333333335,
          2.0500000000000003,
          3,
          0.5714285714285714,
          2.4,
          0.9076923076923078,
          0.5571428571428572,
          1.2999999999999998,
          0.6105263157894737,
          0.9666666666666667,
          1.2666666666666666,
          0.6,
          0.9333333333333332,
          0.5095238095238095,
          2.625,
          0.8076923076923077,
          0.9545454545454546,
          2.575,
          1.7,
          1.4428571428571428,
          0.47619047619047616,
          1.92,
          0.95,
          1.3,
          0.7,
          0.4789473684210526,
          0.5235294117647059,
          0.55625,
          1.1857142857142857,
          0.42105263157894735,
          0.38095238095238093,
          0.6583333333333333,
          1.95,
          0.44705882352941173,
          0.5285714285714286,
          1.48,
          1.825,
          0.72,
          1.75,
          1.4,
          1.1333333333333333,
          1.3599999999999999,
          1.7,
          1.1166666666666667,
          0.6599999999999999,
          0.9428571428571428,
          0.30952380952380953,
          0.62,
          0.4066666666666666,
          0.46923076923076923,
          0.5454545454545454,
          0.28095238095238095,
          0.3222222222222222,
          1.45,
          0.7999999999999999,
          0.55,
          1.375,
          1.325,
          0.4,
          1.25,
          0.2882352941176471,
          0.4083333333333334,
          0.96,
          0.39999999999999997,
          0.9199999999999999,
          0.23684210526315788,
          0.8400000000000001,
          0.36363636363636365,
          0.4,
          0.18095238095238095,
          0.2846153846153846,
          0.31,
          0.42857142857142855,
          0.16470588235294117,
          0.625,
          0.12631578947368421,
          0.3833333333333333,
          5.1000000000000005,
          5.716666666666666,
          2.858333333333333,
          3.2299999999999995,
          6.12,
          6.04,
          1.438095238095238,
          6,
          2.98,
          1.8,
          2.5545454545454547,
          1.240909090909091,
          1.4157894736842105,
          5.16,
          1.0260869565217392,
          3.8833333333333333,
          2.522222222222222,
          1.8166666666666667,
          3.4499999999999997,
          2.2444444444444445,
          3.88,
          0.96,
          3.8,
          1.5666666666666667,
          1.6454545454545455,
          3.6,
          3.56,
          0.9368421052631579,
          1.5909090909090908,
          3.4799999999999995,
          1.7399999999999998,
          0.7521739130434782,
          2.8333333333333335,
          2.4285714285714284,
          4,
          0.7181818181818183,
          3.875,
          3.08,
          3,
          2.96,
          1.3363636363636362,
          3.625,
          2.88,
          2.3833333333333333,
          0.7833333333333333,
          2.8,
          0.7722222222222223,
          1.3699999999999999,
          2.7199999999999998,
          2.1999999999999997,
          1.8714285714285714,
          0.5652173913043478,
          0.7111111111111111,
          2.0500000000000003,
          0.6421052631578947,
          0.9916666666666667,
          2.3600000000000003,
          1.0272727272727273,
          0.9333333333333332,
          1.1099999999999999,
          0.5045454545454545,
          0.6166666666666667,
          0.49090909090909096,
          2.08,
          1.4714285714285715,
          2.575,
          2.575,
          0.9272727272727272,
          0.5611111111111111,
          1.55,
          0.4227272727272728,
          0.93,
          2.325,
          2.325,
          0.9199999999999999,
          1.8,
          0.75,
          2.25,
          0.44000000000000006,
          1.7600000000000002,
          2.125,
          1.6800000000000002,
          0.3904761904761904,
          0.4263157894736842,
          1.1428571428571428,
          0.6583333333333333,
          0.4277777777777778,
          0.39999999999999997,
          1.48,
          0.5833333333333334,
          0.3,
          1.3599999999999999,
          0.32999999999999996,
          1.0833333333333333,
          0.7111111111111111,
          1.28,
          1.28,
          1.28,
          1.05,
          0.525,
          0.37058823529411766,
          1.575,
          1.24,
          1.24,
          0.9666666666666667,
          1.16,
          1.1199999999999999,
          0.3733333333333333,
          0.9166666666666666,
          0.54,
          0.7571428571428571,
          0.44166666666666665,
          1.04,
          1,
          0.2882352941176471,
          0.7000000000000001,
          1.2,
          0.39166666666666666,
          0.39166666666666666,
          0.5222222222222223,
          0.9199999999999999,
          0.35833333333333334,
          0.18695652173913044,
          0.35000000000000003,
          0.8,
          0.18181818181818182,
          0.95,
          0.41111111111111115,
          0.6799999999999999,
          0.6799999999999999,
          0.3090909090909091,
          0.64,
          0.29090909090909095,
          0.6,
          0.38571428571428573,
          0.15000000000000002,
          0.20833333333333334,
          0.4166666666666667,
          0.4,
          0.4,
          2.6416666666666666,
          2.1133333333333333,
          6.2,
          1.6117647058823528,
          1.2454545454545454,
          3.011111111111111,
          4.5,
          6.575,
          1.0666666666666667,
          4.25,
          4.2,
          2.3600000000000003,
          2.33,
          0.9625,
          3.8000000000000003,
          3.6999999999999997,
          3.6333333333333333,
          1.2000000000000002,
          5.325,
          4.24,
          4.16,
          1.7333333333333334,
          3.88,
          4.825,
          1.5916666666666668,
          0.8636363636363636,
          1.5666666666666667,
          1.55,
          3,
          1.376923076923077,
          1.3461538461538463,
          2.9166666666666665,
          2.8833333333333333,
          0.7727272727272727,
          1.4083333333333332,
          0.75,
          0.7333333333333334,
          1.2833333333333334,
          3.08,
          2.5500000000000003,
          0.8222222222222223,
          1.3272727272727272,
          2.4166666666666665,
          3.625,
          3.575,
          0.7888888888888889,
          3.5,
          2.8,
          2.7600000000000002,
          2.7600000000000002,
          1.0230769230769232,
          0.84,
          1.0250000000000001,
          0.5217391304347826,
          2,
          2,
          2.3600000000000003,
          0.6499999999999999,
          1.8666666666666665,
          1.8333333333333333,
          0.6055555555555556,
          0.8307692307692308,
          1.7833333333333332,
          2.12,
          0.7066666666666667,
          0.8833333333333333,
          0.8833333333333333,
          0.5888888888888889,
          2.625,
          2.625,
          2.04,
          1.7,
          0.7916666666666666,
          1.8800000000000001,
          0.7230769230769231,
          1.55,
          1.8399999999999999,
          1.8399999999999999,
          1.5333333333333332,
          1.5333333333333332,
          0.7666666666666666,
          0.4833333333333333,
          0.35833333333333334,
          0.7166666666666667,
          0.3695652173913043,
          1.4166666666666667,
          1.6800000000000002,
          0.6916666666666668,
          1.64,
          0.36363636363636365,
          0.4444444444444444,
          1.3333333333333333,
          0.4388888888888889,
          0.45294117647058824,
          0.6900000000000001,
          0.5666666666666667,
          1.575,
          1.575,
          1.24,
          1.0333333333333334,
          0.5166666666666667,
          0.5,
          1.2,
          0.9666666666666667,
          0.2636363636363636,
          0.43076923076923074,
          0.5599999999999999,
          0.9166666666666666,
          0.28421052631578947,
          1.04,
          0.325,
          0.8666666666666667,
          0.4166666666666667,
          0.39999999999999997,
          0.96,
          0.19999999999999998,
          0.2647058823529412,
          0.48888888888888893,
          0.7166666666666667,
          0.35833333333333334,
          0.8400000000000001,
          0.3230769230769231,
          0.22777777777777775,
          0.8,
          0.8,
          0.6666666666666666,
          0.8,
          0.76,
          0.76,
          0.2714285714285714,
          0.95,
          0.30833333333333335,
          0.5499999999999999,
          0.17777777777777778,
          0.34444444444444444,
          0.5,
          0.3333333333333333,
          0.5,
          0.3833333333333333,
          0.19090909090909092,
          0.125,
          3.59,
          4.1875,
          6.32,
          2.7818181818181817,
          3.06,
          2.96,
          4.866666666666666,
          3.914285714285714,
          2.4454545454545453,
          2.59,
          2.3000000000000003,
          2.8,
          4.92,
          3.5142857142857147,
          4.76,
          4.720000000000001,
          3.9166666666666665,
          5.875,
          4.64,
          4.6,
          2.2600000000000002,
          2.477777777777778,
          4.36,
          2.1399999999999997,
          4.12,
          2.2555555555555555,
          1.8454545454545455,
          2.1555555555555554,
          3.8,
          2.7142857142857144,
          4.625,
          3.6399999999999997,
          3,
          3.56,
          1.9555555555555557,
          1.5363636363636362,
          2.783333333333333,
          4.125,
          2.3428571428571425,
          1.8111111111111111,
          1.4636363636363638,
          1.9875,
          1.54,
          3,
          3,
          1.3545454545454545,
          1.49,
          1.47,
          1.2818181818181817,
          1.3599999999999999,
          1.34,
          2.216666666666667,
          1.411111111111111,
          1.7714285714285716,
          1.21,
          1.21,
          2.4,
          3,
          2.32,
          1.8833333333333335,
          1.2444444444444445,
          1.2333333333333334,
          1.5285714285714285,
          2.12,
          0.9545454545454546,
          1.75,
          2.625,
          1.1333333333333333,
          2.04,
          1.1222222222222222,
          1.9600000000000002,
          1.3857142857142857,
          1.92,
          0.95,
          1.8800000000000001,
          1.8399999999999999,
          1.3,
          1.125,
          0.9888888888888889,
          0.9666666666666666,
          1.45,
          1.72,
          2.125,
          0.8400000000000001,
          1.6800000000000002,
          1.3833333333333335,
          1.64,
          1.56,
          0.8444444444444444,
          1.25,
          0.73,
          0.8,
          1.44,
          1.0142857142857142,
          0.6454545454545454,
          1.3599999999999999,
          0.7555555555555555,
          0.67,
          0.9428571428571428,
          0.65,
          1.0833333333333333,
          0.5909090909090909,
          0.5909090909090909,
          1.28,
          0.9,
          1.575,
          0.61,
          1.2,
          1,
          0.58,
          0.6000000000000001,
          0.45454545454545453,
          0.7142857142857143,
          1.25,
          0.5222222222222223,
          0.75,
          0.8800000000000001,
          0.7166666666666667,
          0.47777777777777775,
          0.42000000000000004,
          0.41,
          0.43333333333333335,
          0.4875,
          0.6333333333333333,
          0.5142857142857143,
          0.425,
          0.425,
          0.64,
          0.3875,
          0.34444444444444444,
          0.27999999999999997,
          0.38571428571428573,
          0.38571428571428573,
          0.325,
          0.625,
          0.24444444444444446
         ],
         "xbins": {
          "end": 8,
          "size": 1,
          "start": 0
         }
        }
       ],
       "layout": {
        "barmode": "overlay",
        "template": {
         "data": {
          "bar": [
           {
            "error_x": {
             "color": "#2a3f5f"
            },
            "error_y": {
             "color": "#2a3f5f"
            },
            "marker": {
             "line": {
              "color": "#E5ECF6",
              "width": 0.5
             },
             "pattern": {
              "fillmode": "overlay",
              "size": 10,
              "solidity": 0.2
             }
            },
            "type": "bar"
           }
          ],
          "barpolar": [
           {
            "marker": {
             "line": {
              "color": "#E5ECF6",
              "width": 0.5
             },
             "pattern": {
              "fillmode": "overlay",
              "size": 10,
              "solidity": 0.2
             }
            },
            "type": "barpolar"
           }
          ],
          "carpet": [
           {
            "aaxis": {
             "endlinecolor": "#2a3f5f",
             "gridcolor": "white",
             "linecolor": "white",
             "minorgridcolor": "white",
             "startlinecolor": "#2a3f5f"
            },
            "baxis": {
             "endlinecolor": "#2a3f5f",
             "gridcolor": "white",
             "linecolor": "white",
             "minorgridcolor": "white",
             "startlinecolor": "#2a3f5f"
            },
            "type": "carpet"
           }
          ],
          "choropleth": [
           {
            "colorbar": {
             "outlinewidth": 0,
             "ticks": ""
            },
            "type": "choropleth"
           }
          ],
          "contour": [
           {
            "colorbar": {
             "outlinewidth": 0,
             "ticks": ""
            },
            "colorscale": [
             [
              0,
              "#0d0887"
             ],
             [
              0.1111111111111111,
              "#46039f"
             ],
             [
              0.2222222222222222,
              "#7201a8"
             ],
             [
              0.3333333333333333,
              "#9c179e"
             ],
             [
              0.4444444444444444,
              "#bd3786"
             ],
             [
              0.5555555555555556,
              "#d8576b"
             ],
             [
              0.6666666666666666,
              "#ed7953"
             ],
             [
              0.7777777777777778,
              "#fb9f3a"
             ],
             [
              0.8888888888888888,
              "#fdca26"
             ],
             [
              1,
              "#f0f921"
             ]
            ],
            "type": "contour"
           }
          ],
          "contourcarpet": [
           {
            "colorbar": {
             "outlinewidth": 0,
             "ticks": ""
            },
            "type": "contourcarpet"
           }
          ],
          "heatmap": [
           {
            "colorbar": {
             "outlinewidth": 0,
             "ticks": ""
            },
            "colorscale": [
             [
              0,
              "#0d0887"
             ],
             [
              0.1111111111111111,
              "#46039f"
             ],
             [
              0.2222222222222222,
              "#7201a8"
             ],
             [
              0.3333333333333333,
              "#9c179e"
             ],
             [
              0.4444444444444444,
              "#bd3786"
             ],
             [
              0.5555555555555556,
              "#d8576b"
             ],
             [
              0.6666666666666666,
              "#ed7953"
             ],
             [
              0.7777777777777778,
              "#fb9f3a"
             ],
             [
              0.8888888888888888,
              "#fdca26"
             ],
             [
              1,
              "#f0f921"
             ]
            ],
            "type": "heatmap"
           }
          ],
          "heatmapgl": [
           {
            "colorbar": {
             "outlinewidth": 0,
             "ticks": ""
            },
            "colorscale": [
             [
              0,
              "#0d0887"
             ],
             [
              0.1111111111111111,
              "#46039f"
             ],
             [
              0.2222222222222222,
              "#7201a8"
             ],
             [
              0.3333333333333333,
              "#9c179e"
             ],
             [
              0.4444444444444444,
              "#bd3786"
             ],
             [
              0.5555555555555556,
              "#d8576b"
             ],
             [
              0.6666666666666666,
              "#ed7953"
             ],
             [
              0.7777777777777778,
              "#fb9f3a"
             ],
             [
              0.8888888888888888,
              "#fdca26"
             ],
             [
              1,
              "#f0f921"
             ]
            ],
            "type": "heatmapgl"
           }
          ],
          "histogram": [
           {
            "marker": {
             "pattern": {
              "fillmode": "overlay",
              "size": 10,
              "solidity": 0.2
             }
            },
            "type": "histogram"
           }
          ],
          "histogram2d": [
           {
            "colorbar": {
             "outlinewidth": 0,
             "ticks": ""
            },
            "colorscale": [
             [
              0,
              "#0d0887"
             ],
             [
              0.1111111111111111,
              "#46039f"
             ],
             [
              0.2222222222222222,
              "#7201a8"
             ],
             [
              0.3333333333333333,
              "#9c179e"
             ],
             [
              0.4444444444444444,
              "#bd3786"
             ],
             [
              0.5555555555555556,
              "#d8576b"
             ],
             [
              0.6666666666666666,
              "#ed7953"
             ],
             [
              0.7777777777777778,
              "#fb9f3a"
             ],
             [
              0.8888888888888888,
              "#fdca26"
             ],
             [
              1,
              "#f0f921"
             ]
            ],
            "type": "histogram2d"
           }
          ],
          "histogram2dcontour": [
           {
            "colorbar": {
             "outlinewidth": 0,
             "ticks": ""
            },
            "colorscale": [
             [
              0,
              "#0d0887"
             ],
             [
              0.1111111111111111,
              "#46039f"
             ],
             [
              0.2222222222222222,
              "#7201a8"
             ],
             [
              0.3333333333333333,
              "#9c179e"
             ],
             [
              0.4444444444444444,
              "#bd3786"
             ],
             [
              0.5555555555555556,
              "#d8576b"
             ],
             [
              0.6666666666666666,
              "#ed7953"
             ],
             [
              0.7777777777777778,
              "#fb9f3a"
             ],
             [
              0.8888888888888888,
              "#fdca26"
             ],
             [
              1,
              "#f0f921"
             ]
            ],
            "type": "histogram2dcontour"
           }
          ],
          "mesh3d": [
           {
            "colorbar": {
             "outlinewidth": 0,
             "ticks": ""
            },
            "type": "mesh3d"
           }
          ],
          "parcoords": [
           {
            "line": {
             "colorbar": {
              "outlinewidth": 0,
              "ticks": ""
             }
            },
            "type": "parcoords"
           }
          ],
          "pie": [
           {
            "automargin": true,
            "type": "pie"
           }
          ],
          "scatter": [
           {
            "fillpattern": {
             "fillmode": "overlay",
             "size": 10,
             "solidity": 0.2
            },
            "type": "scatter"
           }
          ],
          "scatter3d": [
           {
            "line": {
             "colorbar": {
              "outlinewidth": 0,
              "ticks": ""
             }
            },
            "marker": {
             "colorbar": {
              "outlinewidth": 0,
              "ticks": ""
             }
            },
            "type": "scatter3d"
           }
          ],
          "scattercarpet": [
           {
            "marker": {
             "colorbar": {
              "outlinewidth": 0,
              "ticks": ""
             }
            },
            "type": "scattercarpet"
           }
          ],
          "scattergeo": [
           {
            "marker": {
             "colorbar": {
              "outlinewidth": 0,
              "ticks": ""
             }
            },
            "type": "scattergeo"
           }
          ],
          "scattergl": [
           {
            "marker": {
             "colorbar": {
              "outlinewidth": 0,
              "ticks": ""
             }
            },
            "type": "scattergl"
           }
          ],
          "scattermapbox": [
           {
            "marker": {
             "colorbar": {
              "outlinewidth": 0,
              "ticks": ""
             }
            },
            "type": "scattermapbox"
           }
          ],
          "scatterpolar": [
           {
            "marker": {
             "colorbar": {
              "outlinewidth": 0,
              "ticks": ""
             }
            },
            "type": "scatterpolar"
           }
          ],
          "scatterpolargl": [
           {
            "marker": {
             "colorbar": {
              "outlinewidth": 0,
              "ticks": ""
             }
            },
            "type": "scatterpolargl"
           }
          ],
          "scatterternary": [
           {
            "marker": {
             "colorbar": {
              "outlinewidth": 0,
              "ticks": ""
             }
            },
            "type": "scatterternary"
           }
          ],
          "surface": [
           {
            "colorbar": {
             "outlinewidth": 0,
             "ticks": ""
            },
            "colorscale": [
             [
              0,
              "#0d0887"
             ],
             [
              0.1111111111111111,
              "#46039f"
             ],
             [
              0.2222222222222222,
              "#7201a8"
             ],
             [
              0.3333333333333333,
              "#9c179e"
             ],
             [
              0.4444444444444444,
              "#bd3786"
             ],
             [
              0.5555555555555556,
              "#d8576b"
             ],
             [
              0.6666666666666666,
              "#ed7953"
             ],
             [
              0.7777777777777778,
              "#fb9f3a"
             ],
             [
              0.8888888888888888,
              "#fdca26"
             ],
             [
              1,
              "#f0f921"
             ]
            ],
            "type": "surface"
           }
          ],
          "table": [
           {
            "cells": {
             "fill": {
              "color": "#EBF0F8"
             },
             "line": {
              "color": "white"
             }
            },
            "header": {
             "fill": {
              "color": "#C8D4E3"
             },
             "line": {
              "color": "white"
             }
            },
            "type": "table"
           }
          ]
         },
         "layout": {
          "annotationdefaults": {
           "arrowcolor": "#2a3f5f",
           "arrowhead": 0,
           "arrowwidth": 1
          },
          "autotypenumbers": "strict",
          "coloraxis": {
           "colorbar": {
            "outlinewidth": 0,
            "ticks": ""
           }
          },
          "colorscale": {
           "diverging": [
            [
             0,
             "#8e0152"
            ],
            [
             0.1,
             "#c51b7d"
            ],
            [
             0.2,
             "#de77ae"
            ],
            [
             0.3,
             "#f1b6da"
            ],
            [
             0.4,
             "#fde0ef"
            ],
            [
             0.5,
             "#f7f7f7"
            ],
            [
             0.6,
             "#e6f5d0"
            ],
            [
             0.7,
             "#b8e186"
            ],
            [
             0.8,
             "#7fbc41"
            ],
            [
             0.9,
             "#4d9221"
            ],
            [
             1,
             "#276419"
            ]
           ],
           "sequential": [
            [
             0,
             "#0d0887"
            ],
            [
             0.1111111111111111,
             "#46039f"
            ],
            [
             0.2222222222222222,
             "#7201a8"
            ],
            [
             0.3333333333333333,
             "#9c179e"
            ],
            [
             0.4444444444444444,
             "#bd3786"
            ],
            [
             0.5555555555555556,
             "#d8576b"
            ],
            [
             0.6666666666666666,
             "#ed7953"
            ],
            [
             0.7777777777777778,
             "#fb9f3a"
            ],
            [
             0.8888888888888888,
             "#fdca26"
            ],
            [
             1,
             "#f0f921"
            ]
           ],
           "sequentialminus": [
            [
             0,
             "#0d0887"
            ],
            [
             0.1111111111111111,
             "#46039f"
            ],
            [
             0.2222222222222222,
             "#7201a8"
            ],
            [
             0.3333333333333333,
             "#9c179e"
            ],
            [
             0.4444444444444444,
             "#bd3786"
            ],
            [
             0.5555555555555556,
             "#d8576b"
            ],
            [
             0.6666666666666666,
             "#ed7953"
            ],
            [
             0.7777777777777778,
             "#fb9f3a"
            ],
            [
             0.8888888888888888,
             "#fdca26"
            ],
            [
             1,
             "#f0f921"
            ]
           ]
          },
          "colorway": [
           "#636efa",
           "#EF553B",
           "#00cc96",
           "#ab63fa",
           "#FFA15A",
           "#19d3f3",
           "#FF6692",
           "#B6E880",
           "#FF97FF",
           "#FECB52"
          ],
          "font": {
           "color": "#2a3f5f"
          },
          "geo": {
           "bgcolor": "white",
           "lakecolor": "white",
           "landcolor": "#E5ECF6",
           "showlakes": true,
           "showland": true,
           "subunitcolor": "white"
          },
          "hoverlabel": {
           "align": "left"
          },
          "hovermode": "closest",
          "mapbox": {
           "style": "light"
          },
          "paper_bgcolor": "white",
          "plot_bgcolor": "#E5ECF6",
          "polar": {
           "angularaxis": {
            "gridcolor": "white",
            "linecolor": "white",
            "ticks": ""
           },
           "bgcolor": "#E5ECF6",
           "radialaxis": {
            "gridcolor": "white",
            "linecolor": "white",
            "ticks": ""
           }
          },
          "scene": {
           "xaxis": {
            "backgroundcolor": "#E5ECF6",
            "gridcolor": "white",
            "gridwidth": 2,
            "linecolor": "white",
            "showbackground": true,
            "ticks": "",
            "zerolinecolor": "white"
           },
           "yaxis": {
            "backgroundcolor": "#E5ECF6",
            "gridcolor": "white",
            "gridwidth": 2,
            "linecolor": "white",
            "showbackground": true,
            "ticks": "",
            "zerolinecolor": "white"
           },
           "zaxis": {
            "backgroundcolor": "#E5ECF6",
            "gridcolor": "white",
            "gridwidth": 2,
            "linecolor": "white",
            "showbackground": true,
            "ticks": "",
            "zerolinecolor": "white"
           }
          },
          "shapedefaults": {
           "line": {
            "color": "#2a3f5f"
           }
          },
          "ternary": {
           "aaxis": {
            "gridcolor": "white",
            "linecolor": "white",
            "ticks": ""
           },
           "baxis": {
            "gridcolor": "white",
            "linecolor": "white",
            "ticks": ""
           },
           "bgcolor": "#E5ECF6",
           "caxis": {
            "gridcolor": "white",
            "linecolor": "white",
            "ticks": ""
           }
          },
          "title": {
           "x": 0.05
          },
          "xaxis": {
           "automargin": true,
           "gridcolor": "white",
           "linecolor": "white",
           "ticks": "",
           "title": {
            "standoff": 15
           },
           "zerolinecolor": "white",
           "zerolinewidth": 2
          },
          "yaxis": {
           "automargin": true,
           "gridcolor": "white",
           "linecolor": "white",
           "ticks": "",
           "title": {
            "standoff": 15
           },
           "zerolinecolor": "white",
           "zerolinewidth": 2
          }
         }
        }
       }
      }
     },
     "metadata": {},
     "output_type": "display_data"
    }
   ],
   "source": [
    "fig = go.Figure()\n",
    "fig.add_trace(go.Histogram(x=hist_data(rs_df, 2,20), histnorm='percent', name='RS',\n",
    "                           xbins={'start':0, 'end': 8, 'size': 1}))\n",
    "fig.add_trace(go.Histogram(x=hist_data(playoffs_df, 2, 4), histnorm='percent', name='Playoffs',\n",
    "                           xbins={'start':0, 'end': 8, 'size': 1}))\n",
    "\n",
    "fig.update_layout(barmode='overlay')\n",
    "fig.update_traces(opacity=0.5)\n",
    "fig.show()"
   ]
  },
  {
   "cell_type": "code",
   "execution_count": 18,
   "metadata": {},
   "outputs": [
    {
     "data": {
      "text/plain": [
       "0.4637062339880444"
      ]
     },
     "execution_count": 18,
     "metadata": {},
     "output_type": "execute_result"
    }
   ],
   "source": [
    "((hist_data(playoffs_df, 0, 4)>=0)&(hist_data(playoffs_df, 0, 4)<=1)).mean()"
   ]
  },
  {
   "attachments": {},
   "cell_type": "markdown",
   "metadata": {},
   "source": [
    "# How has the game changed over the past 10 years?"
   ]
  },
  {
   "cell_type": "code",
   "execution_count": 19,
   "metadata": {},
   "outputs": [
    {
     "data": {
      "text/html": [
       "<div>\n",
       "<style scoped>\n",
       "    .dataframe tbody tr th:only-of-type {\n",
       "        vertical-align: middle;\n",
       "    }\n",
       "\n",
       "    .dataframe tbody tr th {\n",
       "        vertical-align: top;\n",
       "    }\n",
       "\n",
       "    .dataframe thead th {\n",
       "        text-align: right;\n",
       "    }\n",
       "</style>\n",
       "<table border=\"1\" class=\"dataframe\">\n",
       "  <thead>\n",
       "    <tr style=\"text-align: right;\">\n",
       "      <th></th>\n",
       "      <th>season_start_year</th>\n",
       "      <th>MIN</th>\n",
       "      <th>POSS_est</th>\n",
       "      <th>PTS</th>\n",
       "      <th>AST</th>\n",
       "      <th>REB</th>\n",
       "      <th>STL</th>\n",
       "      <th>BLK</th>\n",
       "      <th>OREB</th>\n",
       "      <th>DREB</th>\n",
       "      <th>FGM</th>\n",
       "      <th>FGA</th>\n",
       "      <th>FG3M</th>\n",
       "      <th>FG3A</th>\n",
       "      <th>FTM</th>\n",
       "      <th>FTA</th>\n",
       "      <th>TOV</th>\n",
       "      <th>GP</th>\n",
       "      <th>FG%</th>\n",
       "      <th>3PT%</th>\n",
       "      <th>FT%</th>\n",
       "      <th>FG3A%</th>\n",
       "      <th>PTS/FGA</th>\n",
       "      <th>FG3M/FGM</th>\n",
       "      <th>FTA/FGA</th>\n",
       "      <th>TRU%</th>\n",
       "    </tr>\n",
       "  </thead>\n",
       "  <tbody>\n",
       "    <tr>\n",
       "      <th>0</th>\n",
       "      <td>2014</td>\n",
       "      <td>10453.0</td>\n",
       "      <td>4201.076</td>\n",
       "      <td>4375.1</td>\n",
       "      <td>946.3</td>\n",
       "      <td>1898.5</td>\n",
       "      <td>330.7</td>\n",
       "      <td>214.3</td>\n",
       "      <td>475.5</td>\n",
       "      <td>1426.9</td>\n",
       "      <td>1633.5</td>\n",
       "      <td>3648.9</td>\n",
       "      <td>345.5</td>\n",
       "      <td>987.5</td>\n",
       "      <td>766.6</td>\n",
       "      <td>1022.9</td>\n",
       "      <td>577.6</td>\n",
       "      <td>20597</td>\n",
       "      <td>0.447669</td>\n",
       "      <td>0.349873</td>\n",
       "      <td>0.749438</td>\n",
       "      <td>0.270630</td>\n",
       "      <td>1.199019</td>\n",
       "      <td>0.211509</td>\n",
       "      <td>0.280331</td>\n",
       "      <td>0.529061</td>\n",
       "    </tr>\n",
       "    <tr>\n",
       "      <th>1</th>\n",
       "      <td>2015</td>\n",
       "      <td>10432.3</td>\n",
       "      <td>4202.760</td>\n",
       "      <td>4382.5</td>\n",
       "      <td>916.6</td>\n",
       "      <td>1888.0</td>\n",
       "      <td>331.4</td>\n",
       "      <td>215.9</td>\n",
       "      <td>455.3</td>\n",
       "      <td>1434.1</td>\n",
       "      <td>1624.2</td>\n",
       "      <td>3638.0</td>\n",
       "      <td>372.1</td>\n",
       "      <td>1060.3</td>\n",
       "      <td>763.5</td>\n",
       "      <td>1014.0</td>\n",
       "      <td>573.9</td>\n",
       "      <td>21320</td>\n",
       "      <td>0.446454</td>\n",
       "      <td>0.350938</td>\n",
       "      <td>0.752959</td>\n",
       "      <td>0.291451</td>\n",
       "      <td>1.204645</td>\n",
       "      <td>0.229097</td>\n",
       "      <td>0.278725</td>\n",
       "      <td>0.531902</td>\n",
       "    </tr>\n",
       "    <tr>\n",
       "      <th>2</th>\n",
       "      <td>2016</td>\n",
       "      <td>10489.6</td>\n",
       "      <td>4313.692</td>\n",
       "      <td>4642.8</td>\n",
       "      <td>982.4</td>\n",
       "      <td>1862.9</td>\n",
       "      <td>331.6</td>\n",
       "      <td>203.1</td>\n",
       "      <td>433.4</td>\n",
       "      <td>1432.2</td>\n",
       "      <td>1701.7</td>\n",
       "      <td>3713.4</td>\n",
       "      <td>433.3</td>\n",
       "      <td>1211.5</td>\n",
       "      <td>807.5</td>\n",
       "      <td>1039.3</td>\n",
       "      <td>576.4</td>\n",
       "      <td>21191</td>\n",
       "      <td>0.458259</td>\n",
       "      <td>0.357656</td>\n",
       "      <td>0.776965</td>\n",
       "      <td>0.326251</td>\n",
       "      <td>1.250283</td>\n",
       "      <td>0.254628</td>\n",
       "      <td>0.279878</td>\n",
       "      <td>0.551786</td>\n",
       "    </tr>\n",
       "    <tr>\n",
       "      <th>3</th>\n",
       "      <td>2017</td>\n",
       "      <td>6293.6</td>\n",
       "      <td>2602.492</td>\n",
       "      <td>2809.8</td>\n",
       "      <td>605.1</td>\n",
       "      <td>1133.1</td>\n",
       "      <td>203.0</td>\n",
       "      <td>126.4</td>\n",
       "      <td>253.4</td>\n",
       "      <td>880.3</td>\n",
       "      <td>1046.6</td>\n",
       "      <td>2250.9</td>\n",
       "      <td>275.0</td>\n",
       "      <td>751.9</td>\n",
       "      <td>440.8</td>\n",
       "      <td>571.8</td>\n",
       "      <td>353.4</td>\n",
       "      <td>18517</td>\n",
       "      <td>0.464970</td>\n",
       "      <td>0.365740</td>\n",
       "      <td>0.770899</td>\n",
       "      <td>0.334044</td>\n",
       "      <td>1.248301</td>\n",
       "      <td>0.262756</td>\n",
       "      <td>0.254032</td>\n",
       "      <td>0.556946</td>\n",
       "    </tr>\n",
       "    <tr>\n",
       "      <th>4</th>\n",
       "      <td>2018</td>\n",
       "      <td>10152.9</td>\n",
       "      <td>4313.064</td>\n",
       "      <td>4659.2</td>\n",
       "      <td>1001.9</td>\n",
       "      <td>1895.8</td>\n",
       "      <td>313.1</td>\n",
       "      <td>204.3</td>\n",
       "      <td>438.7</td>\n",
       "      <td>1458.9</td>\n",
       "      <td>1701.1</td>\n",
       "      <td>3745.5</td>\n",
       "      <td>476.6</td>\n",
       "      <td>1357.1</td>\n",
       "      <td>783.9</td>\n",
       "      <td>1010.6</td>\n",
       "      <td>561.6</td>\n",
       "      <td>20015</td>\n",
       "      <td>0.454172</td>\n",
       "      <td>0.351190</td>\n",
       "      <td>0.775678</td>\n",
       "      <td>0.362328</td>\n",
       "      <td>1.243946</td>\n",
       "      <td>0.280172</td>\n",
       "      <td>0.269817</td>\n",
       "      <td>0.551315</td>\n",
       "    </tr>\n",
       "    <tr>\n",
       "      <th>5</th>\n",
       "      <td>2019</td>\n",
       "      <td>10354.7</td>\n",
       "      <td>4459.564</td>\n",
       "      <td>4833.1</td>\n",
       "      <td>1038.1</td>\n",
       "      <td>1873.4</td>\n",
       "      <td>316.6</td>\n",
       "      <td>195.3</td>\n",
       "      <td>398.0</td>\n",
       "      <td>1476.4</td>\n",
       "      <td>1737.8</td>\n",
       "      <td>3808.3</td>\n",
       "      <td>555.2</td>\n",
       "      <td>1535.2</td>\n",
       "      <td>805.6</td>\n",
       "      <td>1030.6</td>\n",
       "      <td>595.8</td>\n",
       "      <td>17617</td>\n",
       "      <td>0.456319</td>\n",
       "      <td>0.361647</td>\n",
       "      <td>0.781681</td>\n",
       "      <td>0.403120</td>\n",
       "      <td>1.269096</td>\n",
       "      <td>0.319484</td>\n",
       "      <td>0.270619</td>\n",
       "      <td>0.562271</td>\n",
       "    </tr>\n",
       "    <tr>\n",
       "      <th>6</th>\n",
       "      <td>2020</td>\n",
       "      <td>9662.4</td>\n",
       "      <td>4057.904</td>\n",
       "      <td>4525.8</td>\n",
       "      <td>964.4</td>\n",
       "      <td>1745.3</td>\n",
       "      <td>288.5</td>\n",
       "      <td>182.8</td>\n",
       "      <td>394.6</td>\n",
       "      <td>1350.5</td>\n",
       "      <td>1654.0</td>\n",
       "      <td>3545.7</td>\n",
       "      <td>508.6</td>\n",
       "      <td>1378.7</td>\n",
       "      <td>710.1</td>\n",
       "      <td>904.1</td>\n",
       "      <td>509.0</td>\n",
       "      <td>16099</td>\n",
       "      <td>0.466481</td>\n",
       "      <td>0.368898</td>\n",
       "      <td>0.785422</td>\n",
       "      <td>0.388837</td>\n",
       "      <td>1.276419</td>\n",
       "      <td>0.307497</td>\n",
       "      <td>0.254985</td>\n",
       "      <td>0.569262</td>\n",
       "    </tr>\n",
       "    <tr>\n",
       "      <th>7</th>\n",
       "      <td>2021</td>\n",
       "      <td>9645.7</td>\n",
       "      <td>4051.844</td>\n",
       "      <td>4444.1</td>\n",
       "      <td>977.5</td>\n",
       "      <td>1725.0</td>\n",
       "      <td>296.1</td>\n",
       "      <td>182.8</td>\n",
       "      <td>384.1</td>\n",
       "      <td>1339.6</td>\n",
       "      <td>1615.4</td>\n",
       "      <td>3507.5</td>\n",
       "      <td>506.8</td>\n",
       "      <td>1419.9</td>\n",
       "      <td>708.8</td>\n",
       "      <td>905.1</td>\n",
       "      <td>530.2</td>\n",
       "      <td>17328</td>\n",
       "      <td>0.460556</td>\n",
       "      <td>0.356927</td>\n",
       "      <td>0.783118</td>\n",
       "      <td>0.404818</td>\n",
       "      <td>1.267028</td>\n",
       "      <td>0.313730</td>\n",
       "      <td>0.258047</td>\n",
       "      <td>0.564341</td>\n",
       "    </tr>\n",
       "    <tr>\n",
       "      <th>8</th>\n",
       "      <td>2022</td>\n",
       "      <td>10137.9</td>\n",
       "      <td>4279.652</td>\n",
       "      <td>4816.5</td>\n",
       "      <td>1050.4</td>\n",
       "      <td>1810.9</td>\n",
       "      <td>300.1</td>\n",
       "      <td>196.3</td>\n",
       "      <td>435.9</td>\n",
       "      <td>1376.1</td>\n",
       "      <td>1761.1</td>\n",
       "      <td>3738.7</td>\n",
       "      <td>525.8</td>\n",
       "      <td>1462.7</td>\n",
       "      <td>768.0</td>\n",
       "      <td>975.8</td>\n",
       "      <td>547.5</td>\n",
       "      <td>18237</td>\n",
       "      <td>0.471046</td>\n",
       "      <td>0.359472</td>\n",
       "      <td>0.787047</td>\n",
       "      <td>0.391232</td>\n",
       "      <td>1.288282</td>\n",
       "      <td>0.298563</td>\n",
       "      <td>0.261000</td>\n",
       "      <td>0.573092</td>\n",
       "    </tr>\n",
       "  </tbody>\n",
       "</table>\n",
       "</div>"
      ],
      "text/plain": [
       "   season_start_year      MIN  POSS_est     PTS     AST     REB    STL    BLK   \n",
       "0               2014  10453.0  4201.076  4375.1   946.3  1898.5  330.7  214.3  \\\n",
       "1               2015  10432.3  4202.760  4382.5   916.6  1888.0  331.4  215.9   \n",
       "2               2016  10489.6  4313.692  4642.8   982.4  1862.9  331.6  203.1   \n",
       "3               2017   6293.6  2602.492  2809.8   605.1  1133.1  203.0  126.4   \n",
       "4               2018  10152.9  4313.064  4659.2  1001.9  1895.8  313.1  204.3   \n",
       "5               2019  10354.7  4459.564  4833.1  1038.1  1873.4  316.6  195.3   \n",
       "6               2020   9662.4  4057.904  4525.8   964.4  1745.3  288.5  182.8   \n",
       "7               2021   9645.7  4051.844  4444.1   977.5  1725.0  296.1  182.8   \n",
       "8               2022  10137.9  4279.652  4816.5  1050.4  1810.9  300.1  196.3   \n",
       "\n",
       "    OREB    DREB     FGM     FGA   FG3M    FG3A    FTM     FTA    TOV     GP   \n",
       "0  475.5  1426.9  1633.5  3648.9  345.5   987.5  766.6  1022.9  577.6  20597  \\\n",
       "1  455.3  1434.1  1624.2  3638.0  372.1  1060.3  763.5  1014.0  573.9  21320   \n",
       "2  433.4  1432.2  1701.7  3713.4  433.3  1211.5  807.5  1039.3  576.4  21191   \n",
       "3  253.4   880.3  1046.6  2250.9  275.0   751.9  440.8   571.8  353.4  18517   \n",
       "4  438.7  1458.9  1701.1  3745.5  476.6  1357.1  783.9  1010.6  561.6  20015   \n",
       "5  398.0  1476.4  1737.8  3808.3  555.2  1535.2  805.6  1030.6  595.8  17617   \n",
       "6  394.6  1350.5  1654.0  3545.7  508.6  1378.7  710.1   904.1  509.0  16099   \n",
       "7  384.1  1339.6  1615.4  3507.5  506.8  1419.9  708.8   905.1  530.2  17328   \n",
       "8  435.9  1376.1  1761.1  3738.7  525.8  1462.7  768.0   975.8  547.5  18237   \n",
       "\n",
       "        FG%      3PT%       FT%     FG3A%   PTS/FGA  FG3M/FGM   FTA/FGA   \n",
       "0  0.447669  0.349873  0.749438  0.270630  1.199019  0.211509  0.280331  \\\n",
       "1  0.446454  0.350938  0.752959  0.291451  1.204645  0.229097  0.278725   \n",
       "2  0.458259  0.357656  0.776965  0.326251  1.250283  0.254628  0.279878   \n",
       "3  0.464970  0.365740  0.770899  0.334044  1.248301  0.262756  0.254032   \n",
       "4  0.454172  0.351190  0.775678  0.362328  1.243946  0.280172  0.269817   \n",
       "5  0.456319  0.361647  0.781681  0.403120  1.269096  0.319484  0.270619   \n",
       "6  0.466481  0.368898  0.785422  0.388837  1.276419  0.307497  0.254985   \n",
       "7  0.460556  0.356927  0.783118  0.404818  1.267028  0.313730  0.258047   \n",
       "8  0.471046  0.359472  0.787047  0.391232  1.288282  0.298563  0.261000   \n",
       "\n",
       "       TRU%  \n",
       "0  0.529061  \n",
       "1  0.531902  \n",
       "2  0.551786  \n",
       "3  0.556946  \n",
       "4  0.551315  \n",
       "5  0.562271  \n",
       "6  0.569262  \n",
       "7  0.564341  \n",
       "8  0.573092  "
      ]
     },
     "execution_count": 19,
     "metadata": {},
     "output_type": "execute_result"
    }
   ],
   "source": [
    "change_df = data.groupby('season_start_year')[total_cols].sum().reset_index()\n",
    "change_df['POSS_est'] = change_df['FGA']-change_df['OREB']+change_df['TOV']+0.44*change_df['FTA']\n",
    "change_df = change_df[list(change_df.columns[0:2])+['POSS_est']+list(change_df.columns[2:-1])]\n",
    "\n",
    "change_df['FG%'] = change_df['FGM']/change_df['FGA']\n",
    "change_df['3PT%'] = change_df['FG3M']/change_df['FG3A']\n",
    "change_df['FT%'] = change_df['FTM']/change_df['FTA'] \n",
    "change_df['FG3A%'] = change_df['FG3A']/change_df['FGA']\n",
    "change_df['PTS/FGA'] = change_df['PTS']/change_df['FGA']\n",
    "change_df['FG3M/FGM'] = change_df['FG3M']/change_df['FGM']\n",
    "change_df['FTA/FGA'] = change_df['FTA']/change_df['FGA']\n",
    "change_df['TRU%'] = 0.5*change_df['PTS']/(change_df['FGA']+0.475*change_df['FTA'])\n",
    "\n",
    "\n",
    "\n",
    "change_df"
   ]
  },
  {
   "cell_type": "code",
   "execution_count": 20,
   "metadata": {},
   "outputs": [
    {
     "data": {
      "application/vnd.plotly.v1+json": {
       "config": {
        "plotlyServerURL": "https://plot.ly"
       },
       "data": [
        {
         "name": "POSS_est",
         "type": "scatter",
         "x": [
          2014,
          2015,
          2016,
          2017,
          2018,
          2019,
          2020,
          2021,
          2022
         ],
         "y": [
          96.45635128671195,
          96.68648332582461,
          98.6964307504576,
          99.24337104359985,
          101.95464941051327,
          103.36324181289656,
          100.79244908097367,
          100.81617300973491,
          101.31452075873702
         ]
        },
        {
         "name": "PTS",
         "type": "scatter",
         "x": [
          2014,
          2015,
          2016,
          2017,
          2018,
          2019,
          2020,
          2021,
          2022
         ],
         "y": [
          100.45192767626519,
          100.8214871121421,
          106.22635753508236,
          107.14884962501588,
          110.13680820258251,
          112.02101461172221,
          112.41430700447096,
          110.57611163523643,
          114.02361435800314
         ]
        },
        {
         "name": "AST",
         "type": "scatter",
         "x": [
          2014,
          2015,
          2016,
          2017,
          2018,
          2019,
          2020,
          2021,
          2022
         ],
         "y": [
          21.726968334449438,
          21.086816905188694,
          22.477120195241,
          23.07486970891064,
          23.683479596962442,
          24.060957825914798,
          23.954297069051165,
          24.321718485957472,
          24.866688367413374
         ]
        },
        {
         "name": "REB",
         "type": "scatter",
         "x": [
          2014,
          2015,
          2016,
          2017,
          2018,
          2019,
          2020,
          2021,
          2022
         ],
         "y": [
          43.58940017219936,
          43.43433375190514,
          42.62278828553996,
          43.2096097622982,
          44.813994031262006,
          43.42144147102282,
          43.35072031793344,
          42.920679681101426,
          42.87041695025597
         ]
        },
        {
         "name": "STL",
         "type": "scatter",
         "x": [
          2014,
          2015,
          2016,
          2017,
          2018,
          2019,
          2020,
          2021,
          2022
         ],
         "y": [
          7.592844159571415,
          7.624013879968943,
          7.586943258084197,
          7.741197406889539,
          7.4012351150902695,
          7.338116990352207,
          7.165921510183805,
          7.367427973086453,
          7.104429911520138
         ]
        },
        {
         "name": "BLK",
         "type": "scatter",
         "x": [
          2014,
          2015,
          2016,
          2017,
          2018,
          2019,
          2020,
          2021,
          2022
         ],
         "y": [
          4.920309958863484,
          4.966881703938729,
          4.6468883465527755,
          4.820134740053388,
          4.829359099370624,
          4.526640076487006,
          4.540486835568803,
          4.548347968524834,
          4.647116266682449
         ]
        },
        {
         "name": "OREB",
         "type": "scatter",
         "x": [
          2014,
          2015,
          2016,
          2017,
          2018,
          2019,
          2020,
          2021,
          2022
         ],
         "y": [
          10.91743996938678,
          10.474392032437718,
          9.916107382550335,
          9.663149866531079,
          10.37023904500192,
          9.224796469236193,
          9.801291604570293,
          9.557004675658584,
          10.319296895806824
         ]
        },
        {
         "name": "DREB",
         "type": "scatter",
         "x": [
          2014,
          2015,
          2016,
          2017,
          2018,
          2019,
          2020,
          2021,
          2022
         ],
         "y": [
          32.7615038744858,
          32.99214938220718,
          32.76845637583893,
          33.56934028219143,
          34.4863044056378,
          34.21982288236259,
          33.544461003477394,
          33.331328985973016,
          32.5771609504927
         ]
        },
        {
         "name": "FGM",
         "type": "scatter",
         "x": [
          2014,
          2015,
          2016,
          2017,
          2018,
          2019,
          2020,
          2021,
          2022
         ],
         "y": [
          37.505022481584234,
          37.3654898727989,
          38.93456375838926,
          39.911020719461035,
          40.21156516857253,
          40.27852086492124,
          41.082960755091904,
          40.193661424261585,
          41.69147456573846
         ]
        },
        {
         "name": "FGA",
         "type": "scatter",
         "x": [
          2014,
          2015,
          2016,
          2017,
          2018,
          2019,
          2020,
          2021,
          2022
         ],
         "y": [
          83.77843681239835,
          83.69391217660535,
          84.96186699206834,
          85.83576967077664,
          88.5382501551281,
          88.2683225974678,
          88.07004470938898,
          87.27204868490622,
          88.50827094368655
         ]
        },
        {
         "name": "FG3M",
         "type": "scatter",
         "x": [
          2014,
          2015,
          2016,
          2017,
          2018,
          2019,
          2020,
          2021,
          2022
         ],
         "y": [
          7.932650913613317,
          8.560336646760543,
          9.913819402074436,
          10.486843777806026,
          11.266140708566027,
          12.868359295778728,
          12.632886239443618,
          12.609971282540407,
          12.447548308821352
         ]
        },
        {
         "name": "FG3A",
         "type": "scatter",
         "x": [
          2014,
          2015,
          2016,
          2017,
          2018,
          2019,
          2020,
          2021,
          2022
         ],
         "y": [
          22.67291686597149,
          24.39270343069122,
          27.71888346552776,
          28.67293758739036,
          32.079898354164825,
          35.582682260229646,
          34.244908097367116,
          35.32931772707009,
          34.627289675376566
         ]
        },
        {
         "name": "FTM",
         "type": "scatter",
         "x": [
          2014,
          2015,
          2016,
          2017,
          2018,
          2019,
          2020,
          2021,
          2022
         ],
         "y": [
          17.60107146273797,
          17.564678929862065,
          18.475442342892006,
          16.809457226388712,
          18.53027213899477,
          18.6721005920017,
          17.63785394932936,
          17.63604507708098,
          18.18128014677596
         ]
        },
        {
         "name": "FTA",
         "type": "scatter",
         "x": [
          2014,
          2015,
          2016,
          2017,
          2018,
          2019,
          2020,
          2021,
          2022
         ],
         "y": [
          23.48569788577442,
          23.327550012940577,
          23.778981086028065,
          21.805008262361763,
          23.88913512395473,
          23.887123721595017,
          22.45653253849975,
          22.52029401702313,
          23.100642144822892
         ]
        },
        {
         "name": "TOV",
         "type": "scatter",
         "x": [
          2014,
          2015,
          2016,
          2017,
          2018,
          2019,
          2020,
          2021,
          2022
         ],
         "y": [
          13.26164737395963,
          13.202841175963114,
          13.187919463087248,
          13.476547603915085,
          13.275418845847,
          13.809381247163122,
          12.642821659215102,
          13.192199632997088,
          12.961264167135207
         ]
        },
        {
         "name": "FG%",
         "type": "scatter",
         "x": [
          2014,
          2015,
          2016,
          2017,
          2018,
          2019,
          2020,
          2021,
          2022
         ],
         "y": [
          0.4476691605689386,
          0.4464540956569544,
          0.4582592772122583,
          0.4649695677284641,
          0.4541716726738753,
          0.4563190925084683,
          0.46648052570719467,
          0.4605559515324305,
          0.4710460855377538
         ]
        },
        {
         "name": "3PT%",
         "type": "scatter",
         "x": [
          2014,
          2015,
          2016,
          2017,
          2018,
          2019,
          2020,
          2021,
          2022
         ],
         "y": [
          0.349873417721519,
          0.35093841365651235,
          0.35765579859678087,
          0.36574012501662456,
          0.3511900375801342,
          0.361646690984888,
          0.3688982374700805,
          0.35692654412282554,
          0.35947220892869347
         ]
        },
        {
         "name": "FT%",
         "type": "scatter",
         "x": [
          2014,
          2015,
          2016,
          2017,
          2018,
          2019,
          2020,
          2021,
          2022
         ],
         "y": [
          0.7494378727148304,
          0.7529585798816568,
          0.7769652650822669,
          0.770898915704792,
          0.7756778151593112,
          0.7816805744226665,
          0.7854219665966155,
          0.7831178875262401,
          0.7870465259274442
         ]
        },
        {
         "name": "FG3A%",
         "type": "scatter",
         "x": [
          2014,
          2015,
          2016,
          2017,
          2018,
          2019,
          2020,
          2021,
          2022
         ],
         "y": [
          0.27062950478226316,
          0.29145134689389773,
          0.3262508752087036,
          0.3340441601137323,
          0.36232812708583634,
          0.4031195021400625,
          0.38883718306681336,
          0.40481824661439775,
          0.39123224650279514
         ]
        },
        {
         "name": "PTS/FGA",
         "type": "scatter",
         "x": [
          2014,
          2015,
          2016,
          2017,
          2018,
          2019,
          2020,
          2021,
          2022
         ],
         "y": [
          1.199018882402916,
          1.2046454095656955,
          1.2502827597350137,
          1.2483006797281089,
          1.243946068615672,
          1.2690964472336739,
          1.2764193248159743,
          1.2670277975766215,
          1.2882820231631316
         ]
        },
        {
         "name": "FG3M/FGM",
         "type": "scatter",
         "x": [
          2014,
          2015,
          2016,
          2017,
          2018,
          2019,
          2020,
          2021,
          2022
         ],
         "y": [
          0.21150902969084787,
          0.22909740179780816,
          0.2546277252159605,
          0.26275558952799544,
          0.2801716536358827,
          0.3194844055702613,
          0.307496977025393,
          0.31373034542528166,
          0.2985633978763273
         ]
        },
        {
         "name": "FTA/FGA",
         "type": "scatter",
         "x": [
          2014,
          2015,
          2016,
          2017,
          2018,
          2019,
          2020,
          2021,
          2022
         ],
         "y": [
          0.2803310586752172,
          0.27872457394172623,
          0.2798782786664512,
          0.2540317206450753,
          0.2698171138699773,
          0.27061943649397363,
          0.25498491130101253,
          0.25804704205274415,
          0.26099981276914436
         ]
        },
        {
         "name": "TRU%",
         "type": "scatter",
         "x": [
          2014,
          2015,
          2016,
          2017,
          2018,
          2019,
          2020,
          2021,
          2022
         ],
         "y": [
          0.5290611163478567,
          0.5319019819644873,
          0.5517857747706687,
          0.5569463687881689,
          0.5513148039242368,
          0.5622714692397451,
          0.5692618953133186,
          0.5643412663995292,
          0.5730919838513352
         ]
        }
       ],
       "layout": {
        "template": {
         "data": {
          "bar": [
           {
            "error_x": {
             "color": "#2a3f5f"
            },
            "error_y": {
             "color": "#2a3f5f"
            },
            "marker": {
             "line": {
              "color": "#E5ECF6",
              "width": 0.5
             },
             "pattern": {
              "fillmode": "overlay",
              "size": 10,
              "solidity": 0.2
             }
            },
            "type": "bar"
           }
          ],
          "barpolar": [
           {
            "marker": {
             "line": {
              "color": "#E5ECF6",
              "width": 0.5
             },
             "pattern": {
              "fillmode": "overlay",
              "size": 10,
              "solidity": 0.2
             }
            },
            "type": "barpolar"
           }
          ],
          "carpet": [
           {
            "aaxis": {
             "endlinecolor": "#2a3f5f",
             "gridcolor": "white",
             "linecolor": "white",
             "minorgridcolor": "white",
             "startlinecolor": "#2a3f5f"
            },
            "baxis": {
             "endlinecolor": "#2a3f5f",
             "gridcolor": "white",
             "linecolor": "white",
             "minorgridcolor": "white",
             "startlinecolor": "#2a3f5f"
            },
            "type": "carpet"
           }
          ],
          "choropleth": [
           {
            "colorbar": {
             "outlinewidth": 0,
             "ticks": ""
            },
            "type": "choropleth"
           }
          ],
          "contour": [
           {
            "colorbar": {
             "outlinewidth": 0,
             "ticks": ""
            },
            "colorscale": [
             [
              0,
              "#0d0887"
             ],
             [
              0.1111111111111111,
              "#46039f"
             ],
             [
              0.2222222222222222,
              "#7201a8"
             ],
             [
              0.3333333333333333,
              "#9c179e"
             ],
             [
              0.4444444444444444,
              "#bd3786"
             ],
             [
              0.5555555555555556,
              "#d8576b"
             ],
             [
              0.6666666666666666,
              "#ed7953"
             ],
             [
              0.7777777777777778,
              "#fb9f3a"
             ],
             [
              0.8888888888888888,
              "#fdca26"
             ],
             [
              1,
              "#f0f921"
             ]
            ],
            "type": "contour"
           }
          ],
          "contourcarpet": [
           {
            "colorbar": {
             "outlinewidth": 0,
             "ticks": ""
            },
            "type": "contourcarpet"
           }
          ],
          "heatmap": [
           {
            "colorbar": {
             "outlinewidth": 0,
             "ticks": ""
            },
            "colorscale": [
             [
              0,
              "#0d0887"
             ],
             [
              0.1111111111111111,
              "#46039f"
             ],
             [
              0.2222222222222222,
              "#7201a8"
             ],
             [
              0.3333333333333333,
              "#9c179e"
             ],
             [
              0.4444444444444444,
              "#bd3786"
             ],
             [
              0.5555555555555556,
              "#d8576b"
             ],
             [
              0.6666666666666666,
              "#ed7953"
             ],
             [
              0.7777777777777778,
              "#fb9f3a"
             ],
             [
              0.8888888888888888,
              "#fdca26"
             ],
             [
              1,
              "#f0f921"
             ]
            ],
            "type": "heatmap"
           }
          ],
          "heatmapgl": [
           {
            "colorbar": {
             "outlinewidth": 0,
             "ticks": ""
            },
            "colorscale": [
             [
              0,
              "#0d0887"
             ],
             [
              0.1111111111111111,
              "#46039f"
             ],
             [
              0.2222222222222222,
              "#7201a8"
             ],
             [
              0.3333333333333333,
              "#9c179e"
             ],
             [
              0.4444444444444444,
              "#bd3786"
             ],
             [
              0.5555555555555556,
              "#d8576b"
             ],
             [
              0.6666666666666666,
              "#ed7953"
             ],
             [
              0.7777777777777778,
              "#fb9f3a"
             ],
             [
              0.8888888888888888,
              "#fdca26"
             ],
             [
              1,
              "#f0f921"
             ]
            ],
            "type": "heatmapgl"
           }
          ],
          "histogram": [
           {
            "marker": {
             "pattern": {
              "fillmode": "overlay",
              "size": 10,
              "solidity": 0.2
             }
            },
            "type": "histogram"
           }
          ],
          "histogram2d": [
           {
            "colorbar": {
             "outlinewidth": 0,
             "ticks": ""
            },
            "colorscale": [
             [
              0,
              "#0d0887"
             ],
             [
              0.1111111111111111,
              "#46039f"
             ],
             [
              0.2222222222222222,
              "#7201a8"
             ],
             [
              0.3333333333333333,
              "#9c179e"
             ],
             [
              0.4444444444444444,
              "#bd3786"
             ],
             [
              0.5555555555555556,
              "#d8576b"
             ],
             [
              0.6666666666666666,
              "#ed7953"
             ],
             [
              0.7777777777777778,
              "#fb9f3a"
             ],
             [
              0.8888888888888888,
              "#fdca26"
             ],
             [
              1,
              "#f0f921"
             ]
            ],
            "type": "histogram2d"
           }
          ],
          "histogram2dcontour": [
           {
            "colorbar": {
             "outlinewidth": 0,
             "ticks": ""
            },
            "colorscale": [
             [
              0,
              "#0d0887"
             ],
             [
              0.1111111111111111,
              "#46039f"
             ],
             [
              0.2222222222222222,
              "#7201a8"
             ],
             [
              0.3333333333333333,
              "#9c179e"
             ],
             [
              0.4444444444444444,
              "#bd3786"
             ],
             [
              0.5555555555555556,
              "#d8576b"
             ],
             [
              0.6666666666666666,
              "#ed7953"
             ],
             [
              0.7777777777777778,
              "#fb9f3a"
             ],
             [
              0.8888888888888888,
              "#fdca26"
             ],
             [
              1,
              "#f0f921"
             ]
            ],
            "type": "histogram2dcontour"
           }
          ],
          "mesh3d": [
           {
            "colorbar": {
             "outlinewidth": 0,
             "ticks": ""
            },
            "type": "mesh3d"
           }
          ],
          "parcoords": [
           {
            "line": {
             "colorbar": {
              "outlinewidth": 0,
              "ticks": ""
             }
            },
            "type": "parcoords"
           }
          ],
          "pie": [
           {
            "automargin": true,
            "type": "pie"
           }
          ],
          "scatter": [
           {
            "fillpattern": {
             "fillmode": "overlay",
             "size": 10,
             "solidity": 0.2
            },
            "type": "scatter"
           }
          ],
          "scatter3d": [
           {
            "line": {
             "colorbar": {
              "outlinewidth": 0,
              "ticks": ""
             }
            },
            "marker": {
             "colorbar": {
              "outlinewidth": 0,
              "ticks": ""
             }
            },
            "type": "scatter3d"
           }
          ],
          "scattercarpet": [
           {
            "marker": {
             "colorbar": {
              "outlinewidth": 0,
              "ticks": ""
             }
            },
            "type": "scattercarpet"
           }
          ],
          "scattergeo": [
           {
            "marker": {
             "colorbar": {
              "outlinewidth": 0,
              "ticks": ""
             }
            },
            "type": "scattergeo"
           }
          ],
          "scattergl": [
           {
            "marker": {
             "colorbar": {
              "outlinewidth": 0,
              "ticks": ""
             }
            },
            "type": "scattergl"
           }
          ],
          "scattermapbox": [
           {
            "marker": {
             "colorbar": {
              "outlinewidth": 0,
              "ticks": ""
             }
            },
            "type": "scattermapbox"
           }
          ],
          "scatterpolar": [
           {
            "marker": {
             "colorbar": {
              "outlinewidth": 0,
              "ticks": ""
             }
            },
            "type": "scatterpolar"
           }
          ],
          "scatterpolargl": [
           {
            "marker": {
             "colorbar": {
              "outlinewidth": 0,
              "ticks": ""
             }
            },
            "type": "scatterpolargl"
           }
          ],
          "scatterternary": [
           {
            "marker": {
             "colorbar": {
              "outlinewidth": 0,
              "ticks": ""
             }
            },
            "type": "scatterternary"
           }
          ],
          "surface": [
           {
            "colorbar": {
             "outlinewidth": 0,
             "ticks": ""
            },
            "colorscale": [
             [
              0,
              "#0d0887"
             ],
             [
              0.1111111111111111,
              "#46039f"
             ],
             [
              0.2222222222222222,
              "#7201a8"
             ],
             [
              0.3333333333333333,
              "#9c179e"
             ],
             [
              0.4444444444444444,
              "#bd3786"
             ],
             [
              0.5555555555555556,
              "#d8576b"
             ],
             [
              0.6666666666666666,
              "#ed7953"
             ],
             [
              0.7777777777777778,
              "#fb9f3a"
             ],
             [
              0.8888888888888888,
              "#fdca26"
             ],
             [
              1,
              "#f0f921"
             ]
            ],
            "type": "surface"
           }
          ],
          "table": [
           {
            "cells": {
             "fill": {
              "color": "#EBF0F8"
             },
             "line": {
              "color": "white"
             }
            },
            "header": {
             "fill": {
              "color": "#C8D4E3"
             },
             "line": {
              "color": "white"
             }
            },
            "type": "table"
           }
          ]
         },
         "layout": {
          "annotationdefaults": {
           "arrowcolor": "#2a3f5f",
           "arrowhead": 0,
           "arrowwidth": 1
          },
          "autotypenumbers": "strict",
          "coloraxis": {
           "colorbar": {
            "outlinewidth": 0,
            "ticks": ""
           }
          },
          "colorscale": {
           "diverging": [
            [
             0,
             "#8e0152"
            ],
            [
             0.1,
             "#c51b7d"
            ],
            [
             0.2,
             "#de77ae"
            ],
            [
             0.3,
             "#f1b6da"
            ],
            [
             0.4,
             "#fde0ef"
            ],
            [
             0.5,
             "#f7f7f7"
            ],
            [
             0.6,
             "#e6f5d0"
            ],
            [
             0.7,
             "#b8e186"
            ],
            [
             0.8,
             "#7fbc41"
            ],
            [
             0.9,
             "#4d9221"
            ],
            [
             1,
             "#276419"
            ]
           ],
           "sequential": [
            [
             0,
             "#0d0887"
            ],
            [
             0.1111111111111111,
             "#46039f"
            ],
            [
             0.2222222222222222,
             "#7201a8"
            ],
            [
             0.3333333333333333,
             "#9c179e"
            ],
            [
             0.4444444444444444,
             "#bd3786"
            ],
            [
             0.5555555555555556,
             "#d8576b"
            ],
            [
             0.6666666666666666,
             "#ed7953"
            ],
            [
             0.7777777777777778,
             "#fb9f3a"
            ],
            [
             0.8888888888888888,
             "#fdca26"
            ],
            [
             1,
             "#f0f921"
            ]
           ],
           "sequentialminus": [
            [
             0,
             "#0d0887"
            ],
            [
             0.1111111111111111,
             "#46039f"
            ],
            [
             0.2222222222222222,
             "#7201a8"
            ],
            [
             0.3333333333333333,
             "#9c179e"
            ],
            [
             0.4444444444444444,
             "#bd3786"
            ],
            [
             0.5555555555555556,
             "#d8576b"
            ],
            [
             0.6666666666666666,
             "#ed7953"
            ],
            [
             0.7777777777777778,
             "#fb9f3a"
            ],
            [
             0.8888888888888888,
             "#fdca26"
            ],
            [
             1,
             "#f0f921"
            ]
           ]
          },
          "colorway": [
           "#636efa",
           "#EF553B",
           "#00cc96",
           "#ab63fa",
           "#FFA15A",
           "#19d3f3",
           "#FF6692",
           "#B6E880",
           "#FF97FF",
           "#FECB52"
          ],
          "font": {
           "color": "#2a3f5f"
          },
          "geo": {
           "bgcolor": "white",
           "lakecolor": "white",
           "landcolor": "#E5ECF6",
           "showlakes": true,
           "showland": true,
           "subunitcolor": "white"
          },
          "hoverlabel": {
           "align": "left"
          },
          "hovermode": "closest",
          "mapbox": {
           "style": "light"
          },
          "paper_bgcolor": "white",
          "plot_bgcolor": "#E5ECF6",
          "polar": {
           "angularaxis": {
            "gridcolor": "white",
            "linecolor": "white",
            "ticks": ""
           },
           "bgcolor": "#E5ECF6",
           "radialaxis": {
            "gridcolor": "white",
            "linecolor": "white",
            "ticks": ""
           }
          },
          "scene": {
           "xaxis": {
            "backgroundcolor": "#E5ECF6",
            "gridcolor": "white",
            "gridwidth": 2,
            "linecolor": "white",
            "showbackground": true,
            "ticks": "",
            "zerolinecolor": "white"
           },
           "yaxis": {
            "backgroundcolor": "#E5ECF6",
            "gridcolor": "white",
            "gridwidth": 2,
            "linecolor": "white",
            "showbackground": true,
            "ticks": "",
            "zerolinecolor": "white"
           },
           "zaxis": {
            "backgroundcolor": "#E5ECF6",
            "gridcolor": "white",
            "gridwidth": 2,
            "linecolor": "white",
            "showbackground": true,
            "ticks": "",
            "zerolinecolor": "white"
           }
          },
          "shapedefaults": {
           "line": {
            "color": "#2a3f5f"
           }
          },
          "ternary": {
           "aaxis": {
            "gridcolor": "white",
            "linecolor": "white",
            "ticks": ""
           },
           "baxis": {
            "gridcolor": "white",
            "linecolor": "white",
            "ticks": ""
           },
           "bgcolor": "#E5ECF6",
           "caxis": {
            "gridcolor": "white",
            "linecolor": "white",
            "ticks": ""
           }
          },
          "title": {
           "x": 0.05
          },
          "xaxis": {
           "automargin": true,
           "gridcolor": "white",
           "linecolor": "white",
           "ticks": "",
           "title": {
            "standoff": 15
           },
           "zerolinecolor": "white",
           "zerolinewidth": 2
          },
          "yaxis": {
           "automargin": true,
           "gridcolor": "white",
           "linecolor": "white",
           "ticks": "",
           "title": {
            "standoff": 15
           },
           "zerolinecolor": "white",
           "zerolinewidth": 2
          }
         }
        }
       }
      }
     },
     "metadata": {},
     "output_type": "display_data"
    }
   ],
   "source": [
    "change_per48_df = change_df.copy()\n",
    "\n",
    "for col in change_per48_df.columns[2:17]:\n",
    "    change_per48_df[col] = change_per48_df[col]/change_df['MIN']*48*5\n",
    "    \n",
    "change_per48_df.drop(columns='MIN', inplace=True)\n",
    "change_per48_df.drop(columns='GP', inplace=True)\n",
    "\n",
    "\n",
    "fig = go.Figure()\n",
    "for col in change_per48_df.columns[1:]:\n",
    "    fig.add_trace(go.Scatter(x=change_per48_df['season_start_year'],\n",
    "                             y=change_per48_df[col], name=col))\n",
    "    \n",
    "fig.show()"
   ]
  },
  {
   "cell_type": "code",
   "execution_count": 21,
   "metadata": {},
   "outputs": [
    {
     "data": {
      "application/vnd.plotly.v1+json": {
       "config": {
        "plotlyServerURL": "https://plot.ly"
       },
       "data": [
        {
         "name": "POSS_est",
         "type": "scatter",
         "x": [
          2014,
          2015,
          2016,
          2017,
          2018,
          2019,
          2020,
          2021,
          2022
         ],
         "y": [
          4201.076,
          4202.76,
          4313.692,
          2602.492,
          4313.064,
          4459.564,
          4057.904,
          4051.8440000000005,
          4279.652
         ]
        },
        {
         "name": "PTS",
         "type": "scatter",
         "x": [
          2014,
          2015,
          2016,
          2017,
          2018,
          2019,
          2020,
          2021,
          2022
         ],
         "y": [
          104.14236733636812,
          104.27671339786235,
          107.62938104992197,
          107.96574975062363,
          108.025292460302,
          108.37606546290175,
          111.5304847034331,
          109.68092552427981,
          112.54419751886368
         ]
        },
        {
         "name": "AST",
         "type": "scatter",
         "x": [
          2014,
          2015,
          2016,
          2017,
          2018,
          2019,
          2020,
          2021,
          2022
         ],
         "y": [
          22.52518164394074,
          21.80947758139889,
          22.773994990833838,
          23.25079193327011,
          23.229425763216124,
          23.27806036643941,
          23.765963906489652,
          24.124818230909185,
          24.54405171261589
         ]
        },
        {
         "name": "REB",
         "type": "scatter",
         "x": [
          2014,
          2015,
          2016,
          2017,
          2018,
          2019,
          2020,
          2021,
          2022
         ],
         "y": [
          45.190803498913134,
          44.9228602156678,
          43.18574436932447,
          43.539038736718496,
          43.954831182658076,
          42.00859097436431,
          43.00988884902156,
          42.57320864278091,
          42.314188162962786
         ]
        },
        {
         "name": "STL",
         "type": "scatter",
         "x": [
          2014,
          2015,
          2016,
          2017,
          2018,
          2019,
          2020,
          2021,
          2022
         ],
         "y": [
          7.871792845451974,
          7.88529442556796,
          7.687150589332757,
          7.800216100568225,
          7.259340459589748,
          7.099348725570481,
          7.109581695377712,
          7.307783813986915,
          7.0122523980921825
         ]
        },
        {
         "name": "BLK",
         "type": "scatter",
         "x": [
          2014,
          2015,
          2016,
          2017,
          2018,
          2019,
          2020,
          2021,
          2022
         ],
         "y": [
          5.101074105776711,
          5.13710038165396,
          4.708263825975521,
          4.856883325674008,
          4.736771816972806,
          4.379351882829801,
          4.504788679081615,
          4.51152611008716,
          4.586821545303216
         ]
        },
        {
         "name": "OREB",
         "type": "scatter",
         "x": [
          2014,
          2015,
          2016,
          2017,
          2018,
          2019,
          2020,
          2021,
          2022
         ],
         "y": [
          11.318528872127045,
          10.83335712722116,
          10.047078001860124,
          9.736821477261024,
          10.171423377904896,
          8.924639269668514,
          9.724232017317314,
          9.47963445779255,
          10.185407598561753
         ]
        },
        {
         "name": "DREB",
         "type": "scatter",
         "x": [
          2014,
          2015,
          2016,
          2017,
          2018,
          2019,
          2020,
          2021,
          2022
         ],
         "y": [
          33.96510798662057,
          34.122814531403165,
          33.201257762492084,
          33.82527208537048,
          33.82514147714942,
          33.106375421453755,
          33.2807281788825,
          33.061490027750324,
          32.15448358885255
         ]
        },
        {
         "name": "FGM",
         "type": "scatter",
         "x": [
          2014,
          2015,
          2016,
          2017,
          2018,
          2019,
          2020,
          2021,
          2022
         ],
         "y": [
          38.88289571528818,
          38.64603260714388,
          39.44880626618683,
          40.21530133425962,
          39.440638951798526,
          38.96793498198478,
          40.75995883589164,
          39.8682673864048,
          41.15054214688484
         ]
        },
        {
         "name": "FGA",
         "type": "scatter",
         "x": [
          2014,
          2015,
          2016,
          2017,
          2018,
          2019,
          2020,
          2021,
          2022
         ],
         "y": [
          86.85631966667587,
          86.56216391133445,
          86.08403196148451,
          86.49017941265525,
          86.84081664450144,
          85.39624052934323,
          87.37762155043589,
          86.5655242403212,
          87.35990683354628
         ]
        },
        {
         "name": "FG3M",
         "type": "scatter",
         "x": [
          2014,
          2015,
          2016,
          2017,
          2018,
          2019,
          2020,
          2021,
          2022
         ],
         "y": [
          8.224083544311029,
          8.853705660090036,
          10.04475980204428,
          10.566795210129367,
          11.050149035581201,
          12.449647544019998,
          12.533564125716135,
          12.50788529864427,
          12.286045687826954
         ]
        },
        {
         "name": "FG3A",
         "type": "scatter",
         "x": [
          2014,
          2015,
          2016,
          2017,
          2018,
          2019,
          2020,
          2021,
          2022
         ],
         "y": [
          23.505882778602434,
          25.228659262008772,
          28.084990768928332,
          28.891539339986437,
          31.464870449406728,
          34.42488996682187,
          33.97566822674957,
          35.04330374022297,
          34.17801260476319
         ]
        },
        {
         "name": "FTM",
         "type": "scatter",
         "x": [
          2014,
          2015,
          2016,
          2017,
          2018,
          2019,
          2020,
          2021,
          2022
         ],
         "y": [
          18.247706063875064,
          18.16663335522371,
          18.71946351292582,
          16.937612104091002,
          18.175014328560852,
          18.064546220213455,
          17.49918184363159,
          17.493269731016294,
          17.94538434433454
         ]
        },
        {
         "name": "FTA",
         "type": "scatter",
         "x": [
          2014,
          2015,
          2016,
          2017,
          2018,
          2019,
          2020,
          2021,
          2022
         ],
         "y": [
          24.348524044792335,
          24.127002255660564,
          24.093050686048052,
          21.97124909509808,
          23.431138513131266,
          23.1098824907547,
          22.279975080731333,
          22.337977473960002,
          22.800919327085474
         ]
        },
        {
         "name": "TOV",
         "type": "scatter",
         "x": [
          2014,
          2015,
          2016,
          2017,
          2018,
          2019,
          2020,
          2021,
          2022
         ],
         "y": [
          13.74885862574255,
          13.655312223396052,
          13.362103738514477,
          13.579292462762613,
          13.020905787625686,
          13.360050444393218,
          12.543421431359638,
          13.085400128928951,
          12.793096261097864
         ]
        },
        {
         "name": "GP",
         "type": "scatter",
         "x": [
          2014,
          2015,
          2016,
          2017,
          2018,
          2019,
          2020,
          2021,
          2022
         ],
         "y": [
          20597,
          21320,
          21191,
          18517,
          20015,
          17617,
          16099,
          17328,
          18237
         ]
        },
        {
         "name": "FG%",
         "type": "scatter",
         "x": [
          2014,
          2015,
          2016,
          2017,
          2018,
          2019,
          2020,
          2021,
          2022
         ],
         "y": [
          0.4476691605689386,
          0.4464540956569544,
          0.4582592772122583,
          0.4649695677284641,
          0.4541716726738753,
          0.4563190925084683,
          0.46648052570719467,
          0.4605559515324305,
          0.4710460855377538
         ]
        },
        {
         "name": "3PT%",
         "type": "scatter",
         "x": [
          2014,
          2015,
          2016,
          2017,
          2018,
          2019,
          2020,
          2021,
          2022
         ],
         "y": [
          0.349873417721519,
          0.35093841365651235,
          0.35765579859678087,
          0.36574012501662456,
          0.3511900375801342,
          0.361646690984888,
          0.3688982374700805,
          0.35692654412282554,
          0.35947220892869347
         ]
        },
        {
         "name": "FT%",
         "type": "scatter",
         "x": [
          2014,
          2015,
          2016,
          2017,
          2018,
          2019,
          2020,
          2021,
          2022
         ],
         "y": [
          0.7494378727148304,
          0.7529585798816568,
          0.7769652650822669,
          0.770898915704792,
          0.7756778151593112,
          0.7816805744226665,
          0.7854219665966155,
          0.7831178875262401,
          0.7870465259274442
         ]
        },
        {
         "name": "FG3A%",
         "type": "scatter",
         "x": [
          2014,
          2015,
          2016,
          2017,
          2018,
          2019,
          2020,
          2021,
          2022
         ],
         "y": [
          0.27062950478226316,
          0.29145134689389773,
          0.3262508752087036,
          0.3340441601137323,
          0.36232812708583634,
          0.4031195021400625,
          0.38883718306681336,
          0.40481824661439775,
          0.39123224650279514
         ]
        },
        {
         "name": "PTS/FGA",
         "type": "scatter",
         "x": [
          2014,
          2015,
          2016,
          2017,
          2018,
          2019,
          2020,
          2021,
          2022
         ],
         "y": [
          1.199018882402916,
          1.2046454095656955,
          1.2502827597350137,
          1.2483006797281089,
          1.243946068615672,
          1.2690964472336739,
          1.2764193248159743,
          1.2670277975766215,
          1.2882820231631316
         ]
        },
        {
         "name": "FG3M/FGM",
         "type": "scatter",
         "x": [
          2014,
          2015,
          2016,
          2017,
          2018,
          2019,
          2020,
          2021,
          2022
         ],
         "y": [
          0.21150902969084787,
          0.22909740179780816,
          0.2546277252159605,
          0.26275558952799544,
          0.2801716536358827,
          0.3194844055702613,
          0.307496977025393,
          0.31373034542528166,
          0.2985633978763273
         ]
        },
        {
         "name": "FTA/FGA",
         "type": "scatter",
         "x": [
          2014,
          2015,
          2016,
          2017,
          2018,
          2019,
          2020,
          2021,
          2022
         ],
         "y": [
          0.2803310586752172,
          0.27872457394172623,
          0.2798782786664512,
          0.2540317206450753,
          0.2698171138699773,
          0.27061943649397363,
          0.25498491130101253,
          0.25804704205274415,
          0.26099981276914436
         ]
        },
        {
         "name": "TRU%",
         "type": "scatter",
         "x": [
          2014,
          2015,
          2016,
          2017,
          2018,
          2019,
          2020,
          2021,
          2022
         ],
         "y": [
          0.5290611163478567,
          0.5319019819644873,
          0.5517857747706687,
          0.5569463687881689,
          0.5513148039242368,
          0.5622714692397451,
          0.5692618953133186,
          0.5643412663995292,
          0.5730919838513352
         ]
        }
       ],
       "layout": {
        "template": {
         "data": {
          "bar": [
           {
            "error_x": {
             "color": "#2a3f5f"
            },
            "error_y": {
             "color": "#2a3f5f"
            },
            "marker": {
             "line": {
              "color": "#E5ECF6",
              "width": 0.5
             },
             "pattern": {
              "fillmode": "overlay",
              "size": 10,
              "solidity": 0.2
             }
            },
            "type": "bar"
           }
          ],
          "barpolar": [
           {
            "marker": {
             "line": {
              "color": "#E5ECF6",
              "width": 0.5
             },
             "pattern": {
              "fillmode": "overlay",
              "size": 10,
              "solidity": 0.2
             }
            },
            "type": "barpolar"
           }
          ],
          "carpet": [
           {
            "aaxis": {
             "endlinecolor": "#2a3f5f",
             "gridcolor": "white",
             "linecolor": "white",
             "minorgridcolor": "white",
             "startlinecolor": "#2a3f5f"
            },
            "baxis": {
             "endlinecolor": "#2a3f5f",
             "gridcolor": "white",
             "linecolor": "white",
             "minorgridcolor": "white",
             "startlinecolor": "#2a3f5f"
            },
            "type": "carpet"
           }
          ],
          "choropleth": [
           {
            "colorbar": {
             "outlinewidth": 0,
             "ticks": ""
            },
            "type": "choropleth"
           }
          ],
          "contour": [
           {
            "colorbar": {
             "outlinewidth": 0,
             "ticks": ""
            },
            "colorscale": [
             [
              0,
              "#0d0887"
             ],
             [
              0.1111111111111111,
              "#46039f"
             ],
             [
              0.2222222222222222,
              "#7201a8"
             ],
             [
              0.3333333333333333,
              "#9c179e"
             ],
             [
              0.4444444444444444,
              "#bd3786"
             ],
             [
              0.5555555555555556,
              "#d8576b"
             ],
             [
              0.6666666666666666,
              "#ed7953"
             ],
             [
              0.7777777777777778,
              "#fb9f3a"
             ],
             [
              0.8888888888888888,
              "#fdca26"
             ],
             [
              1,
              "#f0f921"
             ]
            ],
            "type": "contour"
           }
          ],
          "contourcarpet": [
           {
            "colorbar": {
             "outlinewidth": 0,
             "ticks": ""
            },
            "type": "contourcarpet"
           }
          ],
          "heatmap": [
           {
            "colorbar": {
             "outlinewidth": 0,
             "ticks": ""
            },
            "colorscale": [
             [
              0,
              "#0d0887"
             ],
             [
              0.1111111111111111,
              "#46039f"
             ],
             [
              0.2222222222222222,
              "#7201a8"
             ],
             [
              0.3333333333333333,
              "#9c179e"
             ],
             [
              0.4444444444444444,
              "#bd3786"
             ],
             [
              0.5555555555555556,
              "#d8576b"
             ],
             [
              0.6666666666666666,
              "#ed7953"
             ],
             [
              0.7777777777777778,
              "#fb9f3a"
             ],
             [
              0.8888888888888888,
              "#fdca26"
             ],
             [
              1,
              "#f0f921"
             ]
            ],
            "type": "heatmap"
           }
          ],
          "heatmapgl": [
           {
            "colorbar": {
             "outlinewidth": 0,
             "ticks": ""
            },
            "colorscale": [
             [
              0,
              "#0d0887"
             ],
             [
              0.1111111111111111,
              "#46039f"
             ],
             [
              0.2222222222222222,
              "#7201a8"
             ],
             [
              0.3333333333333333,
              "#9c179e"
             ],
             [
              0.4444444444444444,
              "#bd3786"
             ],
             [
              0.5555555555555556,
              "#d8576b"
             ],
             [
              0.6666666666666666,
              "#ed7953"
             ],
             [
              0.7777777777777778,
              "#fb9f3a"
             ],
             [
              0.8888888888888888,
              "#fdca26"
             ],
             [
              1,
              "#f0f921"
             ]
            ],
            "type": "heatmapgl"
           }
          ],
          "histogram": [
           {
            "marker": {
             "pattern": {
              "fillmode": "overlay",
              "size": 10,
              "solidity": 0.2
             }
            },
            "type": "histogram"
           }
          ],
          "histogram2d": [
           {
            "colorbar": {
             "outlinewidth": 0,
             "ticks": ""
            },
            "colorscale": [
             [
              0,
              "#0d0887"
             ],
             [
              0.1111111111111111,
              "#46039f"
             ],
             [
              0.2222222222222222,
              "#7201a8"
             ],
             [
              0.3333333333333333,
              "#9c179e"
             ],
             [
              0.4444444444444444,
              "#bd3786"
             ],
             [
              0.5555555555555556,
              "#d8576b"
             ],
             [
              0.6666666666666666,
              "#ed7953"
             ],
             [
              0.7777777777777778,
              "#fb9f3a"
             ],
             [
              0.8888888888888888,
              "#fdca26"
             ],
             [
              1,
              "#f0f921"
             ]
            ],
            "type": "histogram2d"
           }
          ],
          "histogram2dcontour": [
           {
            "colorbar": {
             "outlinewidth": 0,
             "ticks": ""
            },
            "colorscale": [
             [
              0,
              "#0d0887"
             ],
             [
              0.1111111111111111,
              "#46039f"
             ],
             [
              0.2222222222222222,
              "#7201a8"
             ],
             [
              0.3333333333333333,
              "#9c179e"
             ],
             [
              0.4444444444444444,
              "#bd3786"
             ],
             [
              0.5555555555555556,
              "#d8576b"
             ],
             [
              0.6666666666666666,
              "#ed7953"
             ],
             [
              0.7777777777777778,
              "#fb9f3a"
             ],
             [
              0.8888888888888888,
              "#fdca26"
             ],
             [
              1,
              "#f0f921"
             ]
            ],
            "type": "histogram2dcontour"
           }
          ],
          "mesh3d": [
           {
            "colorbar": {
             "outlinewidth": 0,
             "ticks": ""
            },
            "type": "mesh3d"
           }
          ],
          "parcoords": [
           {
            "line": {
             "colorbar": {
              "outlinewidth": 0,
              "ticks": ""
             }
            },
            "type": "parcoords"
           }
          ],
          "pie": [
           {
            "automargin": true,
            "type": "pie"
           }
          ],
          "scatter": [
           {
            "fillpattern": {
             "fillmode": "overlay",
             "size": 10,
             "solidity": 0.2
            },
            "type": "scatter"
           }
          ],
          "scatter3d": [
           {
            "line": {
             "colorbar": {
              "outlinewidth": 0,
              "ticks": ""
             }
            },
            "marker": {
             "colorbar": {
              "outlinewidth": 0,
              "ticks": ""
             }
            },
            "type": "scatter3d"
           }
          ],
          "scattercarpet": [
           {
            "marker": {
             "colorbar": {
              "outlinewidth": 0,
              "ticks": ""
             }
            },
            "type": "scattercarpet"
           }
          ],
          "scattergeo": [
           {
            "marker": {
             "colorbar": {
              "outlinewidth": 0,
              "ticks": ""
             }
            },
            "type": "scattergeo"
           }
          ],
          "scattergl": [
           {
            "marker": {
             "colorbar": {
              "outlinewidth": 0,
              "ticks": ""
             }
            },
            "type": "scattergl"
           }
          ],
          "scattermapbox": [
           {
            "marker": {
             "colorbar": {
              "outlinewidth": 0,
              "ticks": ""
             }
            },
            "type": "scattermapbox"
           }
          ],
          "scatterpolar": [
           {
            "marker": {
             "colorbar": {
              "outlinewidth": 0,
              "ticks": ""
             }
            },
            "type": "scatterpolar"
           }
          ],
          "scatterpolargl": [
           {
            "marker": {
             "colorbar": {
              "outlinewidth": 0,
              "ticks": ""
             }
            },
            "type": "scatterpolargl"
           }
          ],
          "scatterternary": [
           {
            "marker": {
             "colorbar": {
              "outlinewidth": 0,
              "ticks": ""
             }
            },
            "type": "scatterternary"
           }
          ],
          "surface": [
           {
            "colorbar": {
             "outlinewidth": 0,
             "ticks": ""
            },
            "colorscale": [
             [
              0,
              "#0d0887"
             ],
             [
              0.1111111111111111,
              "#46039f"
             ],
             [
              0.2222222222222222,
              "#7201a8"
             ],
             [
              0.3333333333333333,
              "#9c179e"
             ],
             [
              0.4444444444444444,
              "#bd3786"
             ],
             [
              0.5555555555555556,
              "#d8576b"
             ],
             [
              0.6666666666666666,
              "#ed7953"
             ],
             [
              0.7777777777777778,
              "#fb9f3a"
             ],
             [
              0.8888888888888888,
              "#fdca26"
             ],
             [
              1,
              "#f0f921"
             ]
            ],
            "type": "surface"
           }
          ],
          "table": [
           {
            "cells": {
             "fill": {
              "color": "#EBF0F8"
             },
             "line": {
              "color": "white"
             }
            },
            "header": {
             "fill": {
              "color": "#C8D4E3"
             },
             "line": {
              "color": "white"
             }
            },
            "type": "table"
           }
          ]
         },
         "layout": {
          "annotationdefaults": {
           "arrowcolor": "#2a3f5f",
           "arrowhead": 0,
           "arrowwidth": 1
          },
          "autotypenumbers": "strict",
          "coloraxis": {
           "colorbar": {
            "outlinewidth": 0,
            "ticks": ""
           }
          },
          "colorscale": {
           "diverging": [
            [
             0,
             "#8e0152"
            ],
            [
             0.1,
             "#c51b7d"
            ],
            [
             0.2,
             "#de77ae"
            ],
            [
             0.3,
             "#f1b6da"
            ],
            [
             0.4,
             "#fde0ef"
            ],
            [
             0.5,
             "#f7f7f7"
            ],
            [
             0.6,
             "#e6f5d0"
            ],
            [
             0.7,
             "#b8e186"
            ],
            [
             0.8,
             "#7fbc41"
            ],
            [
             0.9,
             "#4d9221"
            ],
            [
             1,
             "#276419"
            ]
           ],
           "sequential": [
            [
             0,
             "#0d0887"
            ],
            [
             0.1111111111111111,
             "#46039f"
            ],
            [
             0.2222222222222222,
             "#7201a8"
            ],
            [
             0.3333333333333333,
             "#9c179e"
            ],
            [
             0.4444444444444444,
             "#bd3786"
            ],
            [
             0.5555555555555556,
             "#d8576b"
            ],
            [
             0.6666666666666666,
             "#ed7953"
            ],
            [
             0.7777777777777778,
             "#fb9f3a"
            ],
            [
             0.8888888888888888,
             "#fdca26"
            ],
            [
             1,
             "#f0f921"
            ]
           ],
           "sequentialminus": [
            [
             0,
             "#0d0887"
            ],
            [
             0.1111111111111111,
             "#46039f"
            ],
            [
             0.2222222222222222,
             "#7201a8"
            ],
            [
             0.3333333333333333,
             "#9c179e"
            ],
            [
             0.4444444444444444,
             "#bd3786"
            ],
            [
             0.5555555555555556,
             "#d8576b"
            ],
            [
             0.6666666666666666,
             "#ed7953"
            ],
            [
             0.7777777777777778,
             "#fb9f3a"
            ],
            [
             0.8888888888888888,
             "#fdca26"
            ],
            [
             1,
             "#f0f921"
            ]
           ]
          },
          "colorway": [
           "#636efa",
           "#EF553B",
           "#00cc96",
           "#ab63fa",
           "#FFA15A",
           "#19d3f3",
           "#FF6692",
           "#B6E880",
           "#FF97FF",
           "#FECB52"
          ],
          "font": {
           "color": "#2a3f5f"
          },
          "geo": {
           "bgcolor": "white",
           "lakecolor": "white",
           "landcolor": "#E5ECF6",
           "showlakes": true,
           "showland": true,
           "subunitcolor": "white"
          },
          "hoverlabel": {
           "align": "left"
          },
          "hovermode": "closest",
          "mapbox": {
           "style": "light"
          },
          "paper_bgcolor": "white",
          "plot_bgcolor": "#E5ECF6",
          "polar": {
           "angularaxis": {
            "gridcolor": "white",
            "linecolor": "white",
            "ticks": ""
           },
           "bgcolor": "#E5ECF6",
           "radialaxis": {
            "gridcolor": "white",
            "linecolor": "white",
            "ticks": ""
           }
          },
          "scene": {
           "xaxis": {
            "backgroundcolor": "#E5ECF6",
            "gridcolor": "white",
            "gridwidth": 2,
            "linecolor": "white",
            "showbackground": true,
            "ticks": "",
            "zerolinecolor": "white"
           },
           "yaxis": {
            "backgroundcolor": "#E5ECF6",
            "gridcolor": "white",
            "gridwidth": 2,
            "linecolor": "white",
            "showbackground": true,
            "ticks": "",
            "zerolinecolor": "white"
           },
           "zaxis": {
            "backgroundcolor": "#E5ECF6",
            "gridcolor": "white",
            "gridwidth": 2,
            "linecolor": "white",
            "showbackground": true,
            "ticks": "",
            "zerolinecolor": "white"
           }
          },
          "shapedefaults": {
           "line": {
            "color": "#2a3f5f"
           }
          },
          "ternary": {
           "aaxis": {
            "gridcolor": "white",
            "linecolor": "white",
            "ticks": ""
           },
           "baxis": {
            "gridcolor": "white",
            "linecolor": "white",
            "ticks": ""
           },
           "bgcolor": "#E5ECF6",
           "caxis": {
            "gridcolor": "white",
            "linecolor": "white",
            "ticks": ""
           }
          },
          "title": {
           "x": 0.05
          },
          "xaxis": {
           "automargin": true,
           "gridcolor": "white",
           "linecolor": "white",
           "ticks": "",
           "title": {
            "standoff": 15
           },
           "zerolinecolor": "white",
           "zerolinewidth": 2
          },
          "yaxis": {
           "automargin": true,
           "gridcolor": "white",
           "linecolor": "white",
           "ticks": "",
           "title": {
            "standoff": 15
           },
           "zerolinecolor": "white",
           "zerolinewidth": 2
          }
         }
        }
       }
      }
     },
     "metadata": {},
     "output_type": "display_data"
    }
   ],
   "source": [
    "change_per100_df = change_df.copy()\n",
    "\n",
    "for col in change_per100_df.columns[3:17]:\n",
    "    change_per100_df[col] = change_per100_df[col]/change_per100_df['POSS_est']*100\n",
    "    \n",
    "change_per100_df.drop(columns='MIN', inplace=True)\n",
    "\n",
    "change_per100_df\n",
    "\n",
    "fig = go.Figure()\n",
    "for col in change_per100_df.columns[1:]:\n",
    "   fig.add_trace(go.Scatter(x=change_per100_df['season_start_year'],\n",
    "                            y=change_per100_df[col], name=col))\n",
    "    \n",
    "fig.show()"
   ]
  },
  {
   "attachments": {},
   "cell_type": "markdown",
   "metadata": {},
   "source": [
    "# Compare Regular Season (RS) to Playoffs"
   ]
  },
  {
   "cell_type": "code",
   "execution_count": 22,
   "metadata": {},
   "outputs": [
    {
     "data": {
      "text/html": [
       "<div>\n",
       "<style scoped>\n",
       "    .dataframe tbody tr th:only-of-type {\n",
       "        vertical-align: middle;\n",
       "    }\n",
       "\n",
       "    .dataframe tbody tr th {\n",
       "        vertical-align: top;\n",
       "    }\n",
       "\n",
       "    .dataframe thead th {\n",
       "        text-align: right;\n",
       "    }\n",
       "</style>\n",
       "<table border=\"1\" class=\"dataframe\">\n",
       "  <thead>\n",
       "    <tr style=\"text-align: right;\">\n",
       "      <th></th>\n",
       "      <th>season_start_year</th>\n",
       "      <th>PTS</th>\n",
       "      <th>AST</th>\n",
       "      <th>REB</th>\n",
       "      <th>STL</th>\n",
       "      <th>BLK</th>\n",
       "      <th>OREB</th>\n",
       "      <th>DREB</th>\n",
       "      <th>FGM</th>\n",
       "      <th>FGA</th>\n",
       "      <th>FG3M</th>\n",
       "      <th>FG3A</th>\n",
       "      <th>FTM</th>\n",
       "      <th>FTA</th>\n",
       "      <th>TOV</th>\n",
       "      <th>GP</th>\n",
       "      <th>POSS_per_48</th>\n",
       "      <th>FG%</th>\n",
       "      <th>3PT%</th>\n",
       "      <th>FT%</th>\n",
       "      <th>FG3A%</th>\n",
       "      <th>PTS/FGA</th>\n",
       "      <th>FG3M/FGM</th>\n",
       "      <th>FTA/FGA</th>\n",
       "      <th>TRU%</th>\n",
       "    </tr>\n",
       "  </thead>\n",
       "  <tbody>\n",
       "    <tr>\n",
       "      <th>0</th>\n",
       "      <td>2014</td>\n",
       "      <td>102.827437</td>\n",
       "      <td>22.032061</td>\n",
       "      <td>45.469143</td>\n",
       "      <td>7.727613</td>\n",
       "      <td>5.252101</td>\n",
       "      <td>11.206712</td>\n",
       "      <td>34.369480</td>\n",
       "      <td>37.969009</td>\n",
       "      <td>87.111278</td>\n",
       "      <td>8.584007</td>\n",
       "      <td>25.297061</td>\n",
       "      <td>18.506129</td>\n",
       "      <td>24.989295</td>\n",
       "      <td>13.100145</td>\n",
       "      <td>92.932077</td>\n",
       "      <td>96.283444</td>\n",
       "      <td>0.435868</td>\n",
       "      <td>0.339328</td>\n",
       "      <td>0.740562</td>\n",
       "      <td>0.290399</td>\n",
       "      <td>1.180415</td>\n",
       "      <td>0.226079</td>\n",
       "      <td>0.286866</td>\n",
       "      <td>0.519429</td>\n",
       "    </tr>\n",
       "    <tr>\n",
       "      <th>1</th>\n",
       "      <td>2015</td>\n",
       "      <td>102.135313</td>\n",
       "      <td>20.497032</td>\n",
       "      <td>44.643470</td>\n",
       "      <td>7.518322</td>\n",
       "      <td>5.254594</td>\n",
       "      <td>10.865897</td>\n",
       "      <td>33.805012</td>\n",
       "      <td>37.523015</td>\n",
       "      <td>86.961473</td>\n",
       "      <td>8.945157</td>\n",
       "      <td>26.211232</td>\n",
       "      <td>18.295042</td>\n",
       "      <td>24.784397</td>\n",
       "      <td>12.999289</td>\n",
       "      <td>108.384576</td>\n",
       "      <td>94.458619</td>\n",
       "      <td>0.431490</td>\n",
       "      <td>0.341272</td>\n",
       "      <td>0.738168</td>\n",
       "      <td>0.301412</td>\n",
       "      <td>1.174489</td>\n",
       "      <td>0.238391</td>\n",
       "      <td>0.285004</td>\n",
       "      <td>0.517224</td>\n",
       "    </tr>\n",
       "    <tr>\n",
       "      <th>2</th>\n",
       "      <td>2016</td>\n",
       "      <td>107.733544</td>\n",
       "      <td>21.849548</td>\n",
       "      <td>42.809174</td>\n",
       "      <td>7.624097</td>\n",
       "      <td>4.721893</td>\n",
       "      <td>10.134471</td>\n",
       "      <td>32.794245</td>\n",
       "      <td>39.116667</td>\n",
       "      <td>85.850791</td>\n",
       "      <td>10.254013</td>\n",
       "      <td>29.068532</td>\n",
       "      <td>19.325892</td>\n",
       "      <td>24.957629</td>\n",
       "      <td>13.302323</td>\n",
       "      <td>98.090522</td>\n",
       "      <td>96.851092</td>\n",
       "      <td>0.455635</td>\n",
       "      <td>0.352753</td>\n",
       "      <td>0.774348</td>\n",
       "      <td>0.338594</td>\n",
       "      <td>1.254893</td>\n",
       "      <td>0.262139</td>\n",
       "      <td>0.290709</td>\n",
       "      <td>0.551317</td>\n",
       "    </tr>\n",
       "    <tr>\n",
       "      <th>3</th>\n",
       "      <td>2018</td>\n",
       "      <td>104.768130</td>\n",
       "      <td>22.463283</td>\n",
       "      <td>44.206756</td>\n",
       "      <td>7.139744</td>\n",
       "      <td>4.662558</td>\n",
       "      <td>10.258924</td>\n",
       "      <td>34.012679</td>\n",
       "      <td>37.559855</td>\n",
       "      <td>86.779346</td>\n",
       "      <td>10.965766</td>\n",
       "      <td>32.482271</td>\n",
       "      <td>18.864229</td>\n",
       "      <td>24.240113</td>\n",
       "      <td>12.813928</td>\n",
       "      <td>96.428701</td>\n",
       "      <td>99.163303</td>\n",
       "      <td>0.432820</td>\n",
       "      <td>0.337592</td>\n",
       "      <td>0.778224</td>\n",
       "      <td>0.374309</td>\n",
       "      <td>1.207293</td>\n",
       "      <td>0.291954</td>\n",
       "      <td>0.279330</td>\n",
       "      <td>0.532936</td>\n",
       "    </tr>\n",
       "    <tr>\n",
       "      <th>4</th>\n",
       "      <td>2019</td>\n",
       "      <td>107.549375</td>\n",
       "      <td>22.237605</td>\n",
       "      <td>42.376964</td>\n",
       "      <td>6.827224</td>\n",
       "      <td>4.145779</td>\n",
       "      <td>8.564140</td>\n",
       "      <td>33.844519</td>\n",
       "      <td>37.888873</td>\n",
       "      <td>84.551077</td>\n",
       "      <td>13.052232</td>\n",
       "      <td>36.342129</td>\n",
       "      <td>18.858858</td>\n",
       "      <td>23.974522</td>\n",
       "      <td>13.464274</td>\n",
       "      <td>92.107298</td>\n",
       "      <td>100.659875</td>\n",
       "      <td>0.448118</td>\n",
       "      <td>0.359149</td>\n",
       "      <td>0.786621</td>\n",
       "      <td>0.429825</td>\n",
       "      <td>1.272005</td>\n",
       "      <td>0.344487</td>\n",
       "      <td>0.283551</td>\n",
       "      <td>0.560509</td>\n",
       "    </tr>\n",
       "    <tr>\n",
       "      <th>5</th>\n",
       "      <td>2020</td>\n",
       "      <td>111.508464</td>\n",
       "      <td>21.918484</td>\n",
       "      <td>43.319835</td>\n",
       "      <td>6.484052</td>\n",
       "      <td>4.389001</td>\n",
       "      <td>10.110613</td>\n",
       "      <td>33.222481</td>\n",
       "      <td>40.376155</td>\n",
       "      <td>88.144659</td>\n",
       "      <td>12.643239</td>\n",
       "      <td>34.654542</td>\n",
       "      <td>18.232254</td>\n",
       "      <td>23.131758</td>\n",
       "      <td>11.787981</td>\n",
       "      <td>96.133701</td>\n",
       "      <td>98.784511</td>\n",
       "      <td>0.458067</td>\n",
       "      <td>0.364836</td>\n",
       "      <td>0.788191</td>\n",
       "      <td>0.393155</td>\n",
       "      <td>1.265062</td>\n",
       "      <td>0.313136</td>\n",
       "      <td>0.262429</td>\n",
       "      <td>0.562423</td>\n",
       "    </tr>\n",
       "    <tr>\n",
       "      <th>6</th>\n",
       "      <td>2021</td>\n",
       "      <td>108.491402</td>\n",
       "      <td>22.609163</td>\n",
       "      <td>41.875818</td>\n",
       "      <td>7.017311</td>\n",
       "      <td>4.626082</td>\n",
       "      <td>9.473695</td>\n",
       "      <td>32.363029</td>\n",
       "      <td>38.898184</td>\n",
       "      <td>85.347960</td>\n",
       "      <td>11.930080</td>\n",
       "      <td>33.939806</td>\n",
       "      <td>18.888750</td>\n",
       "      <td>23.970925</td>\n",
       "      <td>13.578529</td>\n",
       "      <td>98.190225</td>\n",
       "      <td>98.622785</td>\n",
       "      <td>0.455760</td>\n",
       "      <td>0.351507</td>\n",
       "      <td>0.787986</td>\n",
       "      <td>0.397664</td>\n",
       "      <td>1.271166</td>\n",
       "      <td>0.306700</td>\n",
       "      <td>0.280861</td>\n",
       "      <td>0.560771</td>\n",
       "    </tr>\n",
       "    <tr>\n",
       "      <th>7</th>\n",
       "      <td>2022</td>\n",
       "      <td>110.792992</td>\n",
       "      <td>23.987570</td>\n",
       "      <td>43.364125</td>\n",
       "      <td>7.093375</td>\n",
       "      <td>4.720342</td>\n",
       "      <td>10.816915</td>\n",
       "      <td>32.611520</td>\n",
       "      <td>40.663112</td>\n",
       "      <td>88.702562</td>\n",
       "      <td>12.463247</td>\n",
       "      <td>35.447584</td>\n",
       "      <td>17.048538</td>\n",
       "      <td>21.627399</td>\n",
       "      <td>12.598298</td>\n",
       "      <td>69.197387</td>\n",
       "      <td>98.457493</td>\n",
       "      <td>0.458421</td>\n",
       "      <td>0.351597</td>\n",
       "      <td>0.788284</td>\n",
       "      <td>0.399623</td>\n",
       "      <td>1.249039</td>\n",
       "      <td>0.306500</td>\n",
       "      <td>0.243819</td>\n",
       "      <td>0.559699</td>\n",
       "    </tr>\n",
       "  </tbody>\n",
       "</table>\n",
       "</div>"
      ],
      "text/plain": [
       "   season_start_year         PTS        AST        REB       STL       BLK   \n",
       "0               2014  102.827437  22.032061  45.469143  7.727613  5.252101  \\\n",
       "1               2015  102.135313  20.497032  44.643470  7.518322  5.254594   \n",
       "2               2016  107.733544  21.849548  42.809174  7.624097  4.721893   \n",
       "3               2018  104.768130  22.463283  44.206756  7.139744  4.662558   \n",
       "4               2019  107.549375  22.237605  42.376964  6.827224  4.145779   \n",
       "5               2020  111.508464  21.918484  43.319835  6.484052  4.389001   \n",
       "6               2021  108.491402  22.609163  41.875818  7.017311  4.626082   \n",
       "7               2022  110.792992  23.987570  43.364125  7.093375  4.720342   \n",
       "\n",
       "        OREB       DREB        FGM        FGA       FG3M       FG3A   \n",
       "0  11.206712  34.369480  37.969009  87.111278   8.584007  25.297061  \\\n",
       "1  10.865897  33.805012  37.523015  86.961473   8.945157  26.211232   \n",
       "2  10.134471  32.794245  39.116667  85.850791  10.254013  29.068532   \n",
       "3  10.258924  34.012679  37.559855  86.779346  10.965766  32.482271   \n",
       "4   8.564140  33.844519  37.888873  84.551077  13.052232  36.342129   \n",
       "5  10.110613  33.222481  40.376155  88.144659  12.643239  34.654542   \n",
       "6   9.473695  32.363029  38.898184  85.347960  11.930080  33.939806   \n",
       "7  10.816915  32.611520  40.663112  88.702562  12.463247  35.447584   \n",
       "\n",
       "         FTM        FTA        TOV          GP  POSS_per_48       FG%   \n",
       "0  18.506129  24.989295  13.100145   92.932077    96.283444  0.435868  \\\n",
       "1  18.295042  24.784397  12.999289  108.384576    94.458619  0.431490   \n",
       "2  19.325892  24.957629  13.302323   98.090522    96.851092  0.455635   \n",
       "3  18.864229  24.240113  12.813928   96.428701    99.163303  0.432820   \n",
       "4  18.858858  23.974522  13.464274   92.107298   100.659875  0.448118   \n",
       "5  18.232254  23.131758  11.787981   96.133701    98.784511  0.458067   \n",
       "6  18.888750  23.970925  13.578529   98.190225    98.622785  0.455760   \n",
       "7  17.048538  21.627399  12.598298   69.197387    98.457493  0.458421   \n",
       "\n",
       "       3PT%       FT%     FG3A%   PTS/FGA  FG3M/FGM   FTA/FGA      TRU%  \n",
       "0  0.339328  0.740562  0.290399  1.180415  0.226079  0.286866  0.519429  \n",
       "1  0.341272  0.738168  0.301412  1.174489  0.238391  0.285004  0.517224  \n",
       "2  0.352753  0.774348  0.338594  1.254893  0.262139  0.290709  0.551317  \n",
       "3  0.337592  0.778224  0.374309  1.207293  0.291954  0.279330  0.532936  \n",
       "4  0.359149  0.786621  0.429825  1.272005  0.344487  0.283551  0.560509  \n",
       "5  0.364836  0.788191  0.393155  1.265062  0.313136  0.262429  0.562423  \n",
       "6  0.351507  0.787986  0.397664  1.271166  0.306700  0.280861  0.560771  \n",
       "7  0.351597  0.788284  0.399623  1.249039  0.306500  0.243819  0.559699  "
      ]
     },
     "execution_count": 22,
     "metadata": {},
     "output_type": "execute_result"
    }
   ],
   "source": [
    "rs_change_df = rs_df.groupby('season_start_year')[total_cols].sum().reset_index()\n",
    "playoffs_change_df = playoffs_df.groupby('season_start_year')[total_cols].sum().reset_index()\n",
    "\n",
    "for i in [rs_change_df,playoffs_change_df]:\n",
    "    i['POSS_est'] = i['FGA']-i['OREB']+i['TOV']+0.44*i['FTA']\n",
    "    i['POSS_per_48'] = (i['POSS_est']/i['MIN'])*48*5\n",
    "    \n",
    "    i['FG%'] = i['FGM']/i['FGA']\n",
    "    i['3PT%'] = i['FG3M']/i['FG3A']\n",
    "    i['FT%'] = i['FTM']/i['FTA'] \n",
    "    i['FG3A%'] = i['FG3A']/i['FGA']\n",
    "    i['PTS/FGA'] = i['PTS']/i['FGA']\n",
    "    i['FG3M/FGM'] = i['FG3M']/i['FGM']\n",
    "    i['FTA/FGA'] = i['FTA']/i['FGA']\n",
    "    i['TRU%'] = 0.5*i['PTS']/(i['FGA']+0.475*i['FTA'])\n",
    "    \n",
    "    for col in total_cols:\n",
    "        i[col] = 100*i[col]/i['POSS_est']\n",
    "    \n",
    "    i.drop(columns=['MIN','POSS_est'], inplace=True)\n",
    "\n",
    "rs_change_df\n",
    "playoffs_change_df"
   ]
  },
  {
   "cell_type": "code",
   "execution_count": 23,
   "metadata": {},
   "outputs": [
    {
     "data": {
      "text/html": [
       "<div>\n",
       "<style scoped>\n",
       "    .dataframe tbody tr th:only-of-type {\n",
       "        vertical-align: middle;\n",
       "    }\n",
       "\n",
       "    .dataframe tbody tr th {\n",
       "        vertical-align: top;\n",
       "    }\n",
       "\n",
       "    .dataframe thead th {\n",
       "        text-align: right;\n",
       "    }\n",
       "</style>\n",
       "<table border=\"1\" class=\"dataframe\">\n",
       "  <thead>\n",
       "    <tr style=\"text-align: right;\">\n",
       "      <th></th>\n",
       "      <th>season_start_year</th>\n",
       "      <th>PTS</th>\n",
       "      <th>AST</th>\n",
       "      <th>REB</th>\n",
       "      <th>STL</th>\n",
       "      <th>BLK</th>\n",
       "      <th>OREB</th>\n",
       "      <th>DREB</th>\n",
       "      <th>FGM</th>\n",
       "      <th>FGA</th>\n",
       "      <th>FG3M</th>\n",
       "      <th>FG3A</th>\n",
       "      <th>FTM</th>\n",
       "      <th>FTA</th>\n",
       "      <th>TOV</th>\n",
       "      <th>GP</th>\n",
       "      <th>POSS_per_48</th>\n",
       "      <th>FG%</th>\n",
       "      <th>3PT%</th>\n",
       "      <th>FT%</th>\n",
       "      <th>FG3A%</th>\n",
       "      <th>PTS/FGA</th>\n",
       "      <th>FG3M/FGM</th>\n",
       "      <th>FTA/FGA</th>\n",
       "      <th>TRU%</th>\n",
       "    </tr>\n",
       "  </thead>\n",
       "  <tbody>\n",
       "    <tr>\n",
       "      <th>0</th>\n",
       "      <td>2014</td>\n",
       "      <td>-1.946</td>\n",
       "      <td>-3.358</td>\n",
       "      <td>0.959</td>\n",
       "      <td>-2.815</td>\n",
       "      <td>4.672</td>\n",
       "      <td>-1.525</td>\n",
       "      <td>1.860</td>\n",
       "      <td>-3.602</td>\n",
       "      <td>0.456</td>\n",
       "      <td>6.962</td>\n",
       "      <td>12.348</td>\n",
       "      <td>2.216</td>\n",
       "      <td>4.145</td>\n",
       "      <td>-7.138</td>\n",
       "      <td>-86.906</td>\n",
       "      <td>-0.278</td>\n",
       "      <td>-4.040</td>\n",
       "      <td>-4.794</td>\n",
       "      <td>-1.853</td>\n",
       "      <td>11.838</td>\n",
       "      <td>-2.392</td>\n",
       "      <td>10.958</td>\n",
       "      <td>3.672</td>\n",
       "      <td>-2.806</td>\n",
       "    </tr>\n",
       "    <tr>\n",
       "      <th>1</th>\n",
       "      <td>2015</td>\n",
       "      <td>-3.110</td>\n",
       "      <td>-8.928</td>\n",
       "      <td>-0.949</td>\n",
       "      <td>-6.954</td>\n",
       "      <td>3.545</td>\n",
       "      <td>0.461</td>\n",
       "      <td>-1.419</td>\n",
       "      <td>-4.382</td>\n",
       "      <td>0.708</td>\n",
       "      <td>1.590</td>\n",
       "      <td>6.089</td>\n",
       "      <td>1.086</td>\n",
       "      <td>4.233</td>\n",
       "      <td>-7.172</td>\n",
       "      <td>-84.928</td>\n",
       "      <td>-3.528</td>\n",
       "      <td>-5.054</td>\n",
       "      <td>-4.241</td>\n",
       "      <td>-3.019</td>\n",
       "      <td>5.343</td>\n",
       "      <td>-3.791</td>\n",
       "      <td>6.245</td>\n",
       "      <td>3.500</td>\n",
       "      <td>-4.179</td>\n",
       "    </tr>\n",
       "    <tr>\n",
       "      <th>2</th>\n",
       "      <td>2016</td>\n",
       "      <td>0.149</td>\n",
       "      <td>-6.103</td>\n",
       "      <td>-1.333</td>\n",
       "      <td>-1.255</td>\n",
       "      <td>0.445</td>\n",
       "      <td>1.343</td>\n",
       "      <td>-1.871</td>\n",
       "      <td>-1.288</td>\n",
       "      <td>-0.416</td>\n",
       "      <td>3.236</td>\n",
       "      <td>5.483</td>\n",
       "      <td>5.065</td>\n",
       "      <td>5.621</td>\n",
       "      <td>-0.686</td>\n",
       "      <td>-86.029</td>\n",
       "      <td>-2.872</td>\n",
       "      <td>-0.876</td>\n",
       "      <td>-2.130</td>\n",
       "      <td>-0.527</td>\n",
       "      <td>5.923</td>\n",
       "      <td>0.567</td>\n",
       "      <td>4.583</td>\n",
       "      <td>6.062</td>\n",
       "      <td>-0.131</td>\n",
       "    </tr>\n",
       "    <tr>\n",
       "      <th>3</th>\n",
       "      <td>2017</td>\n",
       "      <td>-2.962</td>\n",
       "      <td>-3.387</td>\n",
       "      <td>1.534</td>\n",
       "      <td>-8.467</td>\n",
       "      <td>-4.001</td>\n",
       "      <td>5.362</td>\n",
       "      <td>0.554</td>\n",
       "      <td>-6.603</td>\n",
       "      <td>0.334</td>\n",
       "      <td>3.776</td>\n",
       "      <td>12.428</td>\n",
       "      <td>11.375</td>\n",
       "      <td>10.327</td>\n",
       "      <td>-5.636</td>\n",
       "      <td>-86.447</td>\n",
       "      <td>-0.081</td>\n",
       "      <td>-6.914</td>\n",
       "      <td>-7.696</td>\n",
       "      <td>0.950</td>\n",
       "      <td>12.054</td>\n",
       "      <td>-3.285</td>\n",
       "      <td>11.113</td>\n",
       "      <td>9.959</td>\n",
       "      <td>-4.311</td>\n",
       "    </tr>\n",
       "    <tr>\n",
       "      <th>4</th>\n",
       "      <td>2018</td>\n",
       "      <td>-2.084</td>\n",
       "      <td>-5.995</td>\n",
       "      <td>-3.281</td>\n",
       "      <td>-6.807</td>\n",
       "      <td>-13.233</td>\n",
       "      <td>-15.397</td>\n",
       "      <td>0.367</td>\n",
       "      <td>-6.418</td>\n",
       "      <td>-2.675</td>\n",
       "      <td>17.618</td>\n",
       "      <td>17.617</td>\n",
       "      <td>5.999</td>\n",
       "      <td>4.324</td>\n",
       "      <td>2.498</td>\n",
       "      <td>-86.225</td>\n",
       "      <td>-2.817</td>\n",
       "      <td>-3.846</td>\n",
       "      <td>0.001</td>\n",
       "      <td>1.607</td>\n",
       "      <td>20.850</td>\n",
       "      <td>0.608</td>\n",
       "      <td>25.685</td>\n",
       "      <td>7.191</td>\n",
       "      <td>-0.193</td>\n",
       "    </tr>\n",
       "    <tr>\n",
       "      <th>5</th>\n",
       "      <td>2019</td>\n",
       "      <td>2.463</td>\n",
       "      <td>-8.089</td>\n",
       "      <td>3.619</td>\n",
       "      <td>-10.544</td>\n",
       "      <td>-2.622</td>\n",
       "      <td>10.838</td>\n",
       "      <td>1.591</td>\n",
       "      <td>2.067</td>\n",
       "      <td>2.662</td>\n",
       "      <td>4.319</td>\n",
       "      <td>3.832</td>\n",
       "      <td>3.417</td>\n",
       "      <td>2.187</td>\n",
       "      <td>-11.389</td>\n",
       "      <td>-82.859</td>\n",
       "      <td>-5.835</td>\n",
       "      <td>-0.580</td>\n",
       "      <td>0.468</td>\n",
       "      <td>1.204</td>\n",
       "      <td>1.140</td>\n",
       "      <td>-0.195</td>\n",
       "      <td>2.206</td>\n",
       "      <td>-0.463</td>\n",
       "      <td>-0.143</td>\n",
       "    </tr>\n",
       "    <tr>\n",
       "      <th>6</th>\n",
       "      <td>2020</td>\n",
       "      <td>-2.736</td>\n",
       "      <td>-9.050</td>\n",
       "      <td>-2.220</td>\n",
       "      <td>-6.181</td>\n",
       "      <td>1.154</td>\n",
       "      <td>-0.231</td>\n",
       "      <td>-2.858</td>\n",
       "      <td>-5.096</td>\n",
       "      <td>-1.813</td>\n",
       "      <td>-4.320</td>\n",
       "      <td>1.089</td>\n",
       "      <td>10.684</td>\n",
       "      <td>10.079</td>\n",
       "      <td>4.528</td>\n",
       "      <td>-82.910</td>\n",
       "      <td>-3.329</td>\n",
       "      <td>-3.344</td>\n",
       "      <td>-5.351</td>\n",
       "      <td>0.549</td>\n",
       "      <td>2.956</td>\n",
       "      <td>-0.940</td>\n",
       "      <td>0.818</td>\n",
       "      <td>12.112</td>\n",
       "      <td>-2.200</td>\n",
       "    </tr>\n",
       "    <tr>\n",
       "      <th>7</th>\n",
       "      <td>2021</td>\n",
       "      <td>0.350</td>\n",
       "      <td>-4.237</td>\n",
       "      <td>0.850</td>\n",
       "      <td>-5.231</td>\n",
       "      <td>6.274</td>\n",
       "      <td>14.063</td>\n",
       "      <td>-2.615</td>\n",
       "      <td>0.503</td>\n",
       "      <td>1.597</td>\n",
       "      <td>-3.087</td>\n",
       "      <td>-0.752</td>\n",
       "      <td>2.441</td>\n",
       "      <td>1.336</td>\n",
       "      <td>-1.458</td>\n",
       "      <td>-88.991</td>\n",
       "      <td>-3.664</td>\n",
       "      <td>-1.078</td>\n",
       "      <td>-2.352</td>\n",
       "      <td>1.090</td>\n",
       "      <td>-2.312</td>\n",
       "      <td>-1.227</td>\n",
       "      <td>-3.571</td>\n",
       "      <td>-0.257</td>\n",
       "      <td>-1.201</td>\n",
       "    </tr>\n",
       "    <tr>\n",
       "      <th>8</th>\n",
       "      <td>2022</td>\n",
       "      <td>NaN</td>\n",
       "      <td>NaN</td>\n",
       "      <td>NaN</td>\n",
       "      <td>NaN</td>\n",
       "      <td>NaN</td>\n",
       "      <td>NaN</td>\n",
       "      <td>NaN</td>\n",
       "      <td>NaN</td>\n",
       "      <td>NaN</td>\n",
       "      <td>NaN</td>\n",
       "      <td>NaN</td>\n",
       "      <td>NaN</td>\n",
       "      <td>NaN</td>\n",
       "      <td>NaN</td>\n",
       "      <td>NaN</td>\n",
       "      <td>NaN</td>\n",
       "      <td>NaN</td>\n",
       "      <td>NaN</td>\n",
       "      <td>NaN</td>\n",
       "      <td>NaN</td>\n",
       "      <td>NaN</td>\n",
       "      <td>NaN</td>\n",
       "      <td>NaN</td>\n",
       "      <td>NaN</td>\n",
       "    </tr>\n",
       "  </tbody>\n",
       "</table>\n",
       "</div>"
      ],
      "text/plain": [
       "   season_start_year    PTS    AST    REB     STL     BLK    OREB   DREB   \n",
       "0               2014 -1.946 -3.358  0.959  -2.815   4.672  -1.525  1.860  \\\n",
       "1               2015 -3.110 -8.928 -0.949  -6.954   3.545   0.461 -1.419   \n",
       "2               2016  0.149 -6.103 -1.333  -1.255   0.445   1.343 -1.871   \n",
       "3               2017 -2.962 -3.387  1.534  -8.467  -4.001   5.362  0.554   \n",
       "4               2018 -2.084 -5.995 -3.281  -6.807 -13.233 -15.397  0.367   \n",
       "5               2019  2.463 -8.089  3.619 -10.544  -2.622  10.838  1.591   \n",
       "6               2020 -2.736 -9.050 -2.220  -6.181   1.154  -0.231 -2.858   \n",
       "7               2021  0.350 -4.237  0.850  -5.231   6.274  14.063 -2.615   \n",
       "8               2022    NaN    NaN    NaN     NaN     NaN     NaN    NaN   \n",
       "\n",
       "     FGM    FGA    FG3M    FG3A     FTM     FTA     TOV      GP  POSS_per_48   \n",
       "0 -3.602  0.456   6.962  12.348   2.216   4.145  -7.138 -86.906       -0.278  \\\n",
       "1 -4.382  0.708   1.590   6.089   1.086   4.233  -7.172 -84.928       -3.528   \n",
       "2 -1.288 -0.416   3.236   5.483   5.065   5.621  -0.686 -86.029       -2.872   \n",
       "3 -6.603  0.334   3.776  12.428  11.375  10.327  -5.636 -86.447       -0.081   \n",
       "4 -6.418 -2.675  17.618  17.617   5.999   4.324   2.498 -86.225       -2.817   \n",
       "5  2.067  2.662   4.319   3.832   3.417   2.187 -11.389 -82.859       -5.835   \n",
       "6 -5.096 -1.813  -4.320   1.089  10.684  10.079   4.528 -82.910       -3.329   \n",
       "7  0.503  1.597  -3.087  -0.752   2.441   1.336  -1.458 -88.991       -3.664   \n",
       "8    NaN    NaN     NaN     NaN     NaN     NaN     NaN     NaN          NaN   \n",
       "\n",
       "     FG%   3PT%    FT%   FG3A%  PTS/FGA  FG3M/FGM  FTA/FGA   TRU%  \n",
       "0 -4.040 -4.794 -1.853  11.838   -2.392    10.958    3.672 -2.806  \n",
       "1 -5.054 -4.241 -3.019   5.343   -3.791     6.245    3.500 -4.179  \n",
       "2 -0.876 -2.130 -0.527   5.923    0.567     4.583    6.062 -0.131  \n",
       "3 -6.914 -7.696  0.950  12.054   -3.285    11.113    9.959 -4.311  \n",
       "4 -3.846  0.001  1.607  20.850    0.608    25.685    7.191 -0.193  \n",
       "5 -0.580  0.468  1.204   1.140   -0.195     2.206   -0.463 -0.143  \n",
       "6 -3.344 -5.351  0.549   2.956   -0.940     0.818   12.112 -2.200  \n",
       "7 -1.078 -2.352  1.090  -2.312   -1.227    -3.571   -0.257 -1.201  \n",
       "8    NaN    NaN    NaN     NaN      NaN       NaN      NaN    NaN  "
      ]
     },
     "execution_count": 23,
     "metadata": {},
     "output_type": "execute_result"
    }
   ],
   "source": [
    "comp_change_df = round(100*(playoffs_change_df-rs_change_df)/rs_change_df,3)\n",
    "comp_change_df['season_start_year'] = list(range(2014,2023))\n",
    "comp_change_df"
   ]
  },
  {
   "cell_type": "code",
   "execution_count": 29,
   "metadata": {},
   "outputs": [
    {
     "data": {
      "application/vnd.plotly.v1+json": {
       "config": {
        "plotlyServerURL": "https://plot.ly"
       },
       "data": [
        {
         "name": "PTS",
         "type": "scatter",
         "x": [
          2014,
          2015,
          2016,
          2017,
          2018,
          2019,
          2020,
          2021,
          2022
         ],
         "y": [
          -1.946,
          -3.11,
          0.149,
          -2.962,
          -2.084,
          2.463,
          -2.736,
          0.35,
          null
         ]
        },
        {
         "name": "AST",
         "type": "scatter",
         "x": [
          2014,
          2015,
          2016,
          2017,
          2018,
          2019,
          2020,
          2021,
          2022
         ],
         "y": [
          -3.358,
          -8.928,
          -6.103,
          -3.387,
          -5.995,
          -8.089,
          -9.05,
          -4.237,
          null
         ]
        },
        {
         "name": "REB",
         "type": "scatter",
         "x": [
          2014,
          2015,
          2016,
          2017,
          2018,
          2019,
          2020,
          2021,
          2022
         ],
         "y": [
          0.959,
          -0.949,
          -1.333,
          1.534,
          -3.281,
          3.619,
          -2.22,
          0.85,
          null
         ]
        },
        {
         "name": "STL",
         "type": "scatter",
         "x": [
          2014,
          2015,
          2016,
          2017,
          2018,
          2019,
          2020,
          2021,
          2022
         ],
         "y": [
          -2.815,
          -6.954,
          -1.255,
          -8.467,
          -6.807,
          -10.544,
          -6.181,
          -5.231,
          null
         ]
        },
        {
         "name": "BLK",
         "type": "scatter",
         "x": [
          2014,
          2015,
          2016,
          2017,
          2018,
          2019,
          2020,
          2021,
          2022
         ],
         "y": [
          4.672,
          3.545,
          0.445,
          -4.001,
          -13.233,
          -2.622,
          1.154,
          6.274,
          null
         ]
        },
        {
         "name": "OREB",
         "type": "scatter",
         "x": [
          2014,
          2015,
          2016,
          2017,
          2018,
          2019,
          2020,
          2021,
          2022
         ],
         "y": [
          -1.525,
          0.461,
          1.343,
          5.362,
          -15.397,
          10.838,
          -0.231,
          14.063,
          null
         ]
        },
        {
         "name": "DREB",
         "type": "scatter",
         "x": [
          2014,
          2015,
          2016,
          2017,
          2018,
          2019,
          2020,
          2021,
          2022
         ],
         "y": [
          1.86,
          -1.419,
          -1.871,
          0.554,
          0.367,
          1.591,
          -2.858,
          -2.615,
          null
         ]
        },
        {
         "name": "FGM",
         "type": "scatter",
         "x": [
          2014,
          2015,
          2016,
          2017,
          2018,
          2019,
          2020,
          2021,
          2022
         ],
         "y": [
          -3.602,
          -4.382,
          -1.288,
          -6.603,
          -6.418,
          2.067,
          -5.096,
          0.503,
          null
         ]
        },
        {
         "name": "FGA",
         "type": "scatter",
         "x": [
          2014,
          2015,
          2016,
          2017,
          2018,
          2019,
          2020,
          2021,
          2022
         ],
         "y": [
          0.456,
          0.708,
          -0.416,
          0.334,
          -2.675,
          2.662,
          -1.813,
          1.597,
          null
         ]
        },
        {
         "name": "FG3M",
         "type": "scatter",
         "x": [
          2014,
          2015,
          2016,
          2017,
          2018,
          2019,
          2020,
          2021,
          2022
         ],
         "y": [
          6.962,
          1.59,
          3.236,
          3.776,
          17.618,
          4.319,
          -4.32,
          -3.087,
          null
         ]
        },
        {
         "name": "FG3A",
         "type": "scatter",
         "x": [
          2014,
          2015,
          2016,
          2017,
          2018,
          2019,
          2020,
          2021,
          2022
         ],
         "y": [
          12.348,
          6.089,
          5.483,
          12.428,
          17.617,
          3.832,
          1.089,
          -0.752,
          null
         ]
        },
        {
         "name": "FTM",
         "type": "scatter",
         "x": [
          2014,
          2015,
          2016,
          2017,
          2018,
          2019,
          2020,
          2021,
          2022
         ],
         "y": [
          2.216,
          1.086,
          5.065,
          11.375,
          5.999,
          3.417,
          10.684,
          2.441,
          null
         ]
        },
        {
         "name": "FTA",
         "type": "scatter",
         "x": [
          2014,
          2015,
          2016,
          2017,
          2018,
          2019,
          2020,
          2021,
          2022
         ],
         "y": [
          4.145,
          4.233,
          5.621,
          10.327,
          4.324,
          2.187,
          10.079,
          1.336,
          null
         ]
        },
        {
         "name": "TOV",
         "type": "scatter",
         "x": [
          2014,
          2015,
          2016,
          2017,
          2018,
          2019,
          2020,
          2021,
          2022
         ],
         "y": [
          -7.138,
          -7.172,
          -0.686,
          -5.636,
          2.498,
          -11.389,
          4.528,
          -1.458,
          null
         ]
        },
        {
         "name": "POSS_per_48",
         "type": "scatter",
         "x": [
          2014,
          2015,
          2016,
          2017,
          2018,
          2019,
          2020,
          2021,
          2022
         ],
         "y": [
          -0.278,
          -3.528,
          -2.872,
          -0.081,
          -2.817,
          -5.835,
          -3.329,
          -3.664,
          null
         ]
        },
        {
         "name": "FG%",
         "type": "scatter",
         "x": [
          2014,
          2015,
          2016,
          2017,
          2018,
          2019,
          2020,
          2021,
          2022
         ],
         "y": [
          -4.04,
          -5.054,
          -0.876,
          -6.914,
          -3.846,
          -0.58,
          -3.344,
          -1.078,
          null
         ]
        },
        {
         "name": "3PT%",
         "type": "scatter",
         "x": [
          2014,
          2015,
          2016,
          2017,
          2018,
          2019,
          2020,
          2021,
          2022
         ],
         "y": [
          -4.794,
          -4.241,
          -2.13,
          -7.696,
          0.001,
          0.468,
          -5.351,
          -2.352,
          null
         ]
        },
        {
         "name": "FT%",
         "type": "scatter",
         "x": [
          2014,
          2015,
          2016,
          2017,
          2018,
          2019,
          2020,
          2021,
          2022
         ],
         "y": [
          -1.853,
          -3.019,
          -0.527,
          0.95,
          1.607,
          1.204,
          0.549,
          1.09,
          null
         ]
        },
        {
         "name": "FG3A%",
         "type": "scatter",
         "x": [
          2014,
          2015,
          2016,
          2017,
          2018,
          2019,
          2020,
          2021,
          2022
         ],
         "y": [
          11.838,
          5.343,
          5.923,
          12.054,
          20.85,
          1.14,
          2.956,
          -2.312,
          null
         ]
        },
        {
         "name": "PTS/FGA",
         "type": "scatter",
         "x": [
          2014,
          2015,
          2016,
          2017,
          2018,
          2019,
          2020,
          2021,
          2022
         ],
         "y": [
          -2.392,
          -3.791,
          0.567,
          -3.285,
          0.608,
          -0.195,
          -0.94,
          -1.227,
          null
         ]
        },
        {
         "name": "FG3M/FGM",
         "type": "scatter",
         "x": [
          2014,
          2015,
          2016,
          2017,
          2018,
          2019,
          2020,
          2021,
          2022
         ],
         "y": [
          10.958,
          6.245,
          4.583,
          11.113,
          25.685,
          2.206,
          0.818,
          -3.571,
          null
         ]
        },
        {
         "name": "FTA/FGA",
         "type": "scatter",
         "x": [
          2014,
          2015,
          2016,
          2017,
          2018,
          2019,
          2020,
          2021,
          2022
         ],
         "y": [
          3.672,
          3.5,
          6.062,
          9.959,
          7.191,
          -0.463,
          12.112,
          -0.257,
          null
         ]
        },
        {
         "name": "TRU%",
         "type": "scatter",
         "x": [
          2014,
          2015,
          2016,
          2017,
          2018,
          2019,
          2020,
          2021,
          2022
         ],
         "y": [
          -2.806,
          -4.179,
          -0.131,
          -4.311,
          -0.193,
          -0.143,
          -2.2,
          -1.201,
          null
         ]
        }
       ],
       "layout": {
        "template": {
         "data": {
          "bar": [
           {
            "error_x": {
             "color": "#2a3f5f"
            },
            "error_y": {
             "color": "#2a3f5f"
            },
            "marker": {
             "line": {
              "color": "#E5ECF6",
              "width": 0.5
             },
             "pattern": {
              "fillmode": "overlay",
              "size": 10,
              "solidity": 0.2
             }
            },
            "type": "bar"
           }
          ],
          "barpolar": [
           {
            "marker": {
             "line": {
              "color": "#E5ECF6",
              "width": 0.5
             },
             "pattern": {
              "fillmode": "overlay",
              "size": 10,
              "solidity": 0.2
             }
            },
            "type": "barpolar"
           }
          ],
          "carpet": [
           {
            "aaxis": {
             "endlinecolor": "#2a3f5f",
             "gridcolor": "white",
             "linecolor": "white",
             "minorgridcolor": "white",
             "startlinecolor": "#2a3f5f"
            },
            "baxis": {
             "endlinecolor": "#2a3f5f",
             "gridcolor": "white",
             "linecolor": "white",
             "minorgridcolor": "white",
             "startlinecolor": "#2a3f5f"
            },
            "type": "carpet"
           }
          ],
          "choropleth": [
           {
            "colorbar": {
             "outlinewidth": 0,
             "ticks": ""
            },
            "type": "choropleth"
           }
          ],
          "contour": [
           {
            "colorbar": {
             "outlinewidth": 0,
             "ticks": ""
            },
            "colorscale": [
             [
              0,
              "#0d0887"
             ],
             [
              0.1111111111111111,
              "#46039f"
             ],
             [
              0.2222222222222222,
              "#7201a8"
             ],
             [
              0.3333333333333333,
              "#9c179e"
             ],
             [
              0.4444444444444444,
              "#bd3786"
             ],
             [
              0.5555555555555556,
              "#d8576b"
             ],
             [
              0.6666666666666666,
              "#ed7953"
             ],
             [
              0.7777777777777778,
              "#fb9f3a"
             ],
             [
              0.8888888888888888,
              "#fdca26"
             ],
             [
              1,
              "#f0f921"
             ]
            ],
            "type": "contour"
           }
          ],
          "contourcarpet": [
           {
            "colorbar": {
             "outlinewidth": 0,
             "ticks": ""
            },
            "type": "contourcarpet"
           }
          ],
          "heatmap": [
           {
            "colorbar": {
             "outlinewidth": 0,
             "ticks": ""
            },
            "colorscale": [
             [
              0,
              "#0d0887"
             ],
             [
              0.1111111111111111,
              "#46039f"
             ],
             [
              0.2222222222222222,
              "#7201a8"
             ],
             [
              0.3333333333333333,
              "#9c179e"
             ],
             [
              0.4444444444444444,
              "#bd3786"
             ],
             [
              0.5555555555555556,
              "#d8576b"
             ],
             [
              0.6666666666666666,
              "#ed7953"
             ],
             [
              0.7777777777777778,
              "#fb9f3a"
             ],
             [
              0.8888888888888888,
              "#fdca26"
             ],
             [
              1,
              "#f0f921"
             ]
            ],
            "type": "heatmap"
           }
          ],
          "heatmapgl": [
           {
            "colorbar": {
             "outlinewidth": 0,
             "ticks": ""
            },
            "colorscale": [
             [
              0,
              "#0d0887"
             ],
             [
              0.1111111111111111,
              "#46039f"
             ],
             [
              0.2222222222222222,
              "#7201a8"
             ],
             [
              0.3333333333333333,
              "#9c179e"
             ],
             [
              0.4444444444444444,
              "#bd3786"
             ],
             [
              0.5555555555555556,
              "#d8576b"
             ],
             [
              0.6666666666666666,
              "#ed7953"
             ],
             [
              0.7777777777777778,
              "#fb9f3a"
             ],
             [
              0.8888888888888888,
              "#fdca26"
             ],
             [
              1,
              "#f0f921"
             ]
            ],
            "type": "heatmapgl"
           }
          ],
          "histogram": [
           {
            "marker": {
             "pattern": {
              "fillmode": "overlay",
              "size": 10,
              "solidity": 0.2
             }
            },
            "type": "histogram"
           }
          ],
          "histogram2d": [
           {
            "colorbar": {
             "outlinewidth": 0,
             "ticks": ""
            },
            "colorscale": [
             [
              0,
              "#0d0887"
             ],
             [
              0.1111111111111111,
              "#46039f"
             ],
             [
              0.2222222222222222,
              "#7201a8"
             ],
             [
              0.3333333333333333,
              "#9c179e"
             ],
             [
              0.4444444444444444,
              "#bd3786"
             ],
             [
              0.5555555555555556,
              "#d8576b"
             ],
             [
              0.6666666666666666,
              "#ed7953"
             ],
             [
              0.7777777777777778,
              "#fb9f3a"
             ],
             [
              0.8888888888888888,
              "#fdca26"
             ],
             [
              1,
              "#f0f921"
             ]
            ],
            "type": "histogram2d"
           }
          ],
          "histogram2dcontour": [
           {
            "colorbar": {
             "outlinewidth": 0,
             "ticks": ""
            },
            "colorscale": [
             [
              0,
              "#0d0887"
             ],
             [
              0.1111111111111111,
              "#46039f"
             ],
             [
              0.2222222222222222,
              "#7201a8"
             ],
             [
              0.3333333333333333,
              "#9c179e"
             ],
             [
              0.4444444444444444,
              "#bd3786"
             ],
             [
              0.5555555555555556,
              "#d8576b"
             ],
             [
              0.6666666666666666,
              "#ed7953"
             ],
             [
              0.7777777777777778,
              "#fb9f3a"
             ],
             [
              0.8888888888888888,
              "#fdca26"
             ],
             [
              1,
              "#f0f921"
             ]
            ],
            "type": "histogram2dcontour"
           }
          ],
          "mesh3d": [
           {
            "colorbar": {
             "outlinewidth": 0,
             "ticks": ""
            },
            "type": "mesh3d"
           }
          ],
          "parcoords": [
           {
            "line": {
             "colorbar": {
              "outlinewidth": 0,
              "ticks": ""
             }
            },
            "type": "parcoords"
           }
          ],
          "pie": [
           {
            "automargin": true,
            "type": "pie"
           }
          ],
          "scatter": [
           {
            "fillpattern": {
             "fillmode": "overlay",
             "size": 10,
             "solidity": 0.2
            },
            "type": "scatter"
           }
          ],
          "scatter3d": [
           {
            "line": {
             "colorbar": {
              "outlinewidth": 0,
              "ticks": ""
             }
            },
            "marker": {
             "colorbar": {
              "outlinewidth": 0,
              "ticks": ""
             }
            },
            "type": "scatter3d"
           }
          ],
          "scattercarpet": [
           {
            "marker": {
             "colorbar": {
              "outlinewidth": 0,
              "ticks": ""
             }
            },
            "type": "scattercarpet"
           }
          ],
          "scattergeo": [
           {
            "marker": {
             "colorbar": {
              "outlinewidth": 0,
              "ticks": ""
             }
            },
            "type": "scattergeo"
           }
          ],
          "scattergl": [
           {
            "marker": {
             "colorbar": {
              "outlinewidth": 0,
              "ticks": ""
             }
            },
            "type": "scattergl"
           }
          ],
          "scattermapbox": [
           {
            "marker": {
             "colorbar": {
              "outlinewidth": 0,
              "ticks": ""
             }
            },
            "type": "scattermapbox"
           }
          ],
          "scatterpolar": [
           {
            "marker": {
             "colorbar": {
              "outlinewidth": 0,
              "ticks": ""
             }
            },
            "type": "scatterpolar"
           }
          ],
          "scatterpolargl": [
           {
            "marker": {
             "colorbar": {
              "outlinewidth": 0,
              "ticks": ""
             }
            },
            "type": "scatterpolargl"
           }
          ],
          "scatterternary": [
           {
            "marker": {
             "colorbar": {
              "outlinewidth": 0,
              "ticks": ""
             }
            },
            "type": "scatterternary"
           }
          ],
          "surface": [
           {
            "colorbar": {
             "outlinewidth": 0,
             "ticks": ""
            },
            "colorscale": [
             [
              0,
              "#0d0887"
             ],
             [
              0.1111111111111111,
              "#46039f"
             ],
             [
              0.2222222222222222,
              "#7201a8"
             ],
             [
              0.3333333333333333,
              "#9c179e"
             ],
             [
              0.4444444444444444,
              "#bd3786"
             ],
             [
              0.5555555555555556,
              "#d8576b"
             ],
             [
              0.6666666666666666,
              "#ed7953"
             ],
             [
              0.7777777777777778,
              "#fb9f3a"
             ],
             [
              0.8888888888888888,
              "#fdca26"
             ],
             [
              1,
              "#f0f921"
             ]
            ],
            "type": "surface"
           }
          ],
          "table": [
           {
            "cells": {
             "fill": {
              "color": "#EBF0F8"
             },
             "line": {
              "color": "white"
             }
            },
            "header": {
             "fill": {
              "color": "#C8D4E3"
             },
             "line": {
              "color": "white"
             }
            },
            "type": "table"
           }
          ]
         },
         "layout": {
          "annotationdefaults": {
           "arrowcolor": "#2a3f5f",
           "arrowhead": 0,
           "arrowwidth": 1
          },
          "autotypenumbers": "strict",
          "coloraxis": {
           "colorbar": {
            "outlinewidth": 0,
            "ticks": ""
           }
          },
          "colorscale": {
           "diverging": [
            [
             0,
             "#8e0152"
            ],
            [
             0.1,
             "#c51b7d"
            ],
            [
             0.2,
             "#de77ae"
            ],
            [
             0.3,
             "#f1b6da"
            ],
            [
             0.4,
             "#fde0ef"
            ],
            [
             0.5,
             "#f7f7f7"
            ],
            [
             0.6,
             "#e6f5d0"
            ],
            [
             0.7,
             "#b8e186"
            ],
            [
             0.8,
             "#7fbc41"
            ],
            [
             0.9,
             "#4d9221"
            ],
            [
             1,
             "#276419"
            ]
           ],
           "sequential": [
            [
             0,
             "#0d0887"
            ],
            [
             0.1111111111111111,
             "#46039f"
            ],
            [
             0.2222222222222222,
             "#7201a8"
            ],
            [
             0.3333333333333333,
             "#9c179e"
            ],
            [
             0.4444444444444444,
             "#bd3786"
            ],
            [
             0.5555555555555556,
             "#d8576b"
            ],
            [
             0.6666666666666666,
             "#ed7953"
            ],
            [
             0.7777777777777778,
             "#fb9f3a"
            ],
            [
             0.8888888888888888,
             "#fdca26"
            ],
            [
             1,
             "#f0f921"
            ]
           ],
           "sequentialminus": [
            [
             0,
             "#0d0887"
            ],
            [
             0.1111111111111111,
             "#46039f"
            ],
            [
             0.2222222222222222,
             "#7201a8"
            ],
            [
             0.3333333333333333,
             "#9c179e"
            ],
            [
             0.4444444444444444,
             "#bd3786"
            ],
            [
             0.5555555555555556,
             "#d8576b"
            ],
            [
             0.6666666666666666,
             "#ed7953"
            ],
            [
             0.7777777777777778,
             "#fb9f3a"
            ],
            [
             0.8888888888888888,
             "#fdca26"
            ],
            [
             1,
             "#f0f921"
            ]
           ]
          },
          "colorway": [
           "#636efa",
           "#EF553B",
           "#00cc96",
           "#ab63fa",
           "#FFA15A",
           "#19d3f3",
           "#FF6692",
           "#B6E880",
           "#FF97FF",
           "#FECB52"
          ],
          "font": {
           "color": "#2a3f5f"
          },
          "geo": {
           "bgcolor": "white",
           "lakecolor": "white",
           "landcolor": "#E5ECF6",
           "showlakes": true,
           "showland": true,
           "subunitcolor": "white"
          },
          "hoverlabel": {
           "align": "left"
          },
          "hovermode": "closest",
          "mapbox": {
           "style": "light"
          },
          "paper_bgcolor": "white",
          "plot_bgcolor": "#E5ECF6",
          "polar": {
           "angularaxis": {
            "gridcolor": "white",
            "linecolor": "white",
            "ticks": ""
           },
           "bgcolor": "#E5ECF6",
           "radialaxis": {
            "gridcolor": "white",
            "linecolor": "white",
            "ticks": ""
           }
          },
          "scene": {
           "xaxis": {
            "backgroundcolor": "#E5ECF6",
            "gridcolor": "white",
            "gridwidth": 2,
            "linecolor": "white",
            "showbackground": true,
            "ticks": "",
            "zerolinecolor": "white"
           },
           "yaxis": {
            "backgroundcolor": "#E5ECF6",
            "gridcolor": "white",
            "gridwidth": 2,
            "linecolor": "white",
            "showbackground": true,
            "ticks": "",
            "zerolinecolor": "white"
           },
           "zaxis": {
            "backgroundcolor": "#E5ECF6",
            "gridcolor": "white",
            "gridwidth": 2,
            "linecolor": "white",
            "showbackground": true,
            "ticks": "",
            "zerolinecolor": "white"
           }
          },
          "shapedefaults": {
           "line": {
            "color": "#2a3f5f"
           }
          },
          "ternary": {
           "aaxis": {
            "gridcolor": "white",
            "linecolor": "white",
            "ticks": ""
           },
           "baxis": {
            "gridcolor": "white",
            "linecolor": "white",
            "ticks": ""
           },
           "bgcolor": "#E5ECF6",
           "caxis": {
            "gridcolor": "white",
            "linecolor": "white",
            "ticks": ""
           }
          },
          "title": {
           "x": 0.05
          },
          "xaxis": {
           "automargin": true,
           "gridcolor": "white",
           "linecolor": "white",
           "ticks": "",
           "title": {
            "standoff": 15
           },
           "zerolinecolor": "white",
           "zerolinewidth": 2
          },
          "yaxis": {
           "automargin": true,
           "gridcolor": "white",
           "linecolor": "white",
           "ticks": "",
           "title": {
            "standoff": 15
           },
           "zerolinecolor": "white",
           "zerolinewidth": 2
          }
         }
        }
       }
      }
     },
     "metadata": {},
     "output_type": "display_data"
    }
   ],
   "source": [
    "\n",
    "\n",
    "fig = go.Figure()\n",
    "for col in comp_change_df.columns[1:]:\n",
    "   fig.add_trace(go.Scatter(x=comp_change_df['season_start_year'],\n",
    "                            y=comp_change_df[col], name=col))\n",
    "\n",
    "\n",
    "\n",
    "fig.show()"
   ]
  }
 ],
 "metadata": {
  "kernelspec": {
   "display_name": "minimal",
   "language": "python",
   "name": "python3"
  },
  "language_info": {
   "codemirror_mode": {
    "name": "ipython",
    "version": 3
   },
   "file_extension": ".py",
   "mimetype": "text/x-python",
   "name": "python",
   "nbconvert_exporter": "python",
   "pygments_lexer": "ipython3",
   "version": "3.10.10"
  },
  "orig_nbformat": 4
 },
 "nbformat": 4,
 "nbformat_minor": 2
}
